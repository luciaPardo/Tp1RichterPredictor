{
 "cells": [
  {
   "cell_type": "markdown",
   "id": "eaefbc05-261f-467e-b944-c6162a57b6b6",
   "metadata": {},
   "source": [
    "### IMPORTS"
   ]
  },
  {
   "cell_type": "code",
   "execution_count": 342,
   "id": "a6e31a86-e34e-4083-a42b-b8ac279ed0fd",
   "metadata": {},
   "outputs": [],
   "source": [
    "import pandas as pd\n",
    "import numpy as np\n",
    "import sklearn\n",
    "\n",
    "from sklearn.model_selection import cross_val_score\n",
    "from sklearn.model_selection import train_test_split\n",
    "from sklearn.model_selection import GridSearchCV\n",
    "from sklearn.metrics import f1_score\n",
    "from xgboost import XGBRegressor\n",
    "from xgboost import XGBClassifier"
   ]
  },
  {
   "cell_type": "markdown",
   "id": "15b78f05-d855-4511-abe6-7658fa3c3a66",
   "metadata": {},
   "source": [
    "### READING CSVs"
   ]
  },
  {
   "cell_type": "code",
   "execution_count": 343,
   "id": "9ba24f15-68f8-470e-b2a1-1288849feacc",
   "metadata": {},
   "outputs": [],
   "source": [
    "train_values = pd.read_pickle('../cleaned_train.pkl')  #CLEANED\n",
    "train_labels = pd.read_csv('../TP1/train_labels.csv')\n",
    "test_values = pd.read_pickle('../cleaned_test.pkl') #CLEANED"
   ]
  },
  {
   "cell_type": "markdown",
   "id": "4f88cc5b-14e6-4941-bff2-98641c038037",
   "metadata": {},
   "source": [
    "### FEATURE ENGINEERING "
   ]
  },
  {
   "cell_type": "code",
   "execution_count": 344,
   "id": "334eb2ab-53df-4fa5-8aa3-fbee88c75d58",
   "metadata": {},
   "outputs": [
    {
     "data": {
      "text/plain": [
       "Index(['building_id', 'damage_grade', 'geo_level_1_id', 'geo_level_2_id',\n",
       "       'geo_level_3_id', 'count_floors_pre_eq', 'age', 'area_percentage',\n",
       "       'height_percentage', 'land_surface_condition', 'foundation_type',\n",
       "       'roof_type', 'ground_floor_type', 'other_floor_type', 'position',\n",
       "       'plan_configuration', 'has_superstructure_adobe_mud',\n",
       "       'has_superstructure_mud_mortar_stone', 'has_superstructure_stone_flag',\n",
       "       'has_superstructure_cement_mortar_stone',\n",
       "       'has_superstructure_mud_mortar_brick',\n",
       "       'has_superstructure_cement_mortar_brick', 'has_superstructure_timber',\n",
       "       'has_superstructure_bamboo', 'has_superstructure_rc_non_engineered',\n",
       "       'has_superstructure_rc_engineered', 'has_superstructure_other',\n",
       "       'legal_ownership_status', 'count_families', 'has_secondary_use',\n",
       "       'has_secondary_use_agriculture', 'has_secondary_use_hotel',\n",
       "       'has_secondary_use_rental', 'has_secondary_use_institution',\n",
       "       'has_secondary_use_school', 'has_secondary_use_industry',\n",
       "       'has_secondary_use_health_post', 'has_secondary_use_gov_office',\n",
       "       'has_secondary_use_use_police', 'has_secondary_use_other'],\n",
       "      dtype='object')"
      ]
     },
     "execution_count": 344,
     "metadata": {},
     "output_type": "execute_result"
    }
   ],
   "source": [
    "train_values.columns"
   ]
  },
  {
   "cell_type": "code",
   "execution_count": 354,
   "id": "bdb99db8-0aaf-43df-993d-4fdc186bc645",
   "metadata": {},
   "outputs": [
    {
     "data": {
      "text/html": [
       "<div>\n",
       "<style scoped>\n",
       "    .dataframe tbody tr th:only-of-type {\n",
       "        vertical-align: middle;\n",
       "    }\n",
       "\n",
       "    .dataframe tbody tr th {\n",
       "        vertical-align: top;\n",
       "    }\n",
       "\n",
       "    .dataframe thead th {\n",
       "        text-align: right;\n",
       "    }\n",
       "</style>\n",
       "<table border=\"1\" class=\"dataframe\">\n",
       "  <thead>\n",
       "    <tr style=\"text-align: right;\">\n",
       "      <th></th>\n",
       "      <th>geo_level_1_id</th>\n",
       "      <th>geo_level_2_id</th>\n",
       "      <th>geo_level_3_id</th>\n",
       "      <th>count_floors_pre_eq</th>\n",
       "      <th>age</th>\n",
       "      <th>area_percentage</th>\n",
       "      <th>height_percentage</th>\n",
       "      <th>has_superstructure_adobe_mud</th>\n",
       "      <th>has_superstructure_mud_mortar_stone</th>\n",
       "      <th>has_superstructure_stone_flag</th>\n",
       "      <th>...</th>\n",
       "      <th>plan_configuration_m</th>\n",
       "      <th>plan_configuration_n</th>\n",
       "      <th>plan_configuration_o</th>\n",
       "      <th>plan_configuration_q</th>\n",
       "      <th>plan_configuration_s</th>\n",
       "      <th>plan_configuration_u</th>\n",
       "      <th>legal_ownership_status_a</th>\n",
       "      <th>legal_ownership_status_r</th>\n",
       "      <th>legal_ownership_status_v</th>\n",
       "      <th>legal_ownership_status_w</th>\n",
       "    </tr>\n",
       "  </thead>\n",
       "  <tbody>\n",
       "    <tr>\n",
       "      <th>0</th>\n",
       "      <td>6</td>\n",
       "      <td>487</td>\n",
       "      <td>12198</td>\n",
       "      <td>2</td>\n",
       "      <td>30</td>\n",
       "      <td>6</td>\n",
       "      <td>5</td>\n",
       "      <td>True</td>\n",
       "      <td>True</td>\n",
       "      <td>False</td>\n",
       "      <td>...</td>\n",
       "      <td>0</td>\n",
       "      <td>0</td>\n",
       "      <td>0</td>\n",
       "      <td>0</td>\n",
       "      <td>0</td>\n",
       "      <td>0</td>\n",
       "      <td>0</td>\n",
       "      <td>0</td>\n",
       "      <td>1</td>\n",
       "      <td>0</td>\n",
       "    </tr>\n",
       "    <tr>\n",
       "      <th>1</th>\n",
       "      <td>8</td>\n",
       "      <td>900</td>\n",
       "      <td>2812</td>\n",
       "      <td>2</td>\n",
       "      <td>10</td>\n",
       "      <td>8</td>\n",
       "      <td>7</td>\n",
       "      <td>False</td>\n",
       "      <td>True</td>\n",
       "      <td>False</td>\n",
       "      <td>...</td>\n",
       "      <td>0</td>\n",
       "      <td>0</td>\n",
       "      <td>0</td>\n",
       "      <td>0</td>\n",
       "      <td>0</td>\n",
       "      <td>0</td>\n",
       "      <td>0</td>\n",
       "      <td>0</td>\n",
       "      <td>1</td>\n",
       "      <td>0</td>\n",
       "    </tr>\n",
       "    <tr>\n",
       "      <th>2</th>\n",
       "      <td>21</td>\n",
       "      <td>363</td>\n",
       "      <td>8973</td>\n",
       "      <td>2</td>\n",
       "      <td>10</td>\n",
       "      <td>5</td>\n",
       "      <td>5</td>\n",
       "      <td>False</td>\n",
       "      <td>True</td>\n",
       "      <td>False</td>\n",
       "      <td>...</td>\n",
       "      <td>0</td>\n",
       "      <td>0</td>\n",
       "      <td>0</td>\n",
       "      <td>0</td>\n",
       "      <td>0</td>\n",
       "      <td>0</td>\n",
       "      <td>0</td>\n",
       "      <td>0</td>\n",
       "      <td>1</td>\n",
       "      <td>0</td>\n",
       "    </tr>\n",
       "    <tr>\n",
       "      <th>3</th>\n",
       "      <td>22</td>\n",
       "      <td>418</td>\n",
       "      <td>10694</td>\n",
       "      <td>2</td>\n",
       "      <td>10</td>\n",
       "      <td>6</td>\n",
       "      <td>5</td>\n",
       "      <td>False</td>\n",
       "      <td>True</td>\n",
       "      <td>False</td>\n",
       "      <td>...</td>\n",
       "      <td>0</td>\n",
       "      <td>0</td>\n",
       "      <td>0</td>\n",
       "      <td>0</td>\n",
       "      <td>0</td>\n",
       "      <td>0</td>\n",
       "      <td>0</td>\n",
       "      <td>0</td>\n",
       "      <td>1</td>\n",
       "      <td>0</td>\n",
       "    </tr>\n",
       "    <tr>\n",
       "      <th>4</th>\n",
       "      <td>11</td>\n",
       "      <td>131</td>\n",
       "      <td>1488</td>\n",
       "      <td>3</td>\n",
       "      <td>30</td>\n",
       "      <td>8</td>\n",
       "      <td>9</td>\n",
       "      <td>True</td>\n",
       "      <td>False</td>\n",
       "      <td>False</td>\n",
       "      <td>...</td>\n",
       "      <td>0</td>\n",
       "      <td>0</td>\n",
       "      <td>0</td>\n",
       "      <td>0</td>\n",
       "      <td>0</td>\n",
       "      <td>0</td>\n",
       "      <td>0</td>\n",
       "      <td>0</td>\n",
       "      <td>1</td>\n",
       "      <td>0</td>\n",
       "    </tr>\n",
       "    <tr>\n",
       "      <th>...</th>\n",
       "      <td>...</td>\n",
       "      <td>...</td>\n",
       "      <td>...</td>\n",
       "      <td>...</td>\n",
       "      <td>...</td>\n",
       "      <td>...</td>\n",
       "      <td>...</td>\n",
       "      <td>...</td>\n",
       "      <td>...</td>\n",
       "      <td>...</td>\n",
       "      <td>...</td>\n",
       "      <td>...</td>\n",
       "      <td>...</td>\n",
       "      <td>...</td>\n",
       "      <td>...</td>\n",
       "      <td>...</td>\n",
       "      <td>...</td>\n",
       "      <td>...</td>\n",
       "      <td>...</td>\n",
       "      <td>...</td>\n",
       "      <td>...</td>\n",
       "    </tr>\n",
       "    <tr>\n",
       "      <th>260596</th>\n",
       "      <td>25</td>\n",
       "      <td>1335</td>\n",
       "      <td>1621</td>\n",
       "      <td>1</td>\n",
       "      <td>55</td>\n",
       "      <td>6</td>\n",
       "      <td>3</td>\n",
       "      <td>False</td>\n",
       "      <td>True</td>\n",
       "      <td>False</td>\n",
       "      <td>...</td>\n",
       "      <td>0</td>\n",
       "      <td>0</td>\n",
       "      <td>0</td>\n",
       "      <td>1</td>\n",
       "      <td>0</td>\n",
       "      <td>0</td>\n",
       "      <td>0</td>\n",
       "      <td>0</td>\n",
       "      <td>1</td>\n",
       "      <td>0</td>\n",
       "    </tr>\n",
       "    <tr>\n",
       "      <th>260597</th>\n",
       "      <td>17</td>\n",
       "      <td>715</td>\n",
       "      <td>2060</td>\n",
       "      <td>2</td>\n",
       "      <td>0</td>\n",
       "      <td>6</td>\n",
       "      <td>5</td>\n",
       "      <td>False</td>\n",
       "      <td>True</td>\n",
       "      <td>False</td>\n",
       "      <td>...</td>\n",
       "      <td>0</td>\n",
       "      <td>0</td>\n",
       "      <td>0</td>\n",
       "      <td>0</td>\n",
       "      <td>0</td>\n",
       "      <td>0</td>\n",
       "      <td>0</td>\n",
       "      <td>0</td>\n",
       "      <td>1</td>\n",
       "      <td>0</td>\n",
       "    </tr>\n",
       "    <tr>\n",
       "      <th>260598</th>\n",
       "      <td>17</td>\n",
       "      <td>51</td>\n",
       "      <td>8163</td>\n",
       "      <td>3</td>\n",
       "      <td>55</td>\n",
       "      <td>6</td>\n",
       "      <td>7</td>\n",
       "      <td>False</td>\n",
       "      <td>True</td>\n",
       "      <td>False</td>\n",
       "      <td>...</td>\n",
       "      <td>0</td>\n",
       "      <td>0</td>\n",
       "      <td>0</td>\n",
       "      <td>0</td>\n",
       "      <td>0</td>\n",
       "      <td>0</td>\n",
       "      <td>0</td>\n",
       "      <td>0</td>\n",
       "      <td>1</td>\n",
       "      <td>0</td>\n",
       "    </tr>\n",
       "    <tr>\n",
       "      <th>260599</th>\n",
       "      <td>26</td>\n",
       "      <td>39</td>\n",
       "      <td>1851</td>\n",
       "      <td>2</td>\n",
       "      <td>10</td>\n",
       "      <td>14</td>\n",
       "      <td>6</td>\n",
       "      <td>False</td>\n",
       "      <td>False</td>\n",
       "      <td>False</td>\n",
       "      <td>...</td>\n",
       "      <td>0</td>\n",
       "      <td>0</td>\n",
       "      <td>0</td>\n",
       "      <td>0</td>\n",
       "      <td>0</td>\n",
       "      <td>0</td>\n",
       "      <td>0</td>\n",
       "      <td>0</td>\n",
       "      <td>1</td>\n",
       "      <td>0</td>\n",
       "    </tr>\n",
       "    <tr>\n",
       "      <th>260600</th>\n",
       "      <td>21</td>\n",
       "      <td>9</td>\n",
       "      <td>9101</td>\n",
       "      <td>3</td>\n",
       "      <td>10</td>\n",
       "      <td>7</td>\n",
       "      <td>6</td>\n",
       "      <td>False</td>\n",
       "      <td>True</td>\n",
       "      <td>False</td>\n",
       "      <td>...</td>\n",
       "      <td>0</td>\n",
       "      <td>0</td>\n",
       "      <td>0</td>\n",
       "      <td>0</td>\n",
       "      <td>0</td>\n",
       "      <td>0</td>\n",
       "      <td>0</td>\n",
       "      <td>0</td>\n",
       "      <td>1</td>\n",
       "      <td>0</td>\n",
       "    </tr>\n",
       "  </tbody>\n",
       "</table>\n",
       "<p>260601 rows × 57 columns</p>\n",
       "</div>"
      ],
      "text/plain": [
       "        geo_level_1_id  geo_level_2_id  geo_level_3_id  count_floors_pre_eq  \\\n",
       "0                    6             487           12198                    2   \n",
       "1                    8             900            2812                    2   \n",
       "2                   21             363            8973                    2   \n",
       "3                   22             418           10694                    2   \n",
       "4                   11             131            1488                    3   \n",
       "...                ...             ...             ...                  ...   \n",
       "260596              25            1335            1621                    1   \n",
       "260597              17             715            2060                    2   \n",
       "260598              17              51            8163                    3   \n",
       "260599              26              39            1851                    2   \n",
       "260600              21               9            9101                    3   \n",
       "\n",
       "        age  area_percentage  height_percentage  has_superstructure_adobe_mud  \\\n",
       "0        30                6                  5                          True   \n",
       "1        10                8                  7                         False   \n",
       "2        10                5                  5                         False   \n",
       "3        10                6                  5                         False   \n",
       "4        30                8                  9                          True   \n",
       "...     ...              ...                ...                           ...   \n",
       "260596   55                6                  3                         False   \n",
       "260597    0                6                  5                         False   \n",
       "260598   55                6                  7                         False   \n",
       "260599   10               14                  6                         False   \n",
       "260600   10                7                  6                         False   \n",
       "\n",
       "        has_superstructure_mud_mortar_stone  has_superstructure_stone_flag  \\\n",
       "0                                      True                          False   \n",
       "1                                      True                          False   \n",
       "2                                      True                          False   \n",
       "3                                      True                          False   \n",
       "4                                     False                          False   \n",
       "...                                     ...                            ...   \n",
       "260596                                 True                          False   \n",
       "260597                                 True                          False   \n",
       "260598                                 True                          False   \n",
       "260599                                False                          False   \n",
       "260600                                 True                          False   \n",
       "\n",
       "        ...  plan_configuration_m  plan_configuration_n  plan_configuration_o  \\\n",
       "0       ...                     0                     0                     0   \n",
       "1       ...                     0                     0                     0   \n",
       "2       ...                     0                     0                     0   \n",
       "3       ...                     0                     0                     0   \n",
       "4       ...                     0                     0                     0   \n",
       "...     ...                   ...                   ...                   ...   \n",
       "260596  ...                     0                     0                     0   \n",
       "260597  ...                     0                     0                     0   \n",
       "260598  ...                     0                     0                     0   \n",
       "260599  ...                     0                     0                     0   \n",
       "260600  ...                     0                     0                     0   \n",
       "\n",
       "        plan_configuration_q  plan_configuration_s  plan_configuration_u  \\\n",
       "0                          0                     0                     0   \n",
       "1                          0                     0                     0   \n",
       "2                          0                     0                     0   \n",
       "3                          0                     0                     0   \n",
       "4                          0                     0                     0   \n",
       "...                      ...                   ...                   ...   \n",
       "260596                     1                     0                     0   \n",
       "260597                     0                     0                     0   \n",
       "260598                     0                     0                     0   \n",
       "260599                     0                     0                     0   \n",
       "260600                     0                     0                     0   \n",
       "\n",
       "        legal_ownership_status_a  legal_ownership_status_r  \\\n",
       "0                              0                         0   \n",
       "1                              0                         0   \n",
       "2                              0                         0   \n",
       "3                              0                         0   \n",
       "4                              0                         0   \n",
       "...                          ...                       ...   \n",
       "260596                         0                         0   \n",
       "260597                         0                         0   \n",
       "260598                         0                         0   \n",
       "260599                         0                         0   \n",
       "260600                         0                         0   \n",
       "\n",
       "        legal_ownership_status_v  legal_ownership_status_w  \n",
       "0                              1                         0  \n",
       "1                              1                         0  \n",
       "2                              1                         0  \n",
       "3                              1                         0  \n",
       "4                              1                         0  \n",
       "...                          ...                       ...  \n",
       "260596                         1                         0  \n",
       "260597                         1                         0  \n",
       "260598                         1                         0  \n",
       "260599                         1                         0  \n",
       "260600                         1                         0  \n",
       "\n",
       "[260601 rows x 57 columns]"
      ]
     },
     "execution_count": 354,
     "metadata": {},
     "output_type": "execute_result"
    }
   ],
   "source": [
    "selected_features = ['geo_level_1_id', 'geo_level_2_id',\n",
    "       'geo_level_3_id', 'count_floors_pre_eq', 'age', 'area_percentage',\n",
    "       'height_percentage', 'land_surface_condition', 'foundation_type',\n",
    "       'roof_type', 'ground_floor_type', 'other_floor_type', 'position',\n",
    "       'plan_configuration', 'has_superstructure_adobe_mud',\n",
    "       'has_superstructure_mud_mortar_stone', 'has_superstructure_stone_flag',\n",
    "       'has_superstructure_cement_mortar_stone',\n",
    "       'has_superstructure_mud_mortar_brick',\n",
    "       'has_superstructure_cement_mortar_brick', 'has_superstructure_timber',\n",
    "       'has_superstructure_bamboo', 'has_superstructure_rc_non_engineered',\n",
    "       'has_superstructure_rc_engineered', 'has_superstructure_other',\n",
    "       'legal_ownership_status', 'count_families']\n",
    "\n",
    "#ONE HOT ENCODING\n",
    "train_values_subset = train_values[selected_features]\n",
    "train_values_subset = pd.get_dummies(train_values_subset)\n",
    "\n",
    "train_values_subset"
   ]
  },
  {
   "cell_type": "markdown",
   "id": "e4407b0f-df5f-458c-8427-ce96cbf43011",
   "metadata": {},
   "source": [
    "### TRYING XGBOOST WITH CROSS VALIDATION"
   ]
  },
  {
   "cell_type": "code",
   "execution_count": 346,
   "id": "31732530-7b71-4918-9152-ef0f5d6a1ab0",
   "metadata": {},
   "outputs": [],
   "source": [
    "X = train_values_subset.to_numpy()\n",
    "y = train_labels.damage_grade.to_numpy()"
   ]
  },
  {
   "cell_type": "code",
   "execution_count": 347,
   "id": "dac7d85b-6da6-4bda-aecf-dc784ba4dc57",
   "metadata": {},
   "outputs": [],
   "source": [
    "xg_class = XGBClassifier(colsample_bytree = 0.5,\n",
    "                         gamma = 0.9,\n",
    "                         learning_rate = 0.5,\n",
    "                         max_depth = 9,\n",
    "                         min_child_weight = 0,\n",
    "                         n_estimators = 128)"
   ]
  },
  {
   "cell_type": "code",
   "execution_count": 348,
   "id": "adfec609-2159-456d-96c6-b73866bbe8f4",
   "metadata": {},
   "outputs": [
    {
     "name": "stderr",
     "output_type": "stream",
     "text": [
      "/home/mauricio/.local/lib/python3.8/site-packages/xgboost/sklearn.py:1146: UserWarning: The use of label encoder in XGBClassifier is deprecated and will be removed in a future release. To remove this warning, do the following: 1) Pass option use_label_encoder=False when constructing XGBClassifier object; and 2) Encode your labels (y) as integers starting with 0, i.e. 0, 1, 2, ..., [num_class - 1].\n",
      "  warnings.warn(label_encoder_deprecation_msg, UserWarning)\n"
     ]
    },
    {
     "name": "stdout",
     "output_type": "stream",
     "text": [
      "[14:23:22] WARNING: ../src/learner.cc:1095: Starting in XGBoost 1.3.0, the default evaluation metric used with the objective 'multi:softprob' was changed from 'merror' to 'mlogloss'. Explicitly set eval_metric if you'd like to restore the old behavior.\n"
     ]
    },
    {
     "name": "stderr",
     "output_type": "stream",
     "text": [
      "/home/mauricio/.local/lib/python3.8/site-packages/xgboost/sklearn.py:1146: UserWarning: The use of label encoder in XGBClassifier is deprecated and will be removed in a future release. To remove this warning, do the following: 1) Pass option use_label_encoder=False when constructing XGBClassifier object; and 2) Encode your labels (y) as integers starting with 0, i.e. 0, 1, 2, ..., [num_class - 1].\n",
      "  warnings.warn(label_encoder_deprecation_msg, UserWarning)\n"
     ]
    },
    {
     "name": "stdout",
     "output_type": "stream",
     "text": [
      "[14:23:38] WARNING: ../src/learner.cc:1095: Starting in XGBoost 1.3.0, the default evaluation metric used with the objective 'multi:softprob' was changed from 'merror' to 'mlogloss'. Explicitly set eval_metric if you'd like to restore the old behavior.\n"
     ]
    },
    {
     "name": "stderr",
     "output_type": "stream",
     "text": [
      "/home/mauricio/.local/lib/python3.8/site-packages/xgboost/sklearn.py:1146: UserWarning: The use of label encoder in XGBClassifier is deprecated and will be removed in a future release. To remove this warning, do the following: 1) Pass option use_label_encoder=False when constructing XGBClassifier object; and 2) Encode your labels (y) as integers starting with 0, i.e. 0, 1, 2, ..., [num_class - 1].\n",
      "  warnings.warn(label_encoder_deprecation_msg, UserWarning)\n"
     ]
    },
    {
     "name": "stdout",
     "output_type": "stream",
     "text": [
      "[14:23:53] WARNING: ../src/learner.cc:1095: Starting in XGBoost 1.3.0, the default evaluation metric used with the objective 'multi:softprob' was changed from 'merror' to 'mlogloss'. Explicitly set eval_metric if you'd like to restore the old behavior.\n"
     ]
    },
    {
     "name": "stderr",
     "output_type": "stream",
     "text": [
      "/home/mauricio/.local/lib/python3.8/site-packages/xgboost/sklearn.py:1146: UserWarning: The use of label encoder in XGBClassifier is deprecated and will be removed in a future release. To remove this warning, do the following: 1) Pass option use_label_encoder=False when constructing XGBClassifier object; and 2) Encode your labels (y) as integers starting with 0, i.e. 0, 1, 2, ..., [num_class - 1].\n",
      "  warnings.warn(label_encoder_deprecation_msg, UserWarning)\n"
     ]
    },
    {
     "name": "stdout",
     "output_type": "stream",
     "text": [
      "[14:24:09] WARNING: ../src/learner.cc:1095: Starting in XGBoost 1.3.0, the default evaluation metric used with the objective 'multi:softprob' was changed from 'merror' to 'mlogloss'. Explicitly set eval_metric if you'd like to restore the old behavior.\n"
     ]
    },
    {
     "name": "stderr",
     "output_type": "stream",
     "text": [
      "/home/mauricio/.local/lib/python3.8/site-packages/xgboost/sklearn.py:1146: UserWarning: The use of label encoder in XGBClassifier is deprecated and will be removed in a future release. To remove this warning, do the following: 1) Pass option use_label_encoder=False when constructing XGBClassifier object; and 2) Encode your labels (y) as integers starting with 0, i.e. 0, 1, 2, ..., [num_class - 1].\n",
      "  warnings.warn(label_encoder_deprecation_msg, UserWarning)\n"
     ]
    },
    {
     "name": "stdout",
     "output_type": "stream",
     "text": [
      "[14:24:24] WARNING: ../src/learner.cc:1095: Starting in XGBoost 1.3.0, the default evaluation metric used with the objective 'multi:softprob' was changed from 'merror' to 'mlogloss'. Explicitly set eval_metric if you'd like to restore the old behavior.\n"
     ]
    }
   ],
   "source": [
    "scores = cross_val_score(xg_class, X, y=y, scoring='f1_micro')"
   ]
  },
  {
   "cell_type": "code",
   "execution_count": 349,
   "id": "6682edd0-1124-44b5-8b23-8e31f4c6fc05",
   "metadata": {},
   "outputs": [
    {
     "data": {
      "text/plain": [
       "array([0.72502446, 0.72079816, 0.72632387, 0.72294705, 0.72476976])"
      ]
     },
     "execution_count": 349,
     "metadata": {},
     "output_type": "execute_result"
    }
   ],
   "source": [
    "scores"
   ]
  },
  {
   "cell_type": "markdown",
   "id": "cc832db6-c6b2-470f-9f06-3912c0c81eba",
   "metadata": {},
   "source": [
    "### SIMPLE XGBOOST REGRESSOR WITH TRAIN SPLIT "
   ]
  },
  {
   "cell_type": "code",
   "execution_count": null,
   "id": "4e79ad70-fa29-462f-beb2-7c20fd63115e",
   "metadata": {},
   "outputs": [],
   "source": [
    "X = train_values_subset.to_numpy();\n",
    "y = train_labels.damage_grade.to_numpy();\n",
    "X_train,X_test, y_train, y_test = train_test_split(X, y, test_size=0.2, random_state=42)"
   ]
  },
  {
   "cell_type": "code",
   "execution_count": null,
   "id": "edb3accc-ddda-440b-9c75-f152b73e0aff",
   "metadata": {},
   "outputs": [],
   "source": [
    "xg_reg = XGBRegressor(objective='reg:squarederror')"
   ]
  },
  {
   "cell_type": "code",
   "execution_count": null,
   "id": "6902fb6c-eb63-43f0-b9fd-4a8fa38c585e",
   "metadata": {},
   "outputs": [],
   "source": [
    "xg_reg.fit(X_train, y_train)"
   ]
  },
  {
   "cell_type": "code",
   "execution_count": null,
   "id": "63f0fcef-9eb8-46e8-964d-381a85199df4",
   "metadata": {},
   "outputs": [],
   "source": [
    "prediction = xg_reg.predict(X_test)"
   ]
  },
  {
   "cell_type": "code",
   "execution_count": null,
   "id": "fa80c62d-ed21-44b9-8722-527d43b98945",
   "metadata": {},
   "outputs": [],
   "source": [
    "prediction = prediction.astype(int)"
   ]
  },
  {
   "cell_type": "code",
   "execution_count": null,
   "id": "616bfe2f-7224-42fc-9ca3-98d28df12eb4",
   "metadata": {},
   "outputs": [],
   "source": [
    "error = f1_score(y_test, prediction, average='micro')\n",
    "error"
   ]
  },
  {
   "cell_type": "markdown",
   "id": "10cfa06e-5d9e-4eb0-9d2d-7347a2541f48",
   "metadata": {},
   "source": [
    "### TRYING WITH XGBOOST REGRESSOR WITH GRIDSEARCH "
   ]
  },
  {
   "cell_type": "code",
   "execution_count": null,
   "id": "c044b304-9280-42d0-874f-d83998f4b1f2",
   "metadata": {},
   "outputs": [],
   "source": [
    "param_grid = {'learning_rate': [0,1],\n",
    "             'max_depth': [2,6],\n",
    "             'n_estimators': [30,80]}\n",
    "\n",
    "xg_reg = XGBRegressor(objective='reg:squarederror')\n",
    "gs = GridSearchCV(xg_reg, param_grid, cv=10)"
   ]
  },
  {
   "cell_type": "code",
   "execution_count": null,
   "id": "4539d171-966c-4ef0-8589-59c6afc42df0",
   "metadata": {},
   "outputs": [],
   "source": [
    "gs.fit(X_train, y_train)"
   ]
  },
  {
   "cell_type": "code",
   "execution_count": null,
   "id": "9205b146-f61f-4e8b-a091-68d534d24e54",
   "metadata": {},
   "outputs": [],
   "source": [
    "gs.best_params_"
   ]
  },
  {
   "cell_type": "code",
   "execution_count": 18,
   "id": "a3d531d5-a26c-4802-9a08-8638719fb114",
   "metadata": {},
   "outputs": [
    {
     "data": {
      "text/plain": [
       "GridSearchCV(cv=10,\n",
       "             estimator=XGBRegressor(base_score=None, booster=None,\n",
       "                                    colsample_bylevel=None,\n",
       "                                    colsample_bynode=None,\n",
       "                                    colsample_bytree=None, gamma=None,\n",
       "                                    gpu_id=None, importance_type='gain',\n",
       "                                    interaction_constraints=None,\n",
       "                                    learning_rate=None, max_delta_step=None,\n",
       "                                    max_depth=None, min_child_weight=None,\n",
       "                                    missing=nan, monotone_constraints=None,\n",
       "                                    n_estimators=100, n_jobs=None,\n",
       "                                    num_parallel_tree=None, random_state=None,\n",
       "                                    reg_alpha=None, reg_lambda=None,\n",
       "                                    scale_pos_weight=None, subsample=None,\n",
       "                                    tree_method=None, validate_parameters=None,\n",
       "                                    verbosity=None),\n",
       "             param_grid={'learning_rate': [0, 1], 'max_depth': [2, 6],\n",
       "                         'n_estimators': [30, 80]})"
      ]
     },
     "execution_count": 18,
     "metadata": {},
     "output_type": "execute_result"
    }
   ],
   "source": [
    "gs"
   ]
  },
  {
   "cell_type": "code",
   "execution_count": 19,
   "id": "7137dc8a-5eef-4907-b586-19877970fcac",
   "metadata": {},
   "outputs": [
    {
     "data": {
      "text/plain": [
       "array([2, 1, 1, ..., 2, 2, 1])"
      ]
     },
     "execution_count": 19,
     "metadata": {},
     "output_type": "execute_result"
    }
   ],
   "source": [
    "prediction = gs.predict(X_test)\n",
    "prediction = prediction.astype(int)\n",
    "prediction"
   ]
  },
  {
   "cell_type": "code",
   "execution_count": 20,
   "id": "4ff27676-b79b-4085-adef-74b85876c8c7",
   "metadata": {},
   "outputs": [
    {
     "data": {
      "text/plain": [
       "0.5190230425356382"
      ]
     },
     "execution_count": 20,
     "metadata": {},
     "output_type": "execute_result"
    }
   ],
   "source": [
    "error = f1_score(y_test, prediction, average='micro')\n",
    "error"
   ]
  },
  {
   "cell_type": "markdown",
   "id": "4c92e95d-040d-4028-9342-2111bd2b9c57",
   "metadata": {},
   "source": [
    "### NOW USING XGBOOST CLASSIFIER"
   ]
  },
  {
   "cell_type": "code",
   "execution_count": 400,
   "id": "d3a95151-48c0-4270-b3ae-5594488271e6",
   "metadata": {},
   "outputs": [],
   "source": [
    "xg_class = XGBClassifier(colsample_bytree = 0.5,\n",
    "                         gamma = 0.9,\n",
    "                         learning_rate = 0.5,\n",
    "                         max_depth = 9,\n",
    "                         min_child_weight = 0,\n",
    "                         n_estimators = 128)\n",
    "features_test = ['geo_level_1_id', 'geo_level_2_id',\n",
    "       'has_superstructure_mud_mortar_stone', 'has_superstructure_stone_flag',\n",
    "       'has_superstructure_cement_mortar_brick', 'has_superstructure_timber',\n",
    "        'foundation_type_i','foundation_type_r','roof_type_x',\n",
    "        'ground_floor_type_v']\n",
    "X = train_values_subset.loc[:,features_test].to_numpy();\n",
    "y = train_labels.damage_grade.to_numpy();\n",
    "\n",
    "X_train,X_test, y_train, y_test = train_test_split(X, y, test_size=0.2, random_state=42)"
   ]
  },
  {
   "cell_type": "code",
   "execution_count": 401,
   "id": "8cc2d308-7b53-44c3-a661-296916787eed",
   "metadata": {},
   "outputs": [
    {
     "name": "stderr",
     "output_type": "stream",
     "text": [
      "/home/mauricio/.local/lib/python3.8/site-packages/xgboost/sklearn.py:1146: UserWarning: The use of label encoder in XGBClassifier is deprecated and will be removed in a future release. To remove this warning, do the following: 1) Pass option use_label_encoder=False when constructing XGBClassifier object; and 2) Encode your labels (y) as integers starting with 0, i.e. 0, 1, 2, ..., [num_class - 1].\n",
      "  warnings.warn(label_encoder_deprecation_msg, UserWarning)\n"
     ]
    },
    {
     "name": "stdout",
     "output_type": "stream",
     "text": [
      "[15:06:43] WARNING: ../src/learner.cc:1095: Starting in XGBoost 1.3.0, the default evaluation metric used with the objective 'multi:softprob' was changed from 'merror' to 'mlogloss'. Explicitly set eval_metric if you'd like to restore the old behavior.\n"
     ]
    },
    {
     "data": {
      "text/plain": [
       "XGBClassifier(base_score=0.5, booster='gbtree', colsample_bylevel=1,\n",
       "              colsample_bynode=1, colsample_bytree=0.5, gamma=0.9, gpu_id=-1,\n",
       "              importance_type='gain', interaction_constraints='',\n",
       "              learning_rate=0.5, max_delta_step=0, max_depth=9,\n",
       "              min_child_weight=0, missing=nan, monotone_constraints='()',\n",
       "              n_estimators=128, n_jobs=6, num_parallel_tree=1,\n",
       "              objective='multi:softprob', random_state=0, reg_alpha=0,\n",
       "              reg_lambda=1, scale_pos_weight=None, subsample=1,\n",
       "              tree_method='exact', validate_parameters=1, verbosity=None)"
      ]
     },
     "execution_count": 401,
     "metadata": {},
     "output_type": "execute_result"
    }
   ],
   "source": [
    "xg_class.fit(X_train, y_train)"
   ]
  },
  {
   "cell_type": "code",
   "execution_count": 402,
   "id": "f48a5aad-5ae1-45fd-a064-eef99a79eed5",
   "metadata": {},
   "outputs": [
    {
     "data": {
      "text/plain": [
       "array([3, 2, 2, ..., 2, 3, 2])"
      ]
     },
     "execution_count": 402,
     "metadata": {},
     "output_type": "execute_result"
    }
   ],
   "source": [
    "preds = xg_class.predict(X_test)\n",
    "preds"
   ]
  },
  {
   "cell_type": "code",
   "execution_count": 403,
   "id": "fbe42e2a-9ddf-4885-9e5e-31b87d5a5c13",
   "metadata": {},
   "outputs": [
    {
     "data": {
      "text/plain": [
       "0.7150476775196178"
      ]
     },
     "execution_count": 403,
     "metadata": {},
     "output_type": "execute_result"
    }
   ],
   "source": [
    "f1_score(y_test, preds, average='micro')"
   ]
  },
  {
   "cell_type": "code",
   "execution_count": 404,
   "id": "6330488c-35fe-442d-93f7-ef66496a4509",
   "metadata": {},
   "outputs": [
    {
     "data": {
      "text/plain": [
       "array([0.17711541, 0.03967998, 0.0793499 , 0.03512323, 0.0737113 ,\n",
       "       0.02701574, 0.10205304, 0.2298489 , 0.10897418, 0.12712836],\n",
       "      dtype=float32)"
      ]
     },
     "execution_count": 404,
     "metadata": {},
     "output_type": "execute_result"
    }
   ],
   "source": [
    "xg_class.feature_importances_"
   ]
  },
  {
   "cell_type": "code",
   "execution_count": 405,
   "id": "6c9a4a48-5ec6-41ba-b8c5-d9d49e5ab16f",
   "metadata": {},
   "outputs": [],
   "source": [
    "%matplotlib inline\n",
    "import matplotlib.pyplot as plt"
   ]
  },
  {
   "cell_type": "code",
   "execution_count": 410,
   "id": "66359987-9f60-4032-a95c-4f71e61fb7fb",
   "metadata": {},
   "outputs": [],
   "source": [
    "df = pd.DataFrame(columns=train_values_subset.loc[:,features_test].columns)\n",
    "df = df.T"
   ]
  },
  {
   "cell_type": "code",
   "execution_count": 411,
   "id": "2f04ab55-eb4e-46ef-8666-2e783e37f55f",
   "metadata": {},
   "outputs": [],
   "source": [
    "df['feature importance'] = xg_class.feature_importances_"
   ]
  },
  {
   "cell_type": "code",
   "execution_count": 412,
   "id": "35b88770-b3f4-46af-8b0a-2cd97089411a",
   "metadata": {},
   "outputs": [
    {
     "data": {
      "text/plain": [
       "<AxesSubplot:>"
      ]
     },
     "execution_count": 412,
     "metadata": {},
     "output_type": "execute_result"
    },
    {
     "data": {
      "image/png": "[encoded data removed]",
      "text/plain": [
       "<Figure size 1728x576 with 1 Axes>"
      ]
     },
     "metadata": {
      "needs_background": "light"
     },
     "output_type": "display_data"
    }
   ],
   "source": [
    "df.plot.bar(figsize = (24,8), grid=True)"
   ]
  },
  {
   "cell_type": "code",
   "execution_count": null,
   "id": "d06c51e1-c018-4927-872f-193d8cccb792",
   "metadata": {},
   "outputs": [],
   "source": []
  },
  {
   "cell_type": "markdown",
   "id": "15045570-1c12-4778-85c8-b36ef5d08005",
   "metadata": {},
   "source": [
    "### XGBOOST CLASSIFIER WITH GS"
   ]
  },
  {
   "cell_type": "code",
   "execution_count": 24,
   "id": "30471963-8248-43a9-ab81-592f8ed1dffe",
   "metadata": {},
   "outputs": [],
   "source": [
    "xg_class = XGBClassifier()\n",
    "\n",
    "X = train_values_subset.to_numpy();\n",
    "y = train_labels.damage_grade.to_numpy();\n",
    "\n",
    "X_train,X_test, y_train, y_test = train_test_split(X, y, test_size=0.2, random_state=42)"
   ]
  },
  {
   "cell_type": "code",
   "execution_count": 25,
   "id": "5ea61604-98cb-46b0-a7dd-2186b525e51b",
   "metadata": {},
   "outputs": [],
   "source": [
    "param_grid = {'learning_rate': [0,1],\n",
    "             'max_depth': [6,10],\n",
    "             'min_child_weight': [0,3],\n",
    "             'gamma': [0,1],\n",
    "             'colsample_bytree': [0,1],\n",
    "             'n_estimators': [100,135]}\n",
    "\n",
    "gs = GridSearchCV(xg_class, param_grid, cv=10)"
   ]
  },
  {
   "cell_type": "code",
   "execution_count": null,
   "id": "e288b207-122e-4db1-971d-c1b2e570d87b",
   "metadata": {},
   "outputs": [],
   "source": [
    "%%time\n",
    "gs.fit(X_train, y_train)"
   ]
  },
  {
   "cell_type": "code",
   "execution_count": null,
   "id": "122554ac-822e-4412-b6c9-bd6509b2f890",
   "metadata": {},
   "outputs": [],
   "source": [
    "gs.best_params_"
   ]
  },
  {
   "cell_type": "code",
   "execution_count": 35,
   "id": "c91eff18-7aec-48cd-b33d-d065df42ff35",
   "metadata": {},
   "outputs": [
    {
     "data": {
      "text/plain": [
       "array([3, 2, 2, ..., 2, 3, 2])"
      ]
     },
     "execution_count": 35,
     "metadata": {},
     "output_type": "execute_result"
    }
   ],
   "source": [
    "preds = gs.predict(X_test)\n",
    "preds"
   ]
  },
  {
   "cell_type": "code",
   "execution_count": 36,
   "id": "3c566d95-31db-4cc4-a7fd-4bdca24ba4c8",
   "metadata": {},
   "outputs": [
    {
     "data": {
      "text/plain": [
       "0.7329483317664665"
      ]
     },
     "execution_count": 36,
     "metadata": {},
     "output_type": "execute_result"
    }
   ],
   "source": [
    "f1_score(y_test, preds, average='micro')"
   ]
  },
  {
   "cell_type": "code",
   "execution_count": null,
   "id": "d2c5459e-e3d6-47d6-b144-b85ba89d2f1f",
   "metadata": {},
   "outputs": [],
   "source": [
    "xg_class.feature_importances_"
   ]
  },
  {
   "cell_type": "code",
   "execution_count": null,
   "id": "6ca88152-e299-465a-b3e8-19c2065b940d",
   "metadata": {},
   "outputs": [],
   "source": []
  },
  {
   "cell_type": "markdown",
   "id": "9d071d71-70f5-401e-9bfc-488d2dc08c65",
   "metadata": {},
   "source": [
    "### PREDICTION"
   ]
  },
  {
   "cell_type": "code",
   "execution_count": 365,
   "id": "d02d7d05-dc93-418c-8895-26b90249de38",
   "metadata": {},
   "outputs": [],
   "source": [
    "xg_class = XGBClassifier(colsample_bytree = 0.5,\n",
    "                         gamma = 0.9,\n",
    "                         learning_rate = 0.5,\n",
    "                         max_depth = 9,\n",
    "                         min_child_weight = 0,\n",
    "                         n_estimators = 128)\n",
    "\n",
    "X = train_values_subset.to_numpy();\n",
    "y = train_labels.damage_grade.to_numpy();"
   ]
  },
  {
   "cell_type": "code",
   "execution_count": 366,
   "id": "da21552d-5d4b-4393-aa89-c25a9c8da11d",
   "metadata": {},
   "outputs": [
    {
     "name": "stderr",
     "output_type": "stream",
     "text": [
      "/home/mauricio/.local/lib/python3.8/site-packages/xgboost/sklearn.py:1146: UserWarning: The use of label encoder in XGBClassifier is deprecated and will be removed in a future release. To remove this warning, do the following: 1) Pass option use_label_encoder=False when constructing XGBClassifier object; and 2) Encode your labels (y) as integers starting with 0, i.e. 0, 1, 2, ..., [num_class - 1].\n",
      "  warnings.warn(label_encoder_deprecation_msg, UserWarning)\n"
     ]
    },
    {
     "name": "stdout",
     "output_type": "stream",
     "text": [
      "[14:28:13] WARNING: ../src/learner.cc:1095: Starting in XGBoost 1.3.0, the default evaluation metric used with the objective 'multi:softprob' was changed from 'merror' to 'mlogloss'. Explicitly set eval_metric if you'd like to restore the old behavior.\n"
     ]
    },
    {
     "data": {
      "text/plain": [
       "XGBClassifier(base_score=0.5, booster='gbtree', colsample_bylevel=1,\n",
       "              colsample_bynode=1, colsample_bytree=0.5, gamma=0.9, gpu_id=-1,\n",
       "              importance_type='gain', interaction_constraints='',\n",
       "              learning_rate=0.5, max_delta_step=0, max_depth=9,\n",
       "              min_child_weight=0, missing=nan, monotone_constraints='()',\n",
       "              n_estimators=128, n_jobs=6, num_parallel_tree=1,\n",
       "              objective='multi:softprob', random_state=0, reg_alpha=0,\n",
       "              reg_lambda=1, scale_pos_weight=None, subsample=1,\n",
       "              tree_method='exact', validate_parameters=1, verbosity=None)"
      ]
     },
     "execution_count": 366,
     "metadata": {},
     "output_type": "execute_result"
    }
   ],
   "source": [
    "xg_class.fit(X, y)"
   ]
  },
  {
   "cell_type": "code",
   "execution_count": 368,
   "id": "59043871-5456-44fb-8368-16cf1c3a1ae2",
   "metadata": {},
   "outputs": [
    {
     "data": {
      "text/html": [
       "<div>\n",
       "<style scoped>\n",
       "    .dataframe tbody tr th:only-of-type {\n",
       "        vertical-align: middle;\n",
       "    }\n",
       "\n",
       "    .dataframe tbody tr th {\n",
       "        vertical-align: top;\n",
       "    }\n",
       "\n",
       "    .dataframe thead th {\n",
       "        text-align: right;\n",
       "    }\n",
       "</style>\n",
       "<table border=\"1\" class=\"dataframe\">\n",
       "  <thead>\n",
       "    <tr style=\"text-align: right;\">\n",
       "      <th></th>\n",
       "      <th>geo_level_1_id</th>\n",
       "      <th>geo_level_2_id</th>\n",
       "      <th>geo_level_3_id</th>\n",
       "      <th>count_floors_pre_eq</th>\n",
       "      <th>age</th>\n",
       "      <th>area_percentage</th>\n",
       "      <th>height_percentage</th>\n",
       "      <th>has_superstructure_adobe_mud</th>\n",
       "      <th>has_superstructure_mud_mortar_stone</th>\n",
       "      <th>has_superstructure_stone_flag</th>\n",
       "      <th>...</th>\n",
       "      <th>plan_configuration_m</th>\n",
       "      <th>plan_configuration_n</th>\n",
       "      <th>plan_configuration_o</th>\n",
       "      <th>plan_configuration_q</th>\n",
       "      <th>plan_configuration_s</th>\n",
       "      <th>plan_configuration_u</th>\n",
       "      <th>legal_ownership_status_a</th>\n",
       "      <th>legal_ownership_status_r</th>\n",
       "      <th>legal_ownership_status_v</th>\n",
       "      <th>legal_ownership_status_w</th>\n",
       "    </tr>\n",
       "    <tr>\n",
       "      <th>building_id</th>\n",
       "      <th></th>\n",
       "      <th></th>\n",
       "      <th></th>\n",
       "      <th></th>\n",
       "      <th></th>\n",
       "      <th></th>\n",
       "      <th></th>\n",
       "      <th></th>\n",
       "      <th></th>\n",
       "      <th></th>\n",
       "      <th></th>\n",
       "      <th></th>\n",
       "      <th></th>\n",
       "      <th></th>\n",
       "      <th></th>\n",
       "      <th></th>\n",
       "      <th></th>\n",
       "      <th></th>\n",
       "      <th></th>\n",
       "      <th></th>\n",
       "      <th></th>\n",
       "    </tr>\n",
       "  </thead>\n",
       "  <tbody>\n",
       "    <tr>\n",
       "      <th>300051</th>\n",
       "      <td>17</td>\n",
       "      <td>596</td>\n",
       "      <td>11307</td>\n",
       "      <td>3</td>\n",
       "      <td>20</td>\n",
       "      <td>7</td>\n",
       "      <td>6</td>\n",
       "      <td>False</td>\n",
       "      <td>True</td>\n",
       "      <td>False</td>\n",
       "      <td>...</td>\n",
       "      <td>0</td>\n",
       "      <td>0</td>\n",
       "      <td>0</td>\n",
       "      <td>0</td>\n",
       "      <td>0</td>\n",
       "      <td>0</td>\n",
       "      <td>0</td>\n",
       "      <td>0</td>\n",
       "      <td>1</td>\n",
       "      <td>0</td>\n",
       "    </tr>\n",
       "    <tr>\n",
       "      <th>99355</th>\n",
       "      <td>6</td>\n",
       "      <td>141</td>\n",
       "      <td>11987</td>\n",
       "      <td>2</td>\n",
       "      <td>25</td>\n",
       "      <td>13</td>\n",
       "      <td>5</td>\n",
       "      <td>False</td>\n",
       "      <td>True</td>\n",
       "      <td>False</td>\n",
       "      <td>...</td>\n",
       "      <td>0</td>\n",
       "      <td>0</td>\n",
       "      <td>0</td>\n",
       "      <td>0</td>\n",
       "      <td>0</td>\n",
       "      <td>0</td>\n",
       "      <td>0</td>\n",
       "      <td>0</td>\n",
       "      <td>1</td>\n",
       "      <td>0</td>\n",
       "    </tr>\n",
       "    <tr>\n",
       "      <th>890251</th>\n",
       "      <td>22</td>\n",
       "      <td>19</td>\n",
       "      <td>10044</td>\n",
       "      <td>2</td>\n",
       "      <td>5</td>\n",
       "      <td>4</td>\n",
       "      <td>5</td>\n",
       "      <td>False</td>\n",
       "      <td>True</td>\n",
       "      <td>False</td>\n",
       "      <td>...</td>\n",
       "      <td>0</td>\n",
       "      <td>0</td>\n",
       "      <td>0</td>\n",
       "      <td>0</td>\n",
       "      <td>0</td>\n",
       "      <td>0</td>\n",
       "      <td>0</td>\n",
       "      <td>0</td>\n",
       "      <td>1</td>\n",
       "      <td>0</td>\n",
       "    </tr>\n",
       "    <tr>\n",
       "      <th>745817</th>\n",
       "      <td>26</td>\n",
       "      <td>39</td>\n",
       "      <td>633</td>\n",
       "      <td>1</td>\n",
       "      <td>0</td>\n",
       "      <td>19</td>\n",
       "      <td>3</td>\n",
       "      <td>False</td>\n",
       "      <td>False</td>\n",
       "      <td>False</td>\n",
       "      <td>...</td>\n",
       "      <td>0</td>\n",
       "      <td>0</td>\n",
       "      <td>0</td>\n",
       "      <td>0</td>\n",
       "      <td>0</td>\n",
       "      <td>0</td>\n",
       "      <td>0</td>\n",
       "      <td>0</td>\n",
       "      <td>1</td>\n",
       "      <td>0</td>\n",
       "    </tr>\n",
       "    <tr>\n",
       "      <th>421793</th>\n",
       "      <td>17</td>\n",
       "      <td>289</td>\n",
       "      <td>7970</td>\n",
       "      <td>3</td>\n",
       "      <td>15</td>\n",
       "      <td>8</td>\n",
       "      <td>7</td>\n",
       "      <td>False</td>\n",
       "      <td>True</td>\n",
       "      <td>False</td>\n",
       "      <td>...</td>\n",
       "      <td>0</td>\n",
       "      <td>0</td>\n",
       "      <td>0</td>\n",
       "      <td>0</td>\n",
       "      <td>0</td>\n",
       "      <td>0</td>\n",
       "      <td>0</td>\n",
       "      <td>0</td>\n",
       "      <td>1</td>\n",
       "      <td>0</td>\n",
       "    </tr>\n",
       "    <tr>\n",
       "      <th>...</th>\n",
       "      <td>...</td>\n",
       "      <td>...</td>\n",
       "      <td>...</td>\n",
       "      <td>...</td>\n",
       "      <td>...</td>\n",
       "      <td>...</td>\n",
       "      <td>...</td>\n",
       "      <td>...</td>\n",
       "      <td>...</td>\n",
       "      <td>...</td>\n",
       "      <td>...</td>\n",
       "      <td>...</td>\n",
       "      <td>...</td>\n",
       "      <td>...</td>\n",
       "      <td>...</td>\n",
       "      <td>...</td>\n",
       "      <td>...</td>\n",
       "      <td>...</td>\n",
       "      <td>...</td>\n",
       "      <td>...</td>\n",
       "      <td>...</td>\n",
       "    </tr>\n",
       "    <tr>\n",
       "      <th>310028</th>\n",
       "      <td>4</td>\n",
       "      <td>605</td>\n",
       "      <td>3623</td>\n",
       "      <td>3</td>\n",
       "      <td>70</td>\n",
       "      <td>20</td>\n",
       "      <td>6</td>\n",
       "      <td>False</td>\n",
       "      <td>True</td>\n",
       "      <td>False</td>\n",
       "      <td>...</td>\n",
       "      <td>0</td>\n",
       "      <td>0</td>\n",
       "      <td>0</td>\n",
       "      <td>0</td>\n",
       "      <td>0</td>\n",
       "      <td>0</td>\n",
       "      <td>0</td>\n",
       "      <td>0</td>\n",
       "      <td>0</td>\n",
       "      <td>1</td>\n",
       "    </tr>\n",
       "    <tr>\n",
       "      <th>663567</th>\n",
       "      <td>10</td>\n",
       "      <td>1407</td>\n",
       "      <td>11907</td>\n",
       "      <td>3</td>\n",
       "      <td>25</td>\n",
       "      <td>6</td>\n",
       "      <td>7</td>\n",
       "      <td>True</td>\n",
       "      <td>True</td>\n",
       "      <td>True</td>\n",
       "      <td>...</td>\n",
       "      <td>0</td>\n",
       "      <td>0</td>\n",
       "      <td>0</td>\n",
       "      <td>0</td>\n",
       "      <td>0</td>\n",
       "      <td>0</td>\n",
       "      <td>0</td>\n",
       "      <td>0</td>\n",
       "      <td>1</td>\n",
       "      <td>0</td>\n",
       "    </tr>\n",
       "    <tr>\n",
       "      <th>1049160</th>\n",
       "      <td>22</td>\n",
       "      <td>1136</td>\n",
       "      <td>7712</td>\n",
       "      <td>1</td>\n",
       "      <td>50</td>\n",
       "      <td>3</td>\n",
       "      <td>3</td>\n",
       "      <td>False</td>\n",
       "      <td>True</td>\n",
       "      <td>False</td>\n",
       "      <td>...</td>\n",
       "      <td>0</td>\n",
       "      <td>0</td>\n",
       "      <td>0</td>\n",
       "      <td>0</td>\n",
       "      <td>0</td>\n",
       "      <td>0</td>\n",
       "      <td>0</td>\n",
       "      <td>0</td>\n",
       "      <td>1</td>\n",
       "      <td>0</td>\n",
       "    </tr>\n",
       "    <tr>\n",
       "      <th>442785</th>\n",
       "      <td>6</td>\n",
       "      <td>1041</td>\n",
       "      <td>912</td>\n",
       "      <td>2</td>\n",
       "      <td>5</td>\n",
       "      <td>9</td>\n",
       "      <td>5</td>\n",
       "      <td>True</td>\n",
       "      <td>True</td>\n",
       "      <td>False</td>\n",
       "      <td>...</td>\n",
       "      <td>0</td>\n",
       "      <td>0</td>\n",
       "      <td>0</td>\n",
       "      <td>0</td>\n",
       "      <td>0</td>\n",
       "      <td>0</td>\n",
       "      <td>1</td>\n",
       "      <td>0</td>\n",
       "      <td>0</td>\n",
       "      <td>0</td>\n",
       "    </tr>\n",
       "    <tr>\n",
       "      <th>501372</th>\n",
       "      <td>26</td>\n",
       "      <td>36</td>\n",
       "      <td>6436</td>\n",
       "      <td>2</td>\n",
       "      <td>10</td>\n",
       "      <td>11</td>\n",
       "      <td>4</td>\n",
       "      <td>False</td>\n",
       "      <td>False</td>\n",
       "      <td>False</td>\n",
       "      <td>...</td>\n",
       "      <td>0</td>\n",
       "      <td>0</td>\n",
       "      <td>0</td>\n",
       "      <td>0</td>\n",
       "      <td>0</td>\n",
       "      <td>0</td>\n",
       "      <td>0</td>\n",
       "      <td>0</td>\n",
       "      <td>1</td>\n",
       "      <td>0</td>\n",
       "    </tr>\n",
       "  </tbody>\n",
       "</table>\n",
       "<p>86868 rows × 57 columns</p>\n",
       "</div>"
      ],
      "text/plain": [
       "             geo_level_1_id  geo_level_2_id  geo_level_3_id  \\\n",
       "building_id                                                   \n",
       "300051                   17             596           11307   \n",
       "99355                     6             141           11987   \n",
       "890251                   22              19           10044   \n",
       "745817                   26              39             633   \n",
       "421793                   17             289            7970   \n",
       "...                     ...             ...             ...   \n",
       "310028                    4             605            3623   \n",
       "663567                   10            1407           11907   \n",
       "1049160                  22            1136            7712   \n",
       "442785                    6            1041             912   \n",
       "501372                   26              36            6436   \n",
       "\n",
       "             count_floors_pre_eq  age  area_percentage  height_percentage  \\\n",
       "building_id                                                                 \n",
       "300051                         3   20                7                  6   \n",
       "99355                          2   25               13                  5   \n",
       "890251                         2    5                4                  5   \n",
       "745817                         1    0               19                  3   \n",
       "421793                         3   15                8                  7   \n",
       "...                          ...  ...              ...                ...   \n",
       "310028                         3   70               20                  6   \n",
       "663567                         3   25                6                  7   \n",
       "1049160                        1   50                3                  3   \n",
       "442785                         2    5                9                  5   \n",
       "501372                         2   10               11                  4   \n",
       "\n",
       "             has_superstructure_adobe_mud  \\\n",
       "building_id                                 \n",
       "300051                              False   \n",
       "99355                               False   \n",
       "890251                              False   \n",
       "745817                              False   \n",
       "421793                              False   \n",
       "...                                   ...   \n",
       "310028                              False   \n",
       "663567                               True   \n",
       "1049160                             False   \n",
       "442785                               True   \n",
       "501372                              False   \n",
       "\n",
       "             has_superstructure_mud_mortar_stone  \\\n",
       "building_id                                        \n",
       "300051                                      True   \n",
       "99355                                       True   \n",
       "890251                                      True   \n",
       "745817                                     False   \n",
       "421793                                      True   \n",
       "...                                          ...   \n",
       "310028                                      True   \n",
       "663567                                      True   \n",
       "1049160                                     True   \n",
       "442785                                      True   \n",
       "501372                                     False   \n",
       "\n",
       "             has_superstructure_stone_flag  ...  plan_configuration_m  \\\n",
       "building_id                                 ...                         \n",
       "300051                               False  ...                     0   \n",
       "99355                                False  ...                     0   \n",
       "890251                               False  ...                     0   \n",
       "745817                               False  ...                     0   \n",
       "421793                               False  ...                     0   \n",
       "...                                    ...  ...                   ...   \n",
       "310028                               False  ...                     0   \n",
       "663567                                True  ...                     0   \n",
       "1049160                              False  ...                     0   \n",
       "442785                               False  ...                     0   \n",
       "501372                               False  ...                     0   \n",
       "\n",
       "             plan_configuration_n  plan_configuration_o  plan_configuration_q  \\\n",
       "building_id                                                                     \n",
       "300051                          0                     0                     0   \n",
       "99355                           0                     0                     0   \n",
       "890251                          0                     0                     0   \n",
       "745817                          0                     0                     0   \n",
       "421793                          0                     0                     0   \n",
       "...                           ...                   ...                   ...   \n",
       "310028                          0                     0                     0   \n",
       "663567                          0                     0                     0   \n",
       "1049160                         0                     0                     0   \n",
       "442785                          0                     0                     0   \n",
       "501372                          0                     0                     0   \n",
       "\n",
       "             plan_configuration_s  plan_configuration_u  \\\n",
       "building_id                                               \n",
       "300051                          0                     0   \n",
       "99355                           0                     0   \n",
       "890251                          0                     0   \n",
       "745817                          0                     0   \n",
       "421793                          0                     0   \n",
       "...                           ...                   ...   \n",
       "310028                          0                     0   \n",
       "663567                          0                     0   \n",
       "1049160                         0                     0   \n",
       "442785                          0                     0   \n",
       "501372                          0                     0   \n",
       "\n",
       "             legal_ownership_status_a  legal_ownership_status_r  \\\n",
       "building_id                                                       \n",
       "300051                              0                         0   \n",
       "99355                               0                         0   \n",
       "890251                              0                         0   \n",
       "745817                              0                         0   \n",
       "421793                              0                         0   \n",
       "...                               ...                       ...   \n",
       "310028                              0                         0   \n",
       "663567                              0                         0   \n",
       "1049160                             0                         0   \n",
       "442785                              1                         0   \n",
       "501372                              0                         0   \n",
       "\n",
       "             legal_ownership_status_v  legal_ownership_status_w  \n",
       "building_id                                                      \n",
       "300051                              1                         0  \n",
       "99355                               1                         0  \n",
       "890251                              1                         0  \n",
       "745817                              1                         0  \n",
       "421793                              1                         0  \n",
       "...                               ...                       ...  \n",
       "310028                              0                         1  \n",
       "663567                              1                         0  \n",
       "1049160                             1                         0  \n",
       "442785                              0                         0  \n",
       "501372                              1                         0  \n",
       "\n",
       "[86868 rows x 57 columns]"
      ]
     },
     "execution_count": 368,
     "metadata": {},
     "output_type": "execute_result"
    }
   ],
   "source": [
    "test_values = test_values.set_index('building_id')\n",
    "test_values_subset = test_values[selected_features]\n",
    "test_values_subset = pd.get_dummies(test_values_subset)\n",
    "test_values_subset"
   ]
  },
  {
   "cell_type": "code",
   "execution_count": 369,
   "id": "854ea990-80e8-446f-8f24-c9a38b5b36a2",
   "metadata": {},
   "outputs": [
    {
     "data": {
      "text/plain": [
       "array([3, 2, 2, ..., 2, 2, 2])"
      ]
     },
     "execution_count": 369,
     "metadata": {},
     "output_type": "execute_result"
    }
   ],
   "source": [
    "preds = xg_class.predict(test_values_subset)\n",
    "preds"
   ]
  },
  {
   "cell_type": "code",
   "execution_count": 370,
   "id": "8f3485dc-eca6-424a-aa80-0da235e3bfbb",
   "metadata": {},
   "outputs": [
    {
     "data": {
      "text/html": [
       "<div>\n",
       "<style scoped>\n",
       "    .dataframe tbody tr th:only-of-type {\n",
       "        vertical-align: middle;\n",
       "    }\n",
       "\n",
       "    .dataframe tbody tr th {\n",
       "        vertical-align: top;\n",
       "    }\n",
       "\n",
       "    .dataframe thead th {\n",
       "        text-align: right;\n",
       "    }\n",
       "</style>\n",
       "<table border=\"1\" class=\"dataframe\">\n",
       "  <thead>\n",
       "    <tr style=\"text-align: right;\">\n",
       "      <th></th>\n",
       "      <th>damage_grade</th>\n",
       "    </tr>\n",
       "    <tr>\n",
       "      <th>building_id</th>\n",
       "      <th></th>\n",
       "    </tr>\n",
       "  </thead>\n",
       "  <tbody>\n",
       "    <tr>\n",
       "      <th>300051</th>\n",
       "      <td>3</td>\n",
       "    </tr>\n",
       "    <tr>\n",
       "      <th>99355</th>\n",
       "      <td>2</td>\n",
       "    </tr>\n",
       "    <tr>\n",
       "      <th>890251</th>\n",
       "      <td>2</td>\n",
       "    </tr>\n",
       "    <tr>\n",
       "      <th>745817</th>\n",
       "      <td>1</td>\n",
       "    </tr>\n",
       "    <tr>\n",
       "      <th>421793</th>\n",
       "      <td>3</td>\n",
       "    </tr>\n",
       "    <tr>\n",
       "      <th>...</th>\n",
       "      <td>...</td>\n",
       "    </tr>\n",
       "    <tr>\n",
       "      <th>310028</th>\n",
       "      <td>2</td>\n",
       "    </tr>\n",
       "    <tr>\n",
       "      <th>663567</th>\n",
       "      <td>2</td>\n",
       "    </tr>\n",
       "    <tr>\n",
       "      <th>1049160</th>\n",
       "      <td>2</td>\n",
       "    </tr>\n",
       "    <tr>\n",
       "      <th>442785</th>\n",
       "      <td>2</td>\n",
       "    </tr>\n",
       "    <tr>\n",
       "      <th>501372</th>\n",
       "      <td>2</td>\n",
       "    </tr>\n",
       "  </tbody>\n",
       "</table>\n",
       "<p>86868 rows × 1 columns</p>\n",
       "</div>"
      ],
      "text/plain": [
       "             damage_grade\n",
       "building_id              \n",
       "300051                  3\n",
       "99355                   2\n",
       "890251                  2\n",
       "745817                  1\n",
       "421793                  3\n",
       "...                   ...\n",
       "310028                  2\n",
       "663567                  2\n",
       "1049160                 2\n",
       "442785                  2\n",
       "501372                  2\n",
       "\n",
       "[86868 rows x 1 columns]"
      ]
     },
     "execution_count": 370,
     "metadata": {},
     "output_type": "execute_result"
    }
   ],
   "source": [
    "submission_format = pd.read_csv('../TP1/submission_format.csv', index_col='building_id')\n",
    "my_submission = pd.DataFrame(data=preds, columns=submission_format.columns, index=submission_format.index)\n",
    "my_submission"
   ]
  },
  {
   "cell_type": "code",
   "execution_count": 371,
   "id": "cc402770-f3ee-4c19-9001-e63642b98310",
   "metadata": {},
   "outputs": [],
   "source": [
    "my_submission.to_csv('Submits/prueba.csv')"
   ]
  },
  {
   "cell_type": "code",
   "execution_count": 372,
   "id": "bd7ae5e4-fd64-474d-aacb-12ede71ab149",
   "metadata": {},
   "outputs": [
    {
     "data": {
      "text/plain": [
       "array([0.08261296, 0.022981  , 0.01143451, 0.01486632, 0.01176118,\n",
       "       0.00727201, 0.00734309, 0.01095389, 0.04806926, 0.0160305 ,\n",
       "       0.01031266, 0.01275862, 0.03122976, 0.01424909, 0.01085051,\n",
       "       0.00888351, 0.01095251, 0.00997859, 0.00786349, 0.00749034,\n",
       "       0.00877829, 0.00897679, 0.01228148, 0.03534244, 0.1552296 ,\n",
       "       0.01035005, 0.0152243 , 0.00905583, 0.01310203, 0.04215221,\n",
       "       0.01157007, 0.0062413 , 0.13465242, 0.00898033, 0.00721143,\n",
       "       0.01097571, 0.01690423, 0.00947185, 0.01211405, 0.0067961 ,\n",
       "       0.00566781, 0.00938492, 0.00750626, 0.00614481, 0.00544041,\n",
       "       0.00724043, 0.00266775, 0.00337363, 0.0038384 , 0.00445736,\n",
       "       0.00752872, 0.00438472, 0.00805356, 0.00789753, 0.00640898,\n",
       "       0.00838913, 0.00831128], dtype=float32)"
      ]
     },
     "execution_count": 372,
     "metadata": {},
     "output_type": "execute_result"
    }
   ],
   "source": [
    "xg_class.feature_importances_"
   ]
  },
  {
   "cell_type": "code",
   "execution_count": 373,
   "id": "002bd584-3165-42fb-b750-9cf71fc38e76",
   "metadata": {},
   "outputs": [],
   "source": [
    "%matplotlib inline\n",
    "import matplotlib.pyplot as plt"
   ]
  },
  {
   "cell_type": "code",
   "execution_count": 386,
   "id": "95d13bc6-5485-4843-84d4-346b39cdf2d5",
   "metadata": {},
   "outputs": [],
   "source": [
    "df = pd.DataFrame(columns=train_values_subset.columns)\n",
    "df = df.T"
   ]
  },
  {
   "cell_type": "code",
   "execution_count": 387,
   "id": "e542d08a-7a9a-4bc5-bafc-380e70858e67",
   "metadata": {},
   "outputs": [],
   "source": [
    "df['feature importance'] = xg_class.feature_importances_"
   ]
  },
  {
   "cell_type": "code",
   "execution_count": 394,
   "id": "14b28eab-63c5-4f9a-b1f0-d0b0c7012766",
   "metadata": {},
   "outputs": [
    {
     "data": {
      "text/plain": [
       "<AxesSubplot:>"
      ]
     },
     "execution_count": 394,
     "metadata": {},
     "output_type": "execute_result"
    },
    {
     "data": {
      "image/png": "[encoded data removed]",
      "text/plain": [
       "<Figure size 1728x576 with 1 Axes>"
      ]
     },
     "metadata": {
      "needs_background": "light"
     },
     "output_type": "display_data"
    }
   ],
   "source": [
    "df.plot.bar(figsize = (24,8), grid=True)"
   ]
  },
  {
   "cell_type": "code",
   "execution_count": null,
   "id": "e7b93863-7a8d-4796-af3c-fd08873fda18",
   "metadata": {},
   "outputs": [],
   "source": []
  }
 ],
 "metadata": {
  "kernelspec": {
   "display_name": "Python 3",
   "language": "python",
   "name": "python3"
  },
  "language_info": {
   "codemirror_mode": {
    "name": "ipython",
    "version": 3
   },
   "file_extension": ".py",
   "mimetype": "text/x-python",
   "name": "python",
   "nbconvert_exporter": "python",
   "pygments_lexer": "ipython3",
   "version": "3.8.10"
  }
 },
 "nbformat": 4,
 "nbformat_minor": 5
}
