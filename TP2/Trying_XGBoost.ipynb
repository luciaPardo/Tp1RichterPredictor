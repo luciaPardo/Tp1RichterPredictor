{
 "cells": [
  {
   "cell_type": "markdown",
   "id": "eaefbc05-261f-467e-b944-c6162a57b6b6",
   "metadata": {},
   "source": [
    "### IMPORTS"
   ]
  },
  {
   "cell_type": "code",
   "execution_count": 23,
   "id": "a6e31a86-e34e-4083-a42b-b8ac279ed0fd",
   "metadata": {},
   "outputs": [],
   "source": [
    "import pandas as pd\n",
    "import numpy as np\n",
    "import sklearn\n",
    "\n",
    "from sklearn.metrics import f1_score\n",
    "from sklearn.model_selection import cross_val_score\n",
    "from sklearn.model_selection import train_test_split\n",
    "from sklearn.model_selection import GridSearchCV\n",
    "from sklearn.metrics import f1_score\n",
    "from xgboost import XGBRegressor"
   ]
  },
  {
   "cell_type": "markdown",
   "id": "15b78f05-d855-4511-abe6-7658fa3c3a66",
   "metadata": {},
   "source": [
    "### READING CSVs"
   ]
  },
  {
   "cell_type": "code",
   "execution_count": 2,
   "id": "9ba24f15-68f8-470e-b2a1-1288849feacc",
   "metadata": {},
   "outputs": [],
   "source": [
    "train_labels = pd.read_csv('../TP1/train_labels.csv')\n",
    "train_values = pd.read_csv( '../cleaned_train.csv')  #CLEANED\n",
    "test_values = pd.read_csv('../TP1/test_values.csv')"
   ]
  },
  {
   "cell_type": "markdown",
   "id": "4f88cc5b-14e6-4941-bff2-98641c038037",
   "metadata": {},
   "source": [
    "### FEATURE ENGINEERING"
   ]
  },
  {
   "cell_type": "code",
   "execution_count": 3,
   "id": "bdb99db8-0aaf-43df-993d-4fdc186bc645",
   "metadata": {},
   "outputs": [
    {
     "data": {
      "text/html": [
       "<div>\n",
       "<style scoped>\n",
       "    .dataframe tbody tr th:only-of-type {\n",
       "        vertical-align: middle;\n",
       "    }\n",
       "\n",
       "    .dataframe tbody tr th {\n",
       "        vertical-align: top;\n",
       "    }\n",
       "\n",
       "    .dataframe thead th {\n",
       "        text-align: right;\n",
       "    }\n",
       "</style>\n",
       "<table border=\"1\" class=\"dataframe\">\n",
       "  <thead>\n",
       "    <tr style=\"text-align: right;\">\n",
       "      <th></th>\n",
       "      <th>area_percentage</th>\n",
       "      <th>height_percentage</th>\n",
       "      <th>count_floors_pre_eq</th>\n",
       "      <th>foundation_type_h</th>\n",
       "      <th>foundation_type_i</th>\n",
       "      <th>foundation_type_r</th>\n",
       "      <th>foundation_type_u</th>\n",
       "      <th>foundation_type_w</th>\n",
       "      <th>land_surface_condition_n</th>\n",
       "      <th>land_surface_condition_o</th>\n",
       "      <th>land_surface_condition_t</th>\n",
       "    </tr>\n",
       "  </thead>\n",
       "  <tbody>\n",
       "    <tr>\n",
       "      <th>0</th>\n",
       "      <td>6</td>\n",
       "      <td>5</td>\n",
       "      <td>2</td>\n",
       "      <td>0</td>\n",
       "      <td>0</td>\n",
       "      <td>1</td>\n",
       "      <td>0</td>\n",
       "      <td>0</td>\n",
       "      <td>0</td>\n",
       "      <td>0</td>\n",
       "      <td>1</td>\n",
       "    </tr>\n",
       "    <tr>\n",
       "      <th>1</th>\n",
       "      <td>8</td>\n",
       "      <td>7</td>\n",
       "      <td>2</td>\n",
       "      <td>0</td>\n",
       "      <td>0</td>\n",
       "      <td>1</td>\n",
       "      <td>0</td>\n",
       "      <td>0</td>\n",
       "      <td>0</td>\n",
       "      <td>1</td>\n",
       "      <td>0</td>\n",
       "    </tr>\n",
       "    <tr>\n",
       "      <th>2</th>\n",
       "      <td>5</td>\n",
       "      <td>5</td>\n",
       "      <td>2</td>\n",
       "      <td>0</td>\n",
       "      <td>0</td>\n",
       "      <td>1</td>\n",
       "      <td>0</td>\n",
       "      <td>0</td>\n",
       "      <td>0</td>\n",
       "      <td>0</td>\n",
       "      <td>1</td>\n",
       "    </tr>\n",
       "    <tr>\n",
       "      <th>3</th>\n",
       "      <td>6</td>\n",
       "      <td>5</td>\n",
       "      <td>2</td>\n",
       "      <td>0</td>\n",
       "      <td>0</td>\n",
       "      <td>1</td>\n",
       "      <td>0</td>\n",
       "      <td>0</td>\n",
       "      <td>0</td>\n",
       "      <td>0</td>\n",
       "      <td>1</td>\n",
       "    </tr>\n",
       "    <tr>\n",
       "      <th>4</th>\n",
       "      <td>8</td>\n",
       "      <td>9</td>\n",
       "      <td>3</td>\n",
       "      <td>0</td>\n",
       "      <td>0</td>\n",
       "      <td>1</td>\n",
       "      <td>0</td>\n",
       "      <td>0</td>\n",
       "      <td>0</td>\n",
       "      <td>0</td>\n",
       "      <td>1</td>\n",
       "    </tr>\n",
       "    <tr>\n",
       "      <th>...</th>\n",
       "      <td>...</td>\n",
       "      <td>...</td>\n",
       "      <td>...</td>\n",
       "      <td>...</td>\n",
       "      <td>...</td>\n",
       "      <td>...</td>\n",
       "      <td>...</td>\n",
       "      <td>...</td>\n",
       "      <td>...</td>\n",
       "      <td>...</td>\n",
       "      <td>...</td>\n",
       "    </tr>\n",
       "    <tr>\n",
       "      <th>260596</th>\n",
       "      <td>6</td>\n",
       "      <td>3</td>\n",
       "      <td>1</td>\n",
       "      <td>0</td>\n",
       "      <td>0</td>\n",
       "      <td>1</td>\n",
       "      <td>0</td>\n",
       "      <td>0</td>\n",
       "      <td>1</td>\n",
       "      <td>0</td>\n",
       "      <td>0</td>\n",
       "    </tr>\n",
       "    <tr>\n",
       "      <th>260597</th>\n",
       "      <td>6</td>\n",
       "      <td>5</td>\n",
       "      <td>2</td>\n",
       "      <td>0</td>\n",
       "      <td>0</td>\n",
       "      <td>1</td>\n",
       "      <td>0</td>\n",
       "      <td>0</td>\n",
       "      <td>0</td>\n",
       "      <td>0</td>\n",
       "      <td>1</td>\n",
       "    </tr>\n",
       "    <tr>\n",
       "      <th>260598</th>\n",
       "      <td>6</td>\n",
       "      <td>7</td>\n",
       "      <td>3</td>\n",
       "      <td>0</td>\n",
       "      <td>0</td>\n",
       "      <td>1</td>\n",
       "      <td>0</td>\n",
       "      <td>0</td>\n",
       "      <td>0</td>\n",
       "      <td>0</td>\n",
       "      <td>1</td>\n",
       "    </tr>\n",
       "    <tr>\n",
       "      <th>260599</th>\n",
       "      <td>14</td>\n",
       "      <td>6</td>\n",
       "      <td>2</td>\n",
       "      <td>0</td>\n",
       "      <td>0</td>\n",
       "      <td>1</td>\n",
       "      <td>0</td>\n",
       "      <td>0</td>\n",
       "      <td>0</td>\n",
       "      <td>0</td>\n",
       "      <td>1</td>\n",
       "    </tr>\n",
       "    <tr>\n",
       "      <th>260600</th>\n",
       "      <td>7</td>\n",
       "      <td>6</td>\n",
       "      <td>3</td>\n",
       "      <td>0</td>\n",
       "      <td>0</td>\n",
       "      <td>1</td>\n",
       "      <td>0</td>\n",
       "      <td>0</td>\n",
       "      <td>1</td>\n",
       "      <td>0</td>\n",
       "      <td>0</td>\n",
       "    </tr>\n",
       "  </tbody>\n",
       "</table>\n",
       "<p>260601 rows × 11 columns</p>\n",
       "</div>"
      ],
      "text/plain": [
       "        area_percentage  height_percentage  count_floors_pre_eq  \\\n",
       "0                     6                  5                    2   \n",
       "1                     8                  7                    2   \n",
       "2                     5                  5                    2   \n",
       "3                     6                  5                    2   \n",
       "4                     8                  9                    3   \n",
       "...                 ...                ...                  ...   \n",
       "260596                6                  3                    1   \n",
       "260597                6                  5                    2   \n",
       "260598                6                  7                    3   \n",
       "260599               14                  6                    2   \n",
       "260600                7                  6                    3   \n",
       "\n",
       "        foundation_type_h  foundation_type_i  foundation_type_r  \\\n",
       "0                       0                  0                  1   \n",
       "1                       0                  0                  1   \n",
       "2                       0                  0                  1   \n",
       "3                       0                  0                  1   \n",
       "4                       0                  0                  1   \n",
       "...                   ...                ...                ...   \n",
       "260596                  0                  0                  1   \n",
       "260597                  0                  0                  1   \n",
       "260598                  0                  0                  1   \n",
       "260599                  0                  0                  1   \n",
       "260600                  0                  0                  1   \n",
       "\n",
       "        foundation_type_u  foundation_type_w  land_surface_condition_n  \\\n",
       "0                       0                  0                         0   \n",
       "1                       0                  0                         0   \n",
       "2                       0                  0                         0   \n",
       "3                       0                  0                         0   \n",
       "4                       0                  0                         0   \n",
       "...                   ...                ...                       ...   \n",
       "260596                  0                  0                         1   \n",
       "260597                  0                  0                         0   \n",
       "260598                  0                  0                         0   \n",
       "260599                  0                  0                         0   \n",
       "260600                  0                  0                         1   \n",
       "\n",
       "        land_surface_condition_o  land_surface_condition_t  \n",
       "0                              0                         1  \n",
       "1                              1                         0  \n",
       "2                              0                         1  \n",
       "3                              0                         1  \n",
       "4                              0                         1  \n",
       "...                          ...                       ...  \n",
       "260596                         0                         0  \n",
       "260597                         0                         1  \n",
       "260598                         0                         1  \n",
       "260599                         0                         1  \n",
       "260600                         0                         0  \n",
       "\n",
       "[260601 rows x 11 columns]"
      ]
     },
     "execution_count": 3,
     "metadata": {},
     "output_type": "execute_result"
    }
   ],
   "source": [
    "selected_features = ['foundation_type', \n",
    "                     'area_percentage', \n",
    "                     'height_percentage',\n",
    "                     'count_floors_pre_eq',\n",
    "                     'land_surface_condition']\n",
    "\n",
    "#ONE HOT ENCODING\n",
    "train_values_subset = train_values[selected_features]\n",
    "train_values_subset = pd.get_dummies(train_values_subset)\n",
    "\n",
    "\n",
    "test_values_subset = test_values[selected_features]\n",
    "test_values_subset = pd.get_dummies(test_values_subset)\n",
    "train_values_subset"
   ]
  },
  {
   "cell_type": "markdown",
   "id": "e4407b0f-df5f-458c-8427-ce96cbf43011",
   "metadata": {},
   "source": [
    "### TRYING XGBOOST WITH CROSS VALIDATION"
   ]
  },
  {
   "cell_type": "code",
   "execution_count": 4,
   "id": "31732530-7b71-4918-9152-ef0f5d6a1ab0",
   "metadata": {},
   "outputs": [],
   "source": [
    "X = train_values_subset.to_numpy()\n",
    "y = train_labels.damage_grade.to_numpy()"
   ]
  },
  {
   "cell_type": "code",
   "execution_count": 5,
   "id": "dac7d85b-6da6-4bda-aecf-dc784ba4dc57",
   "metadata": {},
   "outputs": [],
   "source": [
    "xg_reg = XGBRegressor(objective='reg:squarederror')"
   ]
  },
  {
   "cell_type": "code",
   "execution_count": 16,
   "id": "adfec609-2159-456d-96c6-b73866bbe8f4",
   "metadata": {},
   "outputs": [
    {
     "name": "stderr",
     "output_type": "stream",
     "text": [
      "/home/mauricio/.local/lib/python3.8/site-packages/sklearn/model_selection/_validation.py:696: UserWarning: Scoring failed. The score on this train-test partition for these parameters will be set to nan. Details: \n",
      "Traceback (most recent call last):\n",
      "  File \"/home/mauricio/.local/lib/python3.8/site-packages/sklearn/model_selection/_validation.py\", line 687, in _score\n",
      "    scores = scorer(estimator, X_test, y_test)\n",
      "  File \"/home/mauricio/.local/lib/python3.8/site-packages/sklearn/metrics/_scorer.py\", line 87, in __call__\n",
      "    score = scorer._score(cached_call, estimator,\n",
      "  File \"/home/mauricio/.local/lib/python3.8/site-packages/sklearn/metrics/_scorer.py\", line 242, in _score\n",
      "    return self._sign * self._score_func(y_true, y_pred,\n",
      "  File \"/home/mauricio/.local/lib/python3.8/site-packages/sklearn/utils/validation.py\", line 63, in inner_f\n",
      "    return f(*args, **kwargs)\n",
      "  File \"/home/mauricio/.local/lib/python3.8/site-packages/sklearn/metrics/_classification.py\", line 1071, in f1_score\n",
      "    return fbeta_score(y_true, y_pred, beta=1, labels=labels,\n",
      "  File \"/home/mauricio/.local/lib/python3.8/site-packages/sklearn/utils/validation.py\", line 63, in inner_f\n",
      "    return f(*args, **kwargs)\n",
      "  File \"/home/mauricio/.local/lib/python3.8/site-packages/sklearn/metrics/_classification.py\", line 1195, in fbeta_score\n",
      "    _, _, f, _ = precision_recall_fscore_support(y_true, y_pred,\n",
      "  File \"/home/mauricio/.local/lib/python3.8/site-packages/sklearn/utils/validation.py\", line 63, in inner_f\n",
      "    return f(*args, **kwargs)\n",
      "  File \"/home/mauricio/.local/lib/python3.8/site-packages/sklearn/metrics/_classification.py\", line 1464, in precision_recall_fscore_support\n",
      "    labels = _check_set_wise_labels(y_true, y_pred, average, labels,\n",
      "  File \"/home/mauricio/.local/lib/python3.8/site-packages/sklearn/metrics/_classification.py\", line 1277, in _check_set_wise_labels\n",
      "    y_type, y_true, y_pred = _check_targets(y_true, y_pred)\n",
      "  File \"/home/mauricio/.local/lib/python3.8/site-packages/sklearn/metrics/_classification.py\", line 92, in _check_targets\n",
      "    raise ValueError(\"Classification metrics can't handle a mix of {0} \"\n",
      "ValueError: Classification metrics can't handle a mix of multiclass and continuous targets\n",
      "\n",
      "  warnings.warn(\n",
      "/home/mauricio/.local/lib/python3.8/site-packages/sklearn/model_selection/_validation.py:696: UserWarning: Scoring failed. The score on this train-test partition for these parameters will be set to nan. Details: \n",
      "Traceback (most recent call last):\n",
      "  File \"/home/mauricio/.local/lib/python3.8/site-packages/sklearn/model_selection/_validation.py\", line 687, in _score\n",
      "    scores = scorer(estimator, X_test, y_test)\n",
      "  File \"/home/mauricio/.local/lib/python3.8/site-packages/sklearn/metrics/_scorer.py\", line 87, in __call__\n",
      "    score = scorer._score(cached_call, estimator,\n",
      "  File \"/home/mauricio/.local/lib/python3.8/site-packages/sklearn/metrics/_scorer.py\", line 242, in _score\n",
      "    return self._sign * self._score_func(y_true, y_pred,\n",
      "  File \"/home/mauricio/.local/lib/python3.8/site-packages/sklearn/utils/validation.py\", line 63, in inner_f\n",
      "    return f(*args, **kwargs)\n",
      "  File \"/home/mauricio/.local/lib/python3.8/site-packages/sklearn/metrics/_classification.py\", line 1071, in f1_score\n",
      "    return fbeta_score(y_true, y_pred, beta=1, labels=labels,\n",
      "  File \"/home/mauricio/.local/lib/python3.8/site-packages/sklearn/utils/validation.py\", line 63, in inner_f\n",
      "    return f(*args, **kwargs)\n",
      "  File \"/home/mauricio/.local/lib/python3.8/site-packages/sklearn/metrics/_classification.py\", line 1195, in fbeta_score\n",
      "    _, _, f, _ = precision_recall_fscore_support(y_true, y_pred,\n",
      "  File \"/home/mauricio/.local/lib/python3.8/site-packages/sklearn/utils/validation.py\", line 63, in inner_f\n",
      "    return f(*args, **kwargs)\n",
      "  File \"/home/mauricio/.local/lib/python3.8/site-packages/sklearn/metrics/_classification.py\", line 1464, in precision_recall_fscore_support\n",
      "    labels = _check_set_wise_labels(y_true, y_pred, average, labels,\n",
      "  File \"/home/mauricio/.local/lib/python3.8/site-packages/sklearn/metrics/_classification.py\", line 1277, in _check_set_wise_labels\n",
      "    y_type, y_true, y_pred = _check_targets(y_true, y_pred)\n",
      "  File \"/home/mauricio/.local/lib/python3.8/site-packages/sklearn/metrics/_classification.py\", line 92, in _check_targets\n",
      "    raise ValueError(\"Classification metrics can't handle a mix of {0} \"\n",
      "ValueError: Classification metrics can't handle a mix of multiclass and continuous targets\n",
      "\n",
      "  warnings.warn(\n",
      "/home/mauricio/.local/lib/python3.8/site-packages/sklearn/model_selection/_validation.py:696: UserWarning: Scoring failed. The score on this train-test partition for these parameters will be set to nan. Details: \n",
      "Traceback (most recent call last):\n",
      "  File \"/home/mauricio/.local/lib/python3.8/site-packages/sklearn/model_selection/_validation.py\", line 687, in _score\n",
      "    scores = scorer(estimator, X_test, y_test)\n",
      "  File \"/home/mauricio/.local/lib/python3.8/site-packages/sklearn/metrics/_scorer.py\", line 87, in __call__\n",
      "    score = scorer._score(cached_call, estimator,\n",
      "  File \"/home/mauricio/.local/lib/python3.8/site-packages/sklearn/metrics/_scorer.py\", line 242, in _score\n",
      "    return self._sign * self._score_func(y_true, y_pred,\n",
      "  File \"/home/mauricio/.local/lib/python3.8/site-packages/sklearn/utils/validation.py\", line 63, in inner_f\n",
      "    return f(*args, **kwargs)\n",
      "  File \"/home/mauricio/.local/lib/python3.8/site-packages/sklearn/metrics/_classification.py\", line 1071, in f1_score\n",
      "    return fbeta_score(y_true, y_pred, beta=1, labels=labels,\n",
      "  File \"/home/mauricio/.local/lib/python3.8/site-packages/sklearn/utils/validation.py\", line 63, in inner_f\n",
      "    return f(*args, **kwargs)\n",
      "  File \"/home/mauricio/.local/lib/python3.8/site-packages/sklearn/metrics/_classification.py\", line 1195, in fbeta_score\n",
      "    _, _, f, _ = precision_recall_fscore_support(y_true, y_pred,\n",
      "  File \"/home/mauricio/.local/lib/python3.8/site-packages/sklearn/utils/validation.py\", line 63, in inner_f\n",
      "    return f(*args, **kwargs)\n",
      "  File \"/home/mauricio/.local/lib/python3.8/site-packages/sklearn/metrics/_classification.py\", line 1464, in precision_recall_fscore_support\n",
      "    labels = _check_set_wise_labels(y_true, y_pred, average, labels,\n",
      "  File \"/home/mauricio/.local/lib/python3.8/site-packages/sklearn/metrics/_classification.py\", line 1277, in _check_set_wise_labels\n",
      "    y_type, y_true, y_pred = _check_targets(y_true, y_pred)\n",
      "  File \"/home/mauricio/.local/lib/python3.8/site-packages/sklearn/metrics/_classification.py\", line 92, in _check_targets\n",
      "    raise ValueError(\"Classification metrics can't handle a mix of {0} \"\n",
      "ValueError: Classification metrics can't handle a mix of multiclass and continuous targets\n",
      "\n",
      "  warnings.warn(\n",
      "/home/mauricio/.local/lib/python3.8/site-packages/sklearn/model_selection/_validation.py:696: UserWarning: Scoring failed. The score on this train-test partition for these parameters will be set to nan. Details: \n",
      "Traceback (most recent call last):\n",
      "  File \"/home/mauricio/.local/lib/python3.8/site-packages/sklearn/model_selection/_validation.py\", line 687, in _score\n",
      "    scores = scorer(estimator, X_test, y_test)\n",
      "  File \"/home/mauricio/.local/lib/python3.8/site-packages/sklearn/metrics/_scorer.py\", line 87, in __call__\n",
      "    score = scorer._score(cached_call, estimator,\n",
      "  File \"/home/mauricio/.local/lib/python3.8/site-packages/sklearn/metrics/_scorer.py\", line 242, in _score\n",
      "    return self._sign * self._score_func(y_true, y_pred,\n",
      "  File \"/home/mauricio/.local/lib/python3.8/site-packages/sklearn/utils/validation.py\", line 63, in inner_f\n",
      "    return f(*args, **kwargs)\n",
      "  File \"/home/mauricio/.local/lib/python3.8/site-packages/sklearn/metrics/_classification.py\", line 1071, in f1_score\n",
      "    return fbeta_score(y_true, y_pred, beta=1, labels=labels,\n",
      "  File \"/home/mauricio/.local/lib/python3.8/site-packages/sklearn/utils/validation.py\", line 63, in inner_f\n",
      "    return f(*args, **kwargs)\n",
      "  File \"/home/mauricio/.local/lib/python3.8/site-packages/sklearn/metrics/_classification.py\", line 1195, in fbeta_score\n",
      "    _, _, f, _ = precision_recall_fscore_support(y_true, y_pred,\n",
      "  File \"/home/mauricio/.local/lib/python3.8/site-packages/sklearn/utils/validation.py\", line 63, in inner_f\n",
      "    return f(*args, **kwargs)\n",
      "  File \"/home/mauricio/.local/lib/python3.8/site-packages/sklearn/metrics/_classification.py\", line 1464, in precision_recall_fscore_support\n",
      "    labels = _check_set_wise_labels(y_true, y_pred, average, labels,\n",
      "  File \"/home/mauricio/.local/lib/python3.8/site-packages/sklearn/metrics/_classification.py\", line 1277, in _check_set_wise_labels\n",
      "    y_type, y_true, y_pred = _check_targets(y_true, y_pred)\n",
      "  File \"/home/mauricio/.local/lib/python3.8/site-packages/sklearn/metrics/_classification.py\", line 92, in _check_targets\n",
      "    raise ValueError(\"Classification metrics can't handle a mix of {0} \"\n",
      "ValueError: Classification metrics can't handle a mix of multiclass and continuous targets\n",
      "\n",
      "  warnings.warn(\n",
      "/home/mauricio/.local/lib/python3.8/site-packages/sklearn/model_selection/_validation.py:696: UserWarning: Scoring failed. The score on this train-test partition for these parameters will be set to nan. Details: \n",
      "Traceback (most recent call last):\n",
      "  File \"/home/mauricio/.local/lib/python3.8/site-packages/sklearn/model_selection/_validation.py\", line 687, in _score\n",
      "    scores = scorer(estimator, X_test, y_test)\n",
      "  File \"/home/mauricio/.local/lib/python3.8/site-packages/sklearn/metrics/_scorer.py\", line 87, in __call__\n",
      "    score = scorer._score(cached_call, estimator,\n",
      "  File \"/home/mauricio/.local/lib/python3.8/site-packages/sklearn/metrics/_scorer.py\", line 242, in _score\n",
      "    return self._sign * self._score_func(y_true, y_pred,\n",
      "  File \"/home/mauricio/.local/lib/python3.8/site-packages/sklearn/utils/validation.py\", line 63, in inner_f\n",
      "    return f(*args, **kwargs)\n",
      "  File \"/home/mauricio/.local/lib/python3.8/site-packages/sklearn/metrics/_classification.py\", line 1071, in f1_score\n",
      "    return fbeta_score(y_true, y_pred, beta=1, labels=labels,\n",
      "  File \"/home/mauricio/.local/lib/python3.8/site-packages/sklearn/utils/validation.py\", line 63, in inner_f\n",
      "    return f(*args, **kwargs)\n",
      "  File \"/home/mauricio/.local/lib/python3.8/site-packages/sklearn/metrics/_classification.py\", line 1195, in fbeta_score\n",
      "    _, _, f, _ = precision_recall_fscore_support(y_true, y_pred,\n",
      "  File \"/home/mauricio/.local/lib/python3.8/site-packages/sklearn/utils/validation.py\", line 63, in inner_f\n",
      "    return f(*args, **kwargs)\n",
      "  File \"/home/mauricio/.local/lib/python3.8/site-packages/sklearn/metrics/_classification.py\", line 1464, in precision_recall_fscore_support\n",
      "    labels = _check_set_wise_labels(y_true, y_pred, average, labels,\n",
      "  File \"/home/mauricio/.local/lib/python3.8/site-packages/sklearn/metrics/_classification.py\", line 1277, in _check_set_wise_labels\n",
      "    y_type, y_true, y_pred = _check_targets(y_true, y_pred)\n",
      "  File \"/home/mauricio/.local/lib/python3.8/site-packages/sklearn/metrics/_classification.py\", line 92, in _check_targets\n",
      "    raise ValueError(\"Classification metrics can't handle a mix of {0} \"\n",
      "ValueError: Classification metrics can't handle a mix of multiclass and continuous targets\n",
      "\n",
      "  warnings.warn(\n"
     ]
    }
   ],
   "source": [
    "scores = cross_val_score(xg_reg, X, y=y, scoring='f1_micro')\n",
    "#hay que revisar que tirar error por multiclass\n",
    "#Classification metrics can't handle a mix of multiclass and continuous targets"
   ]
  },
  {
   "cell_type": "code",
   "execution_count": 7,
   "id": "6682edd0-1124-44b5-8b23-8e31f4c6fc05",
   "metadata": {},
   "outputs": [
    {
     "data": {
      "text/plain": [
       "array([nan, nan, nan, nan, nan])"
      ]
     },
     "execution_count": 7,
     "metadata": {},
     "output_type": "execute_result"
    }
   ],
   "source": [
    "scores"
   ]
  },
  {
   "cell_type": "code",
   "execution_count": 8,
   "id": "314bbcdb-2a0b-41ba-9632-7fe6866ca2ee",
   "metadata": {},
   "outputs": [
    {
     "data": {
      "text/plain": [
       "dict_keys(['explained_variance', 'r2', 'max_error', 'neg_median_absolute_error', 'neg_mean_absolute_error', 'neg_mean_absolute_percentage_error', 'neg_mean_squared_error', 'neg_mean_squared_log_error', 'neg_root_mean_squared_error', 'neg_mean_poisson_deviance', 'neg_mean_gamma_deviance', 'accuracy', 'top_k_accuracy', 'roc_auc', 'roc_auc_ovr', 'roc_auc_ovo', 'roc_auc_ovr_weighted', 'roc_auc_ovo_weighted', 'balanced_accuracy', 'average_precision', 'neg_log_loss', 'neg_brier_score', 'adjusted_rand_score', 'rand_score', 'homogeneity_score', 'completeness_score', 'v_measure_score', 'mutual_info_score', 'adjusted_mutual_info_score', 'normalized_mutual_info_score', 'fowlkes_mallows_score', 'precision', 'precision_macro', 'precision_micro', 'precision_samples', 'precision_weighted', 'recall', 'recall_macro', 'recall_micro', 'recall_samples', 'recall_weighted', 'f1', 'f1_macro', 'f1_micro', 'f1_samples', 'f1_weighted', 'jaccard', 'jaccard_macro', 'jaccard_micro', 'jaccard_samples', 'jaccard_weighted'])"
      ]
     },
     "execution_count": 8,
     "metadata": {},
     "output_type": "execute_result"
    }
   ],
   "source": [
    "sklearn.metrics.SCORERS.keys()"
   ]
  },
  {
   "cell_type": "markdown",
   "id": "cc832db6-c6b2-470f-9f06-3912c0c81eba",
   "metadata": {},
   "source": [
    "### SIMPLE XGBOOST WITH TRAIN SPLIT"
   ]
  },
  {
   "cell_type": "code",
   "execution_count": 9,
   "id": "4e79ad70-fa29-462f-beb2-7c20fd63115e",
   "metadata": {},
   "outputs": [],
   "source": [
    "X = train_values_subset.to_numpy();\n",
    "y = train_labels.damage_grade.to_numpy();\n",
    "X_train,X_test, y_train, y_test = train_test_split(X, y, test_size=0.2, random_state=42)"
   ]
  },
  {
   "cell_type": "code",
   "execution_count": 10,
   "id": "edb3accc-ddda-440b-9c75-f152b73e0aff",
   "metadata": {},
   "outputs": [],
   "source": [
    "xg_reg = XGBRegressor(objective='reg:squarederror')"
   ]
  },
  {
   "cell_type": "code",
   "execution_count": 11,
   "id": "6902fb6c-eb63-43f0-b9fd-4a8fa38c585e",
   "metadata": {},
   "outputs": [
    {
     "data": {
      "text/plain": [
       "XGBRegressor(base_score=0.5, booster='gbtree', colsample_bylevel=1,\n",
       "             colsample_bynode=1, colsample_bytree=1, gamma=0, gpu_id=-1,\n",
       "             importance_type='gain', interaction_constraints='',\n",
       "             learning_rate=0.300000012, max_delta_step=0, max_depth=6,\n",
       "             min_child_weight=1, missing=nan, monotone_constraints='()',\n",
       "             n_estimators=100, n_jobs=6, num_parallel_tree=1, random_state=0,\n",
       "             reg_alpha=0, reg_lambda=1, scale_pos_weight=1, subsample=1,\n",
       "             tree_method='exact', validate_parameters=1, verbosity=None)"
      ]
     },
     "execution_count": 11,
     "metadata": {},
     "output_type": "execute_result"
    }
   ],
   "source": [
    "xg_reg.fit(X_train, y_train)"
   ]
  },
  {
   "cell_type": "code",
   "execution_count": 12,
   "id": "63f0fcef-9eb8-46e8-964d-381a85199df4",
   "metadata": {},
   "outputs": [],
   "source": [
    "prediction = xg_reg.predict(X_test)"
   ]
  },
  {
   "cell_type": "code",
   "execution_count": 13,
   "id": "fa80c62d-ed21-44b9-8722-527d43b98945",
   "metadata": {},
   "outputs": [],
   "source": [
    "prediction = prediction.astype(int)"
   ]
  },
  {
   "cell_type": "code",
   "execution_count": 18,
   "id": "616bfe2f-7224-42fc-9ca3-98d28df12eb4",
   "metadata": {},
   "outputs": [
    {
     "data": {
      "text/plain": [
       "0.5464783868306441"
      ]
     },
     "execution_count": 18,
     "metadata": {},
     "output_type": "execute_result"
    }
   ],
   "source": [
    "error = f1_score(y_test, prediction, average='micro')\n",
    "error"
   ]
  },
  {
   "cell_type": "markdown",
   "id": "10cfa06e-5d9e-4eb0-9d2d-7347a2541f48",
   "metadata": {},
   "source": [
    "### TRYING WITH GRIDSEARCH"
   ]
  },
  {
   "cell_type": "code",
   "execution_count": 27,
   "id": "c044b304-9280-42d0-874f-d83998f4b1f2",
   "metadata": {},
   "outputs": [],
   "source": [
    "param_grid = {'learning_rate': [1,5]}\n",
    "gs = GridSearchCV(xg_reg, param_grid, cv=10)"
   ]
  },
  {
   "cell_type": "code",
   "execution_count": 28,
   "id": "4539d171-966c-4ef0-8589-59c6afc42df0",
   "metadata": {},
   "outputs": [
    {
     "data": {
      "text/plain": [
       "GridSearchCV(cv=10,\n",
       "             estimator=XGBRegressor(base_score=0.5, booster='gbtree',\n",
       "                                    colsample_bylevel=1, colsample_bynode=1,\n",
       "                                    colsample_bytree=1, gamma=0, gpu_id=-1,\n",
       "                                    importance_type='gain',\n",
       "                                    interaction_constraints='',\n",
       "                                    learning_rate=0.300000012, max_delta_step=0,\n",
       "                                    max_depth=6, min_child_weight=1,\n",
       "                                    missing=nan, monotone_constraints='()',\n",
       "                                    n_estimators=100, n_jobs=6,\n",
       "                                    num_parallel_tree=1, random_state=0,\n",
       "                                    reg_alpha=0, reg_lambda=1,\n",
       "                                    scale_pos_weight=1, subsample=1,\n",
       "                                    tree_method='exact', validate_parameters=1,\n",
       "                                    verbosity=None),\n",
       "             param_grid={'learning_rate': [0.1, 1], 'max_depth': [1, 20]})"
      ]
     },
     "execution_count": 28,
     "metadata": {},
     "output_type": "execute_result"
    }
   ],
   "source": [
    "gs.fit(X_train, y_train)"
   ]
  },
  {
   "cell_type": "code",
   "execution_count": 29,
   "id": "9205b146-f61f-4e8b-a091-68d534d24e54",
   "metadata": {},
   "outputs": [
    {
     "data": {
      "text/plain": [
       "{'learning_rate': 1, 'max_depth': 1}"
      ]
     },
     "execution_count": 29,
     "metadata": {},
     "output_type": "execute_result"
    }
   ],
   "source": [
    "gs.best_params_"
   ]
  },
  {
   "cell_type": "code",
   "execution_count": 30,
   "id": "a3d531d5-a26c-4802-9a08-8638719fb114",
   "metadata": {},
   "outputs": [
    {
     "data": {
      "text/plain": [
       "GridSearchCV(cv=10,\n",
       "             estimator=XGBRegressor(base_score=0.5, booster='gbtree',\n",
       "                                    colsample_bylevel=1, colsample_bynode=1,\n",
       "                                    colsample_bytree=1, gamma=0, gpu_id=-1,\n",
       "                                    importance_type='gain',\n",
       "                                    interaction_constraints='',\n",
       "                                    learning_rate=0.300000012, max_delta_step=0,\n",
       "                                    max_depth=6, min_child_weight=1,\n",
       "                                    missing=nan, monotone_constraints='()',\n",
       "                                    n_estimators=100, n_jobs=6,\n",
       "                                    num_parallel_tree=1, random_state=0,\n",
       "                                    reg_alpha=0, reg_lambda=1,\n",
       "                                    scale_pos_weight=1, subsample=1,\n",
       "                                    tree_method='exact', validate_parameters=1,\n",
       "                                    verbosity=None),\n",
       "             param_grid={'learning_rate': [0.1, 1], 'max_depth': [1, 20]})"
      ]
     },
     "execution_count": 30,
     "metadata": {},
     "output_type": "execute_result"
    }
   ],
   "source": [
    "gs"
   ]
  },
  {
   "cell_type": "code",
   "execution_count": 32,
   "id": "7137dc8a-5eef-4907-b586-19877970fcac",
   "metadata": {},
   "outputs": [
    {
     "data": {
      "text/plain": [
       "array([2, 2, 2, ..., 2, 2, 2])"
      ]
     },
     "execution_count": 32,
     "metadata": {},
     "output_type": "execute_result"
    }
   ],
   "source": [
    "prediction = gs.predict(X_test)\n",
    "prediction = prediction.astype(int)\n",
    "prediction"
   ]
  },
  {
   "cell_type": "code",
   "execution_count": 33,
   "id": "4ff27676-b79b-4085-adef-74b85876c8c7",
   "metadata": {},
   "outputs": [
    {
     "data": {
      "text/plain": [
       "0.5401277795898006"
      ]
     },
     "execution_count": 33,
     "metadata": {},
     "output_type": "execute_result"
    }
   ],
   "source": [
    "error = f1_score(y_test, prediction, average='micro')\n",
    "error"
   ]
  },
  {
   "cell_type": "code",
   "execution_count": null,
   "id": "bb9870be-6162-41cf-a09f-22e1e58f5422",
   "metadata": {},
   "outputs": [],
   "source": []
  }
 ],
 "metadata": {
  "kernelspec": {
   "display_name": "Python 3",
   "language": "python",
   "name": "python3"
  },
  "language_info": {
   "codemirror_mode": {
    "name": "ipython",
    "version": 3
   },
   "file_extension": ".py",
   "mimetype": "text/x-python",
   "name": "python",
   "nbconvert_exporter": "python",
   "pygments_lexer": "ipython3",
   "version": "3.8.10"
  }
 },
 "nbformat": 4,
 "nbformat_minor": 5
}
