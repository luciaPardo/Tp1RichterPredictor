{
 "cells": [
  {
   "cell_type": "code",
   "execution_count": 1,
   "metadata": {},
   "outputs": [],
   "source": [
    "import pandas as pd"
   ]
  },
  {
   "cell_type": "code",
   "execution_count": 2,
   "metadata": {},
   "outputs": [
    {
     "data": {
      "text/html": [
       "<div>\n",
       "<style scoped>\n",
       "    .dataframe tbody tr th:only-of-type {\n",
       "        vertical-align: middle;\n",
       "    }\n",
       "\n",
       "    .dataframe tbody tr th {\n",
       "        vertical-align: top;\n",
       "    }\n",
       "\n",
       "    .dataframe thead th {\n",
       "        text-align: right;\n",
       "    }\n",
       "</style>\n",
       "<table border=\"1\" class=\"dataframe\">\n",
       "  <thead>\n",
       "    <tr style=\"text-align: right;\">\n",
       "      <th></th>\n",
       "      <th>building_id</th>\n",
       "      <th>damage_grade</th>\n",
       "    </tr>\n",
       "  </thead>\n",
       "  <tbody>\n",
       "    <tr>\n",
       "      <th>0</th>\n",
       "      <td>802906</td>\n",
       "      <td>3</td>\n",
       "    </tr>\n",
       "    <tr>\n",
       "      <th>1</th>\n",
       "      <td>28830</td>\n",
       "      <td>2</td>\n",
       "    </tr>\n",
       "    <tr>\n",
       "      <th>2</th>\n",
       "      <td>94947</td>\n",
       "      <td>3</td>\n",
       "    </tr>\n",
       "    <tr>\n",
       "      <th>3</th>\n",
       "      <td>590882</td>\n",
       "      <td>2</td>\n",
       "    </tr>\n",
       "    <tr>\n",
       "      <th>4</th>\n",
       "      <td>201944</td>\n",
       "      <td>3</td>\n",
       "    </tr>\n",
       "    <tr>\n",
       "      <th>...</th>\n",
       "      <td>...</td>\n",
       "      <td>...</td>\n",
       "    </tr>\n",
       "    <tr>\n",
       "      <th>260596</th>\n",
       "      <td>688636</td>\n",
       "      <td>2</td>\n",
       "    </tr>\n",
       "    <tr>\n",
       "      <th>260597</th>\n",
       "      <td>669485</td>\n",
       "      <td>3</td>\n",
       "    </tr>\n",
       "    <tr>\n",
       "      <th>260598</th>\n",
       "      <td>602512</td>\n",
       "      <td>3</td>\n",
       "    </tr>\n",
       "    <tr>\n",
       "      <th>260599</th>\n",
       "      <td>151409</td>\n",
       "      <td>2</td>\n",
       "    </tr>\n",
       "    <tr>\n",
       "      <th>260600</th>\n",
       "      <td>747594</td>\n",
       "      <td>3</td>\n",
       "    </tr>\n",
       "  </tbody>\n",
       "</table>\n",
       "<p>260601 rows × 2 columns</p>\n",
       "</div>"
      ],
      "text/plain": [
       "        building_id  damage_grade\n",
       "0            802906             3\n",
       "1             28830             2\n",
       "2             94947             3\n",
       "3            590882             2\n",
       "4            201944             3\n",
       "...             ...           ...\n",
       "260596       688636             2\n",
       "260597       669485             3\n",
       "260598       602512             3\n",
       "260599       151409             2\n",
       "260600       747594             3\n",
       "\n",
       "[260601 rows x 2 columns]"
      ]
     },
     "execution_count": 2,
     "metadata": {},
     "output_type": "execute_result"
    }
   ],
   "source": [
    "labels = pd.read_csv('train_labels.csv')\n",
    "labels"
   ]
  },
  {
   "cell_type": "code",
   "execution_count": 3,
   "metadata": {},
   "outputs": [
    {
     "data": {
      "text/html": [
       "<div>\n",
       "<style scoped>\n",
       "    .dataframe tbody tr th:only-of-type {\n",
       "        vertical-align: middle;\n",
       "    }\n",
       "\n",
       "    .dataframe tbody tr th {\n",
       "        vertical-align: top;\n",
       "    }\n",
       "\n",
       "    .dataframe thead th {\n",
       "        text-align: right;\n",
       "    }\n",
       "</style>\n",
       "<table border=\"1\" class=\"dataframe\">\n",
       "  <thead>\n",
       "    <tr style=\"text-align: right;\">\n",
       "      <th></th>\n",
       "      <th>building_id</th>\n",
       "      <th>geo_level_1_id</th>\n",
       "      <th>geo_level_2_id</th>\n",
       "      <th>geo_level_3_id</th>\n",
       "      <th>count_floors_pre_eq</th>\n",
       "      <th>age</th>\n",
       "      <th>area_percentage</th>\n",
       "      <th>height_percentage</th>\n",
       "      <th>land_surface_condition</th>\n",
       "      <th>foundation_type</th>\n",
       "      <th>...</th>\n",
       "      <th>has_secondary_use_agriculture</th>\n",
       "      <th>has_secondary_use_hotel</th>\n",
       "      <th>has_secondary_use_rental</th>\n",
       "      <th>has_secondary_use_institution</th>\n",
       "      <th>has_secondary_use_school</th>\n",
       "      <th>has_secondary_use_industry</th>\n",
       "      <th>has_secondary_use_health_post</th>\n",
       "      <th>has_secondary_use_gov_office</th>\n",
       "      <th>has_secondary_use_use_police</th>\n",
       "      <th>has_secondary_use_other</th>\n",
       "    </tr>\n",
       "  </thead>\n",
       "  <tbody>\n",
       "    <tr>\n",
       "      <th>0</th>\n",
       "      <td>802906</td>\n",
       "      <td>6</td>\n",
       "      <td>487</td>\n",
       "      <td>12198</td>\n",
       "      <td>2</td>\n",
       "      <td>30</td>\n",
       "      <td>6</td>\n",
       "      <td>5</td>\n",
       "      <td>t</td>\n",
       "      <td>r</td>\n",
       "      <td>...</td>\n",
       "      <td>0</td>\n",
       "      <td>0</td>\n",
       "      <td>0</td>\n",
       "      <td>0</td>\n",
       "      <td>0</td>\n",
       "      <td>0</td>\n",
       "      <td>0</td>\n",
       "      <td>0</td>\n",
       "      <td>0</td>\n",
       "      <td>0</td>\n",
       "    </tr>\n",
       "    <tr>\n",
       "      <th>1</th>\n",
       "      <td>28830</td>\n",
       "      <td>8</td>\n",
       "      <td>900</td>\n",
       "      <td>2812</td>\n",
       "      <td>2</td>\n",
       "      <td>10</td>\n",
       "      <td>8</td>\n",
       "      <td>7</td>\n",
       "      <td>o</td>\n",
       "      <td>r</td>\n",
       "      <td>...</td>\n",
       "      <td>0</td>\n",
       "      <td>0</td>\n",
       "      <td>0</td>\n",
       "      <td>0</td>\n",
       "      <td>0</td>\n",
       "      <td>0</td>\n",
       "      <td>0</td>\n",
       "      <td>0</td>\n",
       "      <td>0</td>\n",
       "      <td>0</td>\n",
       "    </tr>\n",
       "    <tr>\n",
       "      <th>2</th>\n",
       "      <td>94947</td>\n",
       "      <td>21</td>\n",
       "      <td>363</td>\n",
       "      <td>8973</td>\n",
       "      <td>2</td>\n",
       "      <td>10</td>\n",
       "      <td>5</td>\n",
       "      <td>5</td>\n",
       "      <td>t</td>\n",
       "      <td>r</td>\n",
       "      <td>...</td>\n",
       "      <td>0</td>\n",
       "      <td>0</td>\n",
       "      <td>0</td>\n",
       "      <td>0</td>\n",
       "      <td>0</td>\n",
       "      <td>0</td>\n",
       "      <td>0</td>\n",
       "      <td>0</td>\n",
       "      <td>0</td>\n",
       "      <td>0</td>\n",
       "    </tr>\n",
       "    <tr>\n",
       "      <th>3</th>\n",
       "      <td>590882</td>\n",
       "      <td>22</td>\n",
       "      <td>418</td>\n",
       "      <td>10694</td>\n",
       "      <td>2</td>\n",
       "      <td>10</td>\n",
       "      <td>6</td>\n",
       "      <td>5</td>\n",
       "      <td>t</td>\n",
       "      <td>r</td>\n",
       "      <td>...</td>\n",
       "      <td>0</td>\n",
       "      <td>0</td>\n",
       "      <td>0</td>\n",
       "      <td>0</td>\n",
       "      <td>0</td>\n",
       "      <td>0</td>\n",
       "      <td>0</td>\n",
       "      <td>0</td>\n",
       "      <td>0</td>\n",
       "      <td>0</td>\n",
       "    </tr>\n",
       "    <tr>\n",
       "      <th>4</th>\n",
       "      <td>201944</td>\n",
       "      <td>11</td>\n",
       "      <td>131</td>\n",
       "      <td>1488</td>\n",
       "      <td>3</td>\n",
       "      <td>30</td>\n",
       "      <td>8</td>\n",
       "      <td>9</td>\n",
       "      <td>t</td>\n",
       "      <td>r</td>\n",
       "      <td>...</td>\n",
       "      <td>0</td>\n",
       "      <td>0</td>\n",
       "      <td>0</td>\n",
       "      <td>0</td>\n",
       "      <td>0</td>\n",
       "      <td>0</td>\n",
       "      <td>0</td>\n",
       "      <td>0</td>\n",
       "      <td>0</td>\n",
       "      <td>0</td>\n",
       "    </tr>\n",
       "    <tr>\n",
       "      <th>...</th>\n",
       "      <td>...</td>\n",
       "      <td>...</td>\n",
       "      <td>...</td>\n",
       "      <td>...</td>\n",
       "      <td>...</td>\n",
       "      <td>...</td>\n",
       "      <td>...</td>\n",
       "      <td>...</td>\n",
       "      <td>...</td>\n",
       "      <td>...</td>\n",
       "      <td>...</td>\n",
       "      <td>...</td>\n",
       "      <td>...</td>\n",
       "      <td>...</td>\n",
       "      <td>...</td>\n",
       "      <td>...</td>\n",
       "      <td>...</td>\n",
       "      <td>...</td>\n",
       "      <td>...</td>\n",
       "      <td>...</td>\n",
       "      <td>...</td>\n",
       "    </tr>\n",
       "    <tr>\n",
       "      <th>260596</th>\n",
       "      <td>688636</td>\n",
       "      <td>25</td>\n",
       "      <td>1335</td>\n",
       "      <td>1621</td>\n",
       "      <td>1</td>\n",
       "      <td>55</td>\n",
       "      <td>6</td>\n",
       "      <td>3</td>\n",
       "      <td>n</td>\n",
       "      <td>r</td>\n",
       "      <td>...</td>\n",
       "      <td>0</td>\n",
       "      <td>0</td>\n",
       "      <td>0</td>\n",
       "      <td>0</td>\n",
       "      <td>0</td>\n",
       "      <td>0</td>\n",
       "      <td>0</td>\n",
       "      <td>0</td>\n",
       "      <td>0</td>\n",
       "      <td>0</td>\n",
       "    </tr>\n",
       "    <tr>\n",
       "      <th>260597</th>\n",
       "      <td>669485</td>\n",
       "      <td>17</td>\n",
       "      <td>715</td>\n",
       "      <td>2060</td>\n",
       "      <td>2</td>\n",
       "      <td>0</td>\n",
       "      <td>6</td>\n",
       "      <td>5</td>\n",
       "      <td>t</td>\n",
       "      <td>r</td>\n",
       "      <td>...</td>\n",
       "      <td>0</td>\n",
       "      <td>0</td>\n",
       "      <td>0</td>\n",
       "      <td>0</td>\n",
       "      <td>0</td>\n",
       "      <td>0</td>\n",
       "      <td>0</td>\n",
       "      <td>0</td>\n",
       "      <td>0</td>\n",
       "      <td>0</td>\n",
       "    </tr>\n",
       "    <tr>\n",
       "      <th>260598</th>\n",
       "      <td>602512</td>\n",
       "      <td>17</td>\n",
       "      <td>51</td>\n",
       "      <td>8163</td>\n",
       "      <td>3</td>\n",
       "      <td>55</td>\n",
       "      <td>6</td>\n",
       "      <td>7</td>\n",
       "      <td>t</td>\n",
       "      <td>r</td>\n",
       "      <td>...</td>\n",
       "      <td>0</td>\n",
       "      <td>0</td>\n",
       "      <td>0</td>\n",
       "      <td>0</td>\n",
       "      <td>0</td>\n",
       "      <td>0</td>\n",
       "      <td>0</td>\n",
       "      <td>0</td>\n",
       "      <td>0</td>\n",
       "      <td>0</td>\n",
       "    </tr>\n",
       "    <tr>\n",
       "      <th>260599</th>\n",
       "      <td>151409</td>\n",
       "      <td>26</td>\n",
       "      <td>39</td>\n",
       "      <td>1851</td>\n",
       "      <td>2</td>\n",
       "      <td>10</td>\n",
       "      <td>14</td>\n",
       "      <td>6</td>\n",
       "      <td>t</td>\n",
       "      <td>r</td>\n",
       "      <td>...</td>\n",
       "      <td>0</td>\n",
       "      <td>0</td>\n",
       "      <td>0</td>\n",
       "      <td>0</td>\n",
       "      <td>0</td>\n",
       "      <td>0</td>\n",
       "      <td>0</td>\n",
       "      <td>0</td>\n",
       "      <td>0</td>\n",
       "      <td>0</td>\n",
       "    </tr>\n",
       "    <tr>\n",
       "      <th>260600</th>\n",
       "      <td>747594</td>\n",
       "      <td>21</td>\n",
       "      <td>9</td>\n",
       "      <td>9101</td>\n",
       "      <td>3</td>\n",
       "      <td>10</td>\n",
       "      <td>7</td>\n",
       "      <td>6</td>\n",
       "      <td>n</td>\n",
       "      <td>r</td>\n",
       "      <td>...</td>\n",
       "      <td>0</td>\n",
       "      <td>0</td>\n",
       "      <td>0</td>\n",
       "      <td>0</td>\n",
       "      <td>0</td>\n",
       "      <td>0</td>\n",
       "      <td>0</td>\n",
       "      <td>0</td>\n",
       "      <td>0</td>\n",
       "      <td>0</td>\n",
       "    </tr>\n",
       "  </tbody>\n",
       "</table>\n",
       "<p>260601 rows × 39 columns</p>\n",
       "</div>"
      ],
      "text/plain": [
       "        building_id  geo_level_1_id  geo_level_2_id  geo_level_3_id  \\\n",
       "0            802906               6             487           12198   \n",
       "1             28830               8             900            2812   \n",
       "2             94947              21             363            8973   \n",
       "3            590882              22             418           10694   \n",
       "4            201944              11             131            1488   \n",
       "...             ...             ...             ...             ...   \n",
       "260596       688636              25            1335            1621   \n",
       "260597       669485              17             715            2060   \n",
       "260598       602512              17              51            8163   \n",
       "260599       151409              26              39            1851   \n",
       "260600       747594              21               9            9101   \n",
       "\n",
       "        count_floors_pre_eq  age  area_percentage  height_percentage  \\\n",
       "0                         2   30                6                  5   \n",
       "1                         2   10                8                  7   \n",
       "2                         2   10                5                  5   \n",
       "3                         2   10                6                  5   \n",
       "4                         3   30                8                  9   \n",
       "...                     ...  ...              ...                ...   \n",
       "260596                    1   55                6                  3   \n",
       "260597                    2    0                6                  5   \n",
       "260598                    3   55                6                  7   \n",
       "260599                    2   10               14                  6   \n",
       "260600                    3   10                7                  6   \n",
       "\n",
       "       land_surface_condition foundation_type  ...  \\\n",
       "0                           t               r  ...   \n",
       "1                           o               r  ...   \n",
       "2                           t               r  ...   \n",
       "3                           t               r  ...   \n",
       "4                           t               r  ...   \n",
       "...                       ...             ...  ...   \n",
       "260596                      n               r  ...   \n",
       "260597                      t               r  ...   \n",
       "260598                      t               r  ...   \n",
       "260599                      t               r  ...   \n",
       "260600                      n               r  ...   \n",
       "\n",
       "       has_secondary_use_agriculture has_secondary_use_hotel  \\\n",
       "0                                  0                       0   \n",
       "1                                  0                       0   \n",
       "2                                  0                       0   \n",
       "3                                  0                       0   \n",
       "4                                  0                       0   \n",
       "...                              ...                     ...   \n",
       "260596                             0                       0   \n",
       "260597                             0                       0   \n",
       "260598                             0                       0   \n",
       "260599                             0                       0   \n",
       "260600                             0                       0   \n",
       "\n",
       "       has_secondary_use_rental has_secondary_use_institution  \\\n",
       "0                             0                             0   \n",
       "1                             0                             0   \n",
       "2                             0                             0   \n",
       "3                             0                             0   \n",
       "4                             0                             0   \n",
       "...                         ...                           ...   \n",
       "260596                        0                             0   \n",
       "260597                        0                             0   \n",
       "260598                        0                             0   \n",
       "260599                        0                             0   \n",
       "260600                        0                             0   \n",
       "\n",
       "       has_secondary_use_school  has_secondary_use_industry  \\\n",
       "0                             0                           0   \n",
       "1                             0                           0   \n",
       "2                             0                           0   \n",
       "3                             0                           0   \n",
       "4                             0                           0   \n",
       "...                         ...                         ...   \n",
       "260596                        0                           0   \n",
       "260597                        0                           0   \n",
       "260598                        0                           0   \n",
       "260599                        0                           0   \n",
       "260600                        0                           0   \n",
       "\n",
       "        has_secondary_use_health_post  has_secondary_use_gov_office  \\\n",
       "0                                   0                             0   \n",
       "1                                   0                             0   \n",
       "2                                   0                             0   \n",
       "3                                   0                             0   \n",
       "4                                   0                             0   \n",
       "...                               ...                           ...   \n",
       "260596                              0                             0   \n",
       "260597                              0                             0   \n",
       "260598                              0                             0   \n",
       "260599                              0                             0   \n",
       "260600                              0                             0   \n",
       "\n",
       "        has_secondary_use_use_police  has_secondary_use_other  \n",
       "0                                  0                        0  \n",
       "1                                  0                        0  \n",
       "2                                  0                        0  \n",
       "3                                  0                        0  \n",
       "4                                  0                        0  \n",
       "...                              ...                      ...  \n",
       "260596                             0                        0  \n",
       "260597                             0                        0  \n",
       "260598                             0                        0  \n",
       "260599                             0                        0  \n",
       "260600                             0                        0  \n",
       "\n",
       "[260601 rows x 39 columns]"
      ]
     },
     "execution_count": 3,
     "metadata": {},
     "output_type": "execute_result"
    }
   ],
   "source": [
    "values = pd.read_csv('train_values.csv')\n",
    "values"
   ]
  },
  {
   "cell_type": "code",
   "execution_count": 4,
   "metadata": {},
   "outputs": [
    {
     "data": {
      "text/html": [
       "<div>\n",
       "<style scoped>\n",
       "    .dataframe tbody tr th:only-of-type {\n",
       "        vertical-align: middle;\n",
       "    }\n",
       "\n",
       "    .dataframe tbody tr th {\n",
       "        vertical-align: top;\n",
       "    }\n",
       "\n",
       "    .dataframe thead th {\n",
       "        text-align: right;\n",
       "    }\n",
       "</style>\n",
       "<table border=\"1\" class=\"dataframe\">\n",
       "  <thead>\n",
       "    <tr style=\"text-align: right;\">\n",
       "      <th></th>\n",
       "      <th>building_id</th>\n",
       "      <th>damage_grade</th>\n",
       "      <th>geo_level_1_id</th>\n",
       "      <th>geo_level_2_id</th>\n",
       "      <th>geo_level_3_id</th>\n",
       "      <th>count_floors_pre_eq</th>\n",
       "      <th>age</th>\n",
       "      <th>area_percentage</th>\n",
       "      <th>height_percentage</th>\n",
       "      <th>land_surface_condition</th>\n",
       "      <th>...</th>\n",
       "      <th>has_secondary_use_agriculture</th>\n",
       "      <th>has_secondary_use_hotel</th>\n",
       "      <th>has_secondary_use_rental</th>\n",
       "      <th>has_secondary_use_institution</th>\n",
       "      <th>has_secondary_use_school</th>\n",
       "      <th>has_secondary_use_industry</th>\n",
       "      <th>has_secondary_use_health_post</th>\n",
       "      <th>has_secondary_use_gov_office</th>\n",
       "      <th>has_secondary_use_use_police</th>\n",
       "      <th>has_secondary_use_other</th>\n",
       "    </tr>\n",
       "  </thead>\n",
       "  <tbody>\n",
       "    <tr>\n",
       "      <th>0</th>\n",
       "      <td>802906</td>\n",
       "      <td>3</td>\n",
       "      <td>6</td>\n",
       "      <td>487</td>\n",
       "      <td>12198</td>\n",
       "      <td>2</td>\n",
       "      <td>30</td>\n",
       "      <td>6</td>\n",
       "      <td>5</td>\n",
       "      <td>t</td>\n",
       "      <td>...</td>\n",
       "      <td>0</td>\n",
       "      <td>0</td>\n",
       "      <td>0</td>\n",
       "      <td>0</td>\n",
       "      <td>0</td>\n",
       "      <td>0</td>\n",
       "      <td>0</td>\n",
       "      <td>0</td>\n",
       "      <td>0</td>\n",
       "      <td>0</td>\n",
       "    </tr>\n",
       "    <tr>\n",
       "      <th>1</th>\n",
       "      <td>28830</td>\n",
       "      <td>2</td>\n",
       "      <td>8</td>\n",
       "      <td>900</td>\n",
       "      <td>2812</td>\n",
       "      <td>2</td>\n",
       "      <td>10</td>\n",
       "      <td>8</td>\n",
       "      <td>7</td>\n",
       "      <td>o</td>\n",
       "      <td>...</td>\n",
       "      <td>0</td>\n",
       "      <td>0</td>\n",
       "      <td>0</td>\n",
       "      <td>0</td>\n",
       "      <td>0</td>\n",
       "      <td>0</td>\n",
       "      <td>0</td>\n",
       "      <td>0</td>\n",
       "      <td>0</td>\n",
       "      <td>0</td>\n",
       "    </tr>\n",
       "    <tr>\n",
       "      <th>2</th>\n",
       "      <td>94947</td>\n",
       "      <td>3</td>\n",
       "      <td>21</td>\n",
       "      <td>363</td>\n",
       "      <td>8973</td>\n",
       "      <td>2</td>\n",
       "      <td>10</td>\n",
       "      <td>5</td>\n",
       "      <td>5</td>\n",
       "      <td>t</td>\n",
       "      <td>...</td>\n",
       "      <td>0</td>\n",
       "      <td>0</td>\n",
       "      <td>0</td>\n",
       "      <td>0</td>\n",
       "      <td>0</td>\n",
       "      <td>0</td>\n",
       "      <td>0</td>\n",
       "      <td>0</td>\n",
       "      <td>0</td>\n",
       "      <td>0</td>\n",
       "    </tr>\n",
       "    <tr>\n",
       "      <th>3</th>\n",
       "      <td>590882</td>\n",
       "      <td>2</td>\n",
       "      <td>22</td>\n",
       "      <td>418</td>\n",
       "      <td>10694</td>\n",
       "      <td>2</td>\n",
       "      <td>10</td>\n",
       "      <td>6</td>\n",
       "      <td>5</td>\n",
       "      <td>t</td>\n",
       "      <td>...</td>\n",
       "      <td>0</td>\n",
       "      <td>0</td>\n",
       "      <td>0</td>\n",
       "      <td>0</td>\n",
       "      <td>0</td>\n",
       "      <td>0</td>\n",
       "      <td>0</td>\n",
       "      <td>0</td>\n",
       "      <td>0</td>\n",
       "      <td>0</td>\n",
       "    </tr>\n",
       "    <tr>\n",
       "      <th>4</th>\n",
       "      <td>201944</td>\n",
       "      <td>3</td>\n",
       "      <td>11</td>\n",
       "      <td>131</td>\n",
       "      <td>1488</td>\n",
       "      <td>3</td>\n",
       "      <td>30</td>\n",
       "      <td>8</td>\n",
       "      <td>9</td>\n",
       "      <td>t</td>\n",
       "      <td>...</td>\n",
       "      <td>0</td>\n",
       "      <td>0</td>\n",
       "      <td>0</td>\n",
       "      <td>0</td>\n",
       "      <td>0</td>\n",
       "      <td>0</td>\n",
       "      <td>0</td>\n",
       "      <td>0</td>\n",
       "      <td>0</td>\n",
       "      <td>0</td>\n",
       "    </tr>\n",
       "    <tr>\n",
       "      <th>...</th>\n",
       "      <td>...</td>\n",
       "      <td>...</td>\n",
       "      <td>...</td>\n",
       "      <td>...</td>\n",
       "      <td>...</td>\n",
       "      <td>...</td>\n",
       "      <td>...</td>\n",
       "      <td>...</td>\n",
       "      <td>...</td>\n",
       "      <td>...</td>\n",
       "      <td>...</td>\n",
       "      <td>...</td>\n",
       "      <td>...</td>\n",
       "      <td>...</td>\n",
       "      <td>...</td>\n",
       "      <td>...</td>\n",
       "      <td>...</td>\n",
       "      <td>...</td>\n",
       "      <td>...</td>\n",
       "      <td>...</td>\n",
       "      <td>...</td>\n",
       "    </tr>\n",
       "    <tr>\n",
       "      <th>260596</th>\n",
       "      <td>688636</td>\n",
       "      <td>2</td>\n",
       "      <td>25</td>\n",
       "      <td>1335</td>\n",
       "      <td>1621</td>\n",
       "      <td>1</td>\n",
       "      <td>55</td>\n",
       "      <td>6</td>\n",
       "      <td>3</td>\n",
       "      <td>n</td>\n",
       "      <td>...</td>\n",
       "      <td>0</td>\n",
       "      <td>0</td>\n",
       "      <td>0</td>\n",
       "      <td>0</td>\n",
       "      <td>0</td>\n",
       "      <td>0</td>\n",
       "      <td>0</td>\n",
       "      <td>0</td>\n",
       "      <td>0</td>\n",
       "      <td>0</td>\n",
       "    </tr>\n",
       "    <tr>\n",
       "      <th>260597</th>\n",
       "      <td>669485</td>\n",
       "      <td>3</td>\n",
       "      <td>17</td>\n",
       "      <td>715</td>\n",
       "      <td>2060</td>\n",
       "      <td>2</td>\n",
       "      <td>0</td>\n",
       "      <td>6</td>\n",
       "      <td>5</td>\n",
       "      <td>t</td>\n",
       "      <td>...</td>\n",
       "      <td>0</td>\n",
       "      <td>0</td>\n",
       "      <td>0</td>\n",
       "      <td>0</td>\n",
       "      <td>0</td>\n",
       "      <td>0</td>\n",
       "      <td>0</td>\n",
       "      <td>0</td>\n",
       "      <td>0</td>\n",
       "      <td>0</td>\n",
       "    </tr>\n",
       "    <tr>\n",
       "      <th>260598</th>\n",
       "      <td>602512</td>\n",
       "      <td>3</td>\n",
       "      <td>17</td>\n",
       "      <td>51</td>\n",
       "      <td>8163</td>\n",
       "      <td>3</td>\n",
       "      <td>55</td>\n",
       "      <td>6</td>\n",
       "      <td>7</td>\n",
       "      <td>t</td>\n",
       "      <td>...</td>\n",
       "      <td>0</td>\n",
       "      <td>0</td>\n",
       "      <td>0</td>\n",
       "      <td>0</td>\n",
       "      <td>0</td>\n",
       "      <td>0</td>\n",
       "      <td>0</td>\n",
       "      <td>0</td>\n",
       "      <td>0</td>\n",
       "      <td>0</td>\n",
       "    </tr>\n",
       "    <tr>\n",
       "      <th>260599</th>\n",
       "      <td>151409</td>\n",
       "      <td>2</td>\n",
       "      <td>26</td>\n",
       "      <td>39</td>\n",
       "      <td>1851</td>\n",
       "      <td>2</td>\n",
       "      <td>10</td>\n",
       "      <td>14</td>\n",
       "      <td>6</td>\n",
       "      <td>t</td>\n",
       "      <td>...</td>\n",
       "      <td>0</td>\n",
       "      <td>0</td>\n",
       "      <td>0</td>\n",
       "      <td>0</td>\n",
       "      <td>0</td>\n",
       "      <td>0</td>\n",
       "      <td>0</td>\n",
       "      <td>0</td>\n",
       "      <td>0</td>\n",
       "      <td>0</td>\n",
       "    </tr>\n",
       "    <tr>\n",
       "      <th>260600</th>\n",
       "      <td>747594</td>\n",
       "      <td>3</td>\n",
       "      <td>21</td>\n",
       "      <td>9</td>\n",
       "      <td>9101</td>\n",
       "      <td>3</td>\n",
       "      <td>10</td>\n",
       "      <td>7</td>\n",
       "      <td>6</td>\n",
       "      <td>n</td>\n",
       "      <td>...</td>\n",
       "      <td>0</td>\n",
       "      <td>0</td>\n",
       "      <td>0</td>\n",
       "      <td>0</td>\n",
       "      <td>0</td>\n",
       "      <td>0</td>\n",
       "      <td>0</td>\n",
       "      <td>0</td>\n",
       "      <td>0</td>\n",
       "      <td>0</td>\n",
       "    </tr>\n",
       "  </tbody>\n",
       "</table>\n",
       "<p>260601 rows × 40 columns</p>\n",
       "</div>"
      ],
      "text/plain": [
       "        building_id  damage_grade  geo_level_1_id  geo_level_2_id  \\\n",
       "0            802906             3               6             487   \n",
       "1             28830             2               8             900   \n",
       "2             94947             3              21             363   \n",
       "3            590882             2              22             418   \n",
       "4            201944             3              11             131   \n",
       "...             ...           ...             ...             ...   \n",
       "260596       688636             2              25            1335   \n",
       "260597       669485             3              17             715   \n",
       "260598       602512             3              17              51   \n",
       "260599       151409             2              26              39   \n",
       "260600       747594             3              21               9   \n",
       "\n",
       "        geo_level_3_id  count_floors_pre_eq  age  area_percentage  \\\n",
       "0                12198                    2   30                6   \n",
       "1                 2812                    2   10                8   \n",
       "2                 8973                    2   10                5   \n",
       "3                10694                    2   10                6   \n",
       "4                 1488                    3   30                8   \n",
       "...                ...                  ...  ...              ...   \n",
       "260596            1621                    1   55                6   \n",
       "260597            2060                    2    0                6   \n",
       "260598            8163                    3   55                6   \n",
       "260599            1851                    2   10               14   \n",
       "260600            9101                    3   10                7   \n",
       "\n",
       "        height_percentage land_surface_condition  ...  \\\n",
       "0                       5                      t  ...   \n",
       "1                       7                      o  ...   \n",
       "2                       5                      t  ...   \n",
       "3                       5                      t  ...   \n",
       "4                       9                      t  ...   \n",
       "...                   ...                    ...  ...   \n",
       "260596                  3                      n  ...   \n",
       "260597                  5                      t  ...   \n",
       "260598                  7                      t  ...   \n",
       "260599                  6                      t  ...   \n",
       "260600                  6                      n  ...   \n",
       "\n",
       "       has_secondary_use_agriculture has_secondary_use_hotel  \\\n",
       "0                                  0                       0   \n",
       "1                                  0                       0   \n",
       "2                                  0                       0   \n",
       "3                                  0                       0   \n",
       "4                                  0                       0   \n",
       "...                              ...                     ...   \n",
       "260596                             0                       0   \n",
       "260597                             0                       0   \n",
       "260598                             0                       0   \n",
       "260599                             0                       0   \n",
       "260600                             0                       0   \n",
       "\n",
       "       has_secondary_use_rental has_secondary_use_institution  \\\n",
       "0                             0                             0   \n",
       "1                             0                             0   \n",
       "2                             0                             0   \n",
       "3                             0                             0   \n",
       "4                             0                             0   \n",
       "...                         ...                           ...   \n",
       "260596                        0                             0   \n",
       "260597                        0                             0   \n",
       "260598                        0                             0   \n",
       "260599                        0                             0   \n",
       "260600                        0                             0   \n",
       "\n",
       "       has_secondary_use_school has_secondary_use_industry  \\\n",
       "0                             0                          0   \n",
       "1                             0                          0   \n",
       "2                             0                          0   \n",
       "3                             0                          0   \n",
       "4                             0                          0   \n",
       "...                         ...                        ...   \n",
       "260596                        0                          0   \n",
       "260597                        0                          0   \n",
       "260598                        0                          0   \n",
       "260599                        0                          0   \n",
       "260600                        0                          0   \n",
       "\n",
       "        has_secondary_use_health_post  has_secondary_use_gov_office  \\\n",
       "0                                   0                             0   \n",
       "1                                   0                             0   \n",
       "2                                   0                             0   \n",
       "3                                   0                             0   \n",
       "4                                   0                             0   \n",
       "...                               ...                           ...   \n",
       "260596                              0                             0   \n",
       "260597                              0                             0   \n",
       "260598                              0                             0   \n",
       "260599                              0                             0   \n",
       "260600                              0                             0   \n",
       "\n",
       "        has_secondary_use_use_police  has_secondary_use_other  \n",
       "0                                  0                        0  \n",
       "1                                  0                        0  \n",
       "2                                  0                        0  \n",
       "3                                  0                        0  \n",
       "4                                  0                        0  \n",
       "...                              ...                      ...  \n",
       "260596                             0                        0  \n",
       "260597                             0                        0  \n",
       "260598                             0                        0  \n",
       "260599                             0                        0  \n",
       "260600                             0                        0  \n",
       "\n",
       "[260601 rows x 40 columns]"
      ]
     },
     "execution_count": 4,
     "metadata": {},
     "output_type": "execute_result"
    }
   ],
   "source": [
    "train = labels.merge(values, how='inner')\n",
    "train"
   ]
  },
  {
   "cell_type": "code",
   "execution_count": 5,
   "metadata": {},
   "outputs": [
    {
     "name": "stdout",
     "output_type": "stream",
     "text": [
      "<class 'pandas.core.frame.DataFrame'>\n",
      "Int64Index: 260601 entries, 0 to 260600\n",
      "Data columns (total 40 columns):\n",
      " #   Column                                  Non-Null Count   Dtype \n",
      "---  ------                                  --------------   ----- \n",
      " 0   building_id                             260601 non-null  int64 \n",
      " 1   damage_grade                            260601 non-null  int64 \n",
      " 2   geo_level_1_id                          260601 non-null  int64 \n",
      " 3   geo_level_2_id                          260601 non-null  int64 \n",
      " 4   geo_level_3_id                          260601 non-null  int64 \n",
      " 5   count_floors_pre_eq                     260601 non-null  int64 \n",
      " 6   age                                     260601 non-null  int64 \n",
      " 7   area_percentage                         260601 non-null  int64 \n",
      " 8   height_percentage                       260601 non-null  int64 \n",
      " 9   land_surface_condition                  260601 non-null  object\n",
      " 10  foundation_type                         260601 non-null  object\n",
      " 11  roof_type                               260601 non-null  object\n",
      " 12  ground_floor_type                       260601 non-null  object\n",
      " 13  other_floor_type                        260601 non-null  object\n",
      " 14  position                                260601 non-null  object\n",
      " 15  plan_configuration                      260601 non-null  object\n",
      " 16  has_superstructure_adobe_mud            260601 non-null  int64 \n",
      " 17  has_superstructure_mud_mortar_stone     260601 non-null  int64 \n",
      " 18  has_superstructure_stone_flag           260601 non-null  int64 \n",
      " 19  has_superstructure_cement_mortar_stone  260601 non-null  int64 \n",
      " 20  has_superstructure_mud_mortar_brick     260601 non-null  int64 \n",
      " 21  has_superstructure_cement_mortar_brick  260601 non-null  int64 \n",
      " 22  has_superstructure_timber               260601 non-null  int64 \n",
      " 23  has_superstructure_bamboo               260601 non-null  int64 \n",
      " 24  has_superstructure_rc_non_engineered    260601 non-null  int64 \n",
      " 25  has_superstructure_rc_engineered        260601 non-null  int64 \n",
      " 26  has_superstructure_other                260601 non-null  int64 \n",
      " 27  legal_ownership_status                  260601 non-null  object\n",
      " 28  count_families                          260601 non-null  int64 \n",
      " 29  has_secondary_use                       260601 non-null  int64 \n",
      " 30  has_secondary_use_agriculture           260601 non-null  int64 \n",
      " 31  has_secondary_use_hotel                 260601 non-null  int64 \n",
      " 32  has_secondary_use_rental                260601 non-null  int64 \n",
      " 33  has_secondary_use_institution           260601 non-null  int64 \n",
      " 34  has_secondary_use_school                260601 non-null  int64 \n",
      " 35  has_secondary_use_industry              260601 non-null  int64 \n",
      " 36  has_secondary_use_health_post           260601 non-null  int64 \n",
      " 37  has_secondary_use_gov_office            260601 non-null  int64 \n",
      " 38  has_secondary_use_use_police            260601 non-null  int64 \n",
      " 39  has_secondary_use_other                 260601 non-null  int64 \n",
      "dtypes: int64(32), object(8)\n",
      "memory usage: 81.5+ MB\n"
     ]
    }
   ],
   "source": [
    "col_actual=1\n",
    "train.info()"
   ]
  },
  {
   "cell_type": "code",
   "execution_count": 6,
   "metadata": {},
   "outputs": [
    {
     "data": {
      "text/plain": [
       "2    148259\n",
       "3     87218\n",
       "1     25124\n",
       "Name: damage_grade, dtype: int64"
      ]
     },
     "execution_count": 6,
     "metadata": {},
     "output_type": "execute_result"
    }
   ],
   "source": [
    "#Ninguna columna tiene datos faltantes, veamos sus datos\n",
    "train.iloc[:,col_actual].value_counts(dropna=False)"
   ]
  },
  {
   "cell_type": "code",
   "execution_count": 7,
   "metadata": {},
   "outputs": [
    {
     "data": {
      "text/plain": [
       "6     24381\n",
       "26    22615\n",
       "10    22079\n",
       "17    21813\n",
       "8     19080\n",
       "7     18994\n",
       "20    17216\n",
       "21    14889\n",
       "4     14568\n",
       "27    12532\n",
       "13     9608\n",
       "11     8220\n",
       "3      7540\n",
       "22     6252\n",
       "25     5624\n",
       "16     4332\n",
       "0      4011\n",
       "9      3958\n",
       "12     3194\n",
       "18     3189\n",
       "1      2701\n",
       "5      2690\n",
       "30     2686\n",
       "15     2320\n",
       "14     1714\n",
       "24     1310\n",
       "23     1121\n",
       "2       931\n",
       "29      396\n",
       "19      372\n",
       "28      265\n",
       "Name: geo_level_1_id, dtype: int64"
      ]
     },
     "execution_count": 7,
     "metadata": {},
     "output_type": "execute_result"
    }
   ],
   "source": [
    "col_actual += 1\n",
    "train.iloc[:,col_actual].value_counts(dropna=False)"
   ]
  },
  {
   "cell_type": "code",
   "execution_count": 8,
   "metadata": {},
   "outputs": [
    {
     "data": {
      "text/plain": [
       "39      4038\n",
       "158     2520\n",
       "181     2080\n",
       "1387    2040\n",
       "157     1897\n",
       "        ... \n",
       "627        1\n",
       "1263       1\n",
       "100        1\n",
       "1123       1\n",
       "319        1\n",
       "Name: geo_level_2_id, Length: 1414, dtype: int64"
      ]
     },
     "execution_count": 8,
     "metadata": {},
     "output_type": "execute_result"
    }
   ],
   "source": [
    "col_actual += 1\n",
    "train.iloc[:,col_actual].value_counts(dropna=False)"
   ]
  },
  {
   "cell_type": "code",
   "execution_count": 9,
   "metadata": {},
   "outputs": [
    {
     "data": {
      "text/plain": [
       "633      651\n",
       "9133     647\n",
       "621      530\n",
       "11246    470\n",
       "2005     466\n",
       "        ... \n",
       "6095       1\n",
       "3599       1\n",
       "7886       1\n",
       "9994       1\n",
       "11851      1\n",
       "Name: geo_level_3_id, Length: 11595, dtype: int64"
      ]
     },
     "execution_count": 9,
     "metadata": {},
     "output_type": "execute_result"
    }
   ],
   "source": [
    "col_actual += 1\n",
    "train.iloc[:,col_actual].value_counts(dropna=False)"
   ]
  },
  {
   "cell_type": "code",
   "execution_count": 10,
   "metadata": {},
   "outputs": [
    {
     "data": {
      "text/plain": [
       "2    156623\n",
       "3     55617\n",
       "1     40441\n",
       "4      5424\n",
       "5      2246\n",
       "6       209\n",
       "7        39\n",
       "9         1\n",
       "8         1\n",
       "Name: count_floors_pre_eq, dtype: int64"
      ]
     },
     "execution_count": 10,
     "metadata": {},
     "output_type": "execute_result"
    }
   ],
   "source": [
    "col_actual += 1\n",
    "train.iloc[:,col_actual].value_counts(dropna=False)"
   ]
  },
  {
   "cell_type": "code",
   "execution_count": 11,
   "metadata": {},
   "outputs": [
    {
     "data": {
      "text/plain": [
       "10     38896\n",
       "15     36010\n",
       "5      33697\n",
       "20     32182\n",
       "0      26041\n",
       "25     24366\n",
       "30     18028\n",
       "35     10710\n",
       "40     10559\n",
       "50      7257\n",
       "45      4711\n",
       "60      3612\n",
       "80      3055\n",
       "55      2033\n",
       "70      1975\n",
       "995     1390\n",
       "100     1364\n",
       "65      1123\n",
       "90      1085\n",
       "85       847\n",
       "75       512\n",
       "95       414\n",
       "120      180\n",
       "150      142\n",
       "200      106\n",
       "110      100\n",
       "105       89\n",
       "125       37\n",
       "115       21\n",
       "140        9\n",
       "130        9\n",
       "180        7\n",
       "160        6\n",
       "170        6\n",
       "175        5\n",
       "135        5\n",
       "145        3\n",
       "190        3\n",
       "195        2\n",
       "165        2\n",
       "155        1\n",
       "185        1\n",
       "Name: age, dtype: int64"
      ]
     },
     "execution_count": 11,
     "metadata": {},
     "output_type": "execute_result"
    }
   ],
   "source": [
    "col_actual += 1\n",
    "train.iloc[:,col_actual].value_counts(dropna=False)"
   ]
  },
  {
   "cell_type": "code",
   "execution_count": 12,
   "metadata": {},
   "outputs": [
    {
     "data": {
      "text/plain": [
       "6      42013\n",
       "7      36752\n",
       "5      32724\n",
       "8      28445\n",
       "9      22199\n",
       "       ...  \n",
       "82         1\n",
       "80         1\n",
       "78         1\n",
       "75         1\n",
       "100        1\n",
       "Name: area_percentage, Length: 84, dtype: int64"
      ]
     },
     "execution_count": 12,
     "metadata": {},
     "output_type": "execute_result"
    }
   ],
   "source": [
    "col_actual += 1\n",
    "train.iloc[:,col_actual].value_counts(dropna=False)"
   ]
  },
  {
   "cell_type": "code",
   "execution_count": 13,
   "metadata": {},
   "outputs": [
    {
     "data": {
      "text/plain": [
       "5     78513\n",
       "6     46477\n",
       "4     37763\n",
       "7     35465\n",
       "3     25957\n",
       "8     13902\n",
       "2      9305\n",
       "9      5376\n",
       "10     4492\n",
       "11      917\n",
       "12      907\n",
       "13      759\n",
       "15      292\n",
       "16      179\n",
       "32       75\n",
       "18       71\n",
       "14       66\n",
       "20       33\n",
       "21       13\n",
       "23       11\n",
       "17        9\n",
       "19        7\n",
       "24        4\n",
       "25        3\n",
       "26        2\n",
       "28        2\n",
       "31        1\n",
       "Name: height_percentage, dtype: int64"
      ]
     },
     "execution_count": 13,
     "metadata": {},
     "output_type": "execute_result"
    }
   ],
   "source": [
    "col_actual += 1\n",
    "train.iloc[:,col_actual].value_counts(dropna=False)"
   ]
  },
  {
   "cell_type": "code",
   "execution_count": 14,
   "metadata": {},
   "outputs": [
    {
     "data": {
      "text/plain": [
       "t    216757\n",
       "n     35528\n",
       "o      8316\n",
       "Name: land_surface_condition, dtype: int64"
      ]
     },
     "execution_count": 14,
     "metadata": {},
     "output_type": "execute_result"
    }
   ],
   "source": [
    "col_actual += 1\n",
    "train.iloc[:,col_actual].value_counts(dropna=False)"
   ]
  },
  {
   "cell_type": "code",
   "execution_count": 15,
   "metadata": {},
   "outputs": [
    {
     "data": {
      "text/plain": [
       "r    219196\n",
       "w     15118\n",
       "u     14260\n",
       "i     10579\n",
       "h      1448\n",
       "Name: foundation_type, dtype: int64"
      ]
     },
     "execution_count": 15,
     "metadata": {},
     "output_type": "execute_result"
    }
   ],
   "source": [
    "col_actual += 1\n",
    "train.iloc[:,col_actual].value_counts(dropna=False)"
   ]
  },
  {
   "cell_type": "code",
   "execution_count": 16,
   "metadata": {},
   "outputs": [
    {
     "data": {
      "text/plain": [
       "n    182842\n",
       "q     61576\n",
       "x     16183\n",
       "Name: roof_type, dtype: int64"
      ]
     },
     "execution_count": 16,
     "metadata": {},
     "output_type": "execute_result"
    }
   ],
   "source": [
    "col_actual += 1\n",
    "train.iloc[:,col_actual].value_counts(dropna=False)"
   ]
  },
  {
   "cell_type": "code",
   "execution_count": 17,
   "metadata": {},
   "outputs": [
    {
     "data": {
      "text/plain": [
       "f    209619\n",
       "x     24877\n",
       "v     24593\n",
       "z      1004\n",
       "m       508\n",
       "Name: ground_floor_type, dtype: int64"
      ]
     },
     "execution_count": 17,
     "metadata": {},
     "output_type": "execute_result"
    }
   ],
   "source": [
    "col_actual += 1\n",
    "train.iloc[:,col_actual].value_counts(dropna=False)"
   ]
  },
  {
   "cell_type": "code",
   "execution_count": 18,
   "metadata": {},
   "outputs": [
    {
     "data": {
      "text/plain": [
       "q    165282\n",
       "x     43448\n",
       "j     39843\n",
       "s     12028\n",
       "Name: other_floor_type, dtype: int64"
      ]
     },
     "execution_count": 18,
     "metadata": {},
     "output_type": "execute_result"
    }
   ],
   "source": [
    "col_actual += 1\n",
    "train.iloc[:,col_actual].value_counts(dropna=False)"
   ]
  },
  {
   "cell_type": "code",
   "execution_count": 19,
   "metadata": {},
   "outputs": [
    {
     "data": {
      "text/plain": [
       "s    202090\n",
       "t     42896\n",
       "j     13282\n",
       "o      2333\n",
       "Name: position, dtype: int64"
      ]
     },
     "execution_count": 19,
     "metadata": {},
     "output_type": "execute_result"
    }
   ],
   "source": [
    "col_actual += 1\n",
    "train.iloc[:,col_actual].value_counts(dropna=False)"
   ]
  },
  {
   "cell_type": "code",
   "execution_count": 20,
   "metadata": {},
   "outputs": [
    {
     "data": {
      "text/plain": [
       "d    250072\n",
       "q      5692\n",
       "u      3649\n",
       "s       346\n",
       "c       325\n",
       "a       252\n",
       "o       159\n",
       "m        46\n",
       "n        38\n",
       "f        22\n",
       "Name: plan_configuration, dtype: int64"
      ]
     },
     "execution_count": 20,
     "metadata": {},
     "output_type": "execute_result"
    }
   ],
   "source": [
    "col_actual += 1\n",
    "train.iloc[:,col_actual].value_counts(dropna=False)"
   ]
  },
  {
   "cell_type": "code",
   "execution_count": 21,
   "metadata": {},
   "outputs": [
    {
     "data": {
      "text/plain": [
       "0    237500\n",
       "1     23101\n",
       "Name: has_superstructure_adobe_mud, dtype: int64"
      ]
     },
     "execution_count": 21,
     "metadata": {},
     "output_type": "execute_result"
    }
   ],
   "source": [
    "col_actual += 1\n",
    "train.iloc[:,col_actual].value_counts(dropna=False)"
   ]
  },
  {
   "cell_type": "code",
   "execution_count": 22,
   "metadata": {},
   "outputs": [
    {
     "data": {
      "text/plain": [
       "1    198561\n",
       "0     62040\n",
       "Name: has_superstructure_mud_mortar_stone, dtype: int64"
      ]
     },
     "execution_count": 22,
     "metadata": {},
     "output_type": "execute_result"
    }
   ],
   "source": [
    "col_actual += 1\n",
    "train.iloc[:,col_actual].value_counts(dropna=False)"
   ]
  },
  {
   "cell_type": "code",
   "execution_count": 23,
   "metadata": {},
   "outputs": [
    {
     "data": {
      "text/plain": [
       "0    251654\n",
       "1      8947\n",
       "Name: has_superstructure_stone_flag, dtype: int64"
      ]
     },
     "execution_count": 23,
     "metadata": {},
     "output_type": "execute_result"
    }
   ],
   "source": [
    "col_actual += 1\n",
    "train.iloc[:,col_actual].value_counts(dropna=False)"
   ]
  },
  {
   "cell_type": "code",
   "execution_count": 24,
   "metadata": {},
   "outputs": [
    {
     "data": {
      "text/plain": [
       "0    255849\n",
       "1      4752\n",
       "Name: has_superstructure_cement_mortar_stone, dtype: int64"
      ]
     },
     "execution_count": 24,
     "metadata": {},
     "output_type": "execute_result"
    }
   ],
   "source": [
    "col_actual += 1\n",
    "train.iloc[:,col_actual].value_counts(dropna=False)"
   ]
  },
  {
   "cell_type": "code",
   "execution_count": 25,
   "metadata": {},
   "outputs": [
    {
     "data": {
      "text/plain": [
       "0    242840\n",
       "1     17761\n",
       "Name: has_superstructure_mud_mortar_brick, dtype: int64"
      ]
     },
     "execution_count": 25,
     "metadata": {},
     "output_type": "execute_result"
    }
   ],
   "source": [
    "col_actual += 1\n",
    "train.iloc[:,col_actual].value_counts(dropna=False)"
   ]
  },
  {
   "cell_type": "code",
   "execution_count": 26,
   "metadata": {},
   "outputs": [
    {
     "data": {
      "text/plain": [
       "0    240986\n",
       "1     19615\n",
       "Name: has_superstructure_cement_mortar_brick, dtype: int64"
      ]
     },
     "execution_count": 26,
     "metadata": {},
     "output_type": "execute_result"
    }
   ],
   "source": [
    "col_actual += 1\n",
    "train.iloc[:,col_actual].value_counts(dropna=False)"
   ]
  },
  {
   "cell_type": "code",
   "execution_count": 27,
   "metadata": {},
   "outputs": [
    {
     "data": {
      "text/plain": [
       "0    194151\n",
       "1     66450\n",
       "Name: has_superstructure_timber, dtype: int64"
      ]
     },
     "execution_count": 27,
     "metadata": {},
     "output_type": "execute_result"
    }
   ],
   "source": [
    "col_actual += 1\n",
    "train.iloc[:,col_actual].value_counts(dropna=False)"
   ]
  },
  {
   "cell_type": "code",
   "execution_count": 28,
   "metadata": {},
   "outputs": [
    {
     "data": {
      "text/plain": [
       "0    238447\n",
       "1     22154\n",
       "Name: has_superstructure_bamboo, dtype: int64"
      ]
     },
     "execution_count": 28,
     "metadata": {},
     "output_type": "execute_result"
    }
   ],
   "source": [
    "col_actual += 1\n",
    "train.iloc[:,col_actual].value_counts(dropna=False)"
   ]
  },
  {
   "cell_type": "code",
   "execution_count": 29,
   "metadata": {},
   "outputs": [
    {
     "data": {
      "text/plain": [
       "0    249502\n",
       "1     11099\n",
       "Name: has_superstructure_rc_non_engineered, dtype: int64"
      ]
     },
     "execution_count": 29,
     "metadata": {},
     "output_type": "execute_result"
    }
   ],
   "source": [
    "col_actual += 1\n",
    "train.iloc[:,col_actual].value_counts(dropna=False)"
   ]
  },
  {
   "cell_type": "code",
   "execution_count": 30,
   "metadata": {},
   "outputs": [
    {
     "data": {
      "text/plain": [
       "0    256468\n",
       "1      4133\n",
       "Name: has_superstructure_rc_engineered, dtype: int64"
      ]
     },
     "execution_count": 30,
     "metadata": {},
     "output_type": "execute_result"
    }
   ],
   "source": [
    "col_actual += 1\n",
    "train.iloc[:,col_actual].value_counts(dropna=False)"
   ]
  },
  {
   "cell_type": "code",
   "execution_count": 31,
   "metadata": {},
   "outputs": [
    {
     "data": {
      "text/plain": [
       "0    256696\n",
       "1      3905\n",
       "Name: has_superstructure_other, dtype: int64"
      ]
     },
     "execution_count": 31,
     "metadata": {},
     "output_type": "execute_result"
    }
   ],
   "source": [
    "col_actual += 1\n",
    "train.iloc[:,col_actual].value_counts(dropna=False)"
   ]
  },
  {
   "cell_type": "code",
   "execution_count": 32,
   "metadata": {},
   "outputs": [
    {
     "data": {
      "text/plain": [
       "v    250939\n",
       "a      5512\n",
       "w      2677\n",
       "r      1473\n",
       "Name: legal_ownership_status, dtype: int64"
      ]
     },
     "execution_count": 32,
     "metadata": {},
     "output_type": "execute_result"
    }
   ],
   "source": [
    "col_actual += 1\n",
    "train.iloc[:,col_actual].value_counts(dropna=False)"
   ]
  },
  {
   "cell_type": "code",
   "execution_count": 33,
   "metadata": {},
   "outputs": [
    {
     "data": {
      "text/plain": [
       "1    226115\n",
       "0     20862\n",
       "2     11294\n",
       "3      1802\n",
       "4       389\n",
       "5       104\n",
       "6        22\n",
       "7         7\n",
       "9         4\n",
       "8         2\n",
       "Name: count_families, dtype: int64"
      ]
     },
     "execution_count": 33,
     "metadata": {},
     "output_type": "execute_result"
    }
   ],
   "source": [
    "col_actual += 1\n",
    "train.iloc[:,col_actual].value_counts(dropna=False)"
   ]
  },
  {
   "cell_type": "code",
   "execution_count": 34,
   "metadata": {},
   "outputs": [
    {
     "data": {
      "text/plain": [
       "0    231445\n",
       "1     29156\n",
       "Name: has_secondary_use, dtype: int64"
      ]
     },
     "execution_count": 34,
     "metadata": {},
     "output_type": "execute_result"
    }
   ],
   "source": [
    "col_actual += 1\n",
    "train.iloc[:,col_actual].value_counts(dropna=False)"
   ]
  },
  {
   "cell_type": "code",
   "execution_count": 35,
   "metadata": {},
   "outputs": [
    {
     "data": {
      "text/plain": [
       "0    243824\n",
       "1     16777\n",
       "Name: has_secondary_use_agriculture, dtype: int64"
      ]
     },
     "execution_count": 35,
     "metadata": {},
     "output_type": "execute_result"
    }
   ],
   "source": [
    "col_actual += 1\n",
    "train.iloc[:,col_actual].value_counts(dropna=False)"
   ]
  },
  {
   "cell_type": "code",
   "execution_count": 36,
   "metadata": {},
   "outputs": [
    {
     "data": {
      "text/plain": [
       "0    251838\n",
       "1      8763\n",
       "Name: has_secondary_use_hotel, dtype: int64"
      ]
     },
     "execution_count": 36,
     "metadata": {},
     "output_type": "execute_result"
    }
   ],
   "source": [
    "col_actual += 1\n",
    "train.iloc[:,col_actual].value_counts(dropna=False)"
   ]
  },
  {
   "cell_type": "code",
   "execution_count": 37,
   "metadata": {},
   "outputs": [
    {
     "data": {
      "text/plain": [
       "0    258490\n",
       "1      2111\n",
       "Name: has_secondary_use_rental, dtype: int64"
      ]
     },
     "execution_count": 37,
     "metadata": {},
     "output_type": "execute_result"
    }
   ],
   "source": [
    "col_actual += 1\n",
    "train.iloc[:,col_actual].value_counts(dropna=False)"
   ]
  },
  {
   "cell_type": "code",
   "execution_count": 38,
   "metadata": {},
   "outputs": [
    {
     "data": {
      "text/plain": [
       "0    260356\n",
       "1       245\n",
       "Name: has_secondary_use_institution, dtype: int64"
      ]
     },
     "execution_count": 38,
     "metadata": {},
     "output_type": "execute_result"
    }
   ],
   "source": [
    "col_actual += 1\n",
    "train.iloc[:,col_actual].value_counts(dropna=False)"
   ]
  },
  {
   "cell_type": "code",
   "execution_count": 39,
   "metadata": {},
   "outputs": [
    {
     "data": {
      "text/plain": [
       "0    260507\n",
       "1        94\n",
       "Name: has_secondary_use_school, dtype: int64"
      ]
     },
     "execution_count": 39,
     "metadata": {},
     "output_type": "execute_result"
    }
   ],
   "source": [
    "col_actual += 1\n",
    "train.iloc[:,col_actual].value_counts(dropna=False)"
   ]
  },
  {
   "cell_type": "code",
   "execution_count": 40,
   "metadata": {},
   "outputs": [
    {
     "data": {
      "text/plain": [
       "0    260322\n",
       "1       279\n",
       "Name: has_secondary_use_industry, dtype: int64"
      ]
     },
     "execution_count": 40,
     "metadata": {},
     "output_type": "execute_result"
    }
   ],
   "source": [
    "col_actual += 1\n",
    "train.iloc[:,col_actual].value_counts(dropna=False)"
   ]
  },
  {
   "cell_type": "code",
   "execution_count": 41,
   "metadata": {},
   "outputs": [
    {
     "data": {
      "text/plain": [
       "0    260552\n",
       "1        49\n",
       "Name: has_secondary_use_health_post, dtype: int64"
      ]
     },
     "execution_count": 41,
     "metadata": {},
     "output_type": "execute_result"
    }
   ],
   "source": [
    "col_actual += 1\n",
    "train.iloc[:,col_actual].value_counts(dropna=False)"
   ]
  },
  {
   "cell_type": "code",
   "execution_count": 42,
   "metadata": {},
   "outputs": [
    {
     "data": {
      "text/plain": [
       "0    260563\n",
       "1        38\n",
       "Name: has_secondary_use_gov_office, dtype: int64"
      ]
     },
     "execution_count": 42,
     "metadata": {},
     "output_type": "execute_result"
    }
   ],
   "source": [
    "col_actual += 1\n",
    "train.iloc[:,col_actual].value_counts(dropna=False)"
   ]
  },
  {
   "cell_type": "code",
   "execution_count": 43,
   "metadata": {},
   "outputs": [
    {
     "data": {
      "text/plain": [
       "0    260578\n",
       "1        23\n",
       "Name: has_secondary_use_use_police, dtype: int64"
      ]
     },
     "execution_count": 43,
     "metadata": {},
     "output_type": "execute_result"
    }
   ],
   "source": [
    "col_actual += 1\n",
    "train.iloc[:,col_actual].value_counts(dropna=False)"
   ]
  },
  {
   "cell_type": "code",
   "execution_count": 44,
   "metadata": {},
   "outputs": [
    {
     "data": {
      "text/plain": [
       "0    259267\n",
       "1      1334\n",
       "Name: has_secondary_use_other, dtype: int64"
      ]
     },
     "execution_count": 44,
     "metadata": {},
     "output_type": "execute_result"
    }
   ],
   "source": [
    "col_actual += 1\n",
    "train.iloc[:,col_actual].value_counts(dropna=False)"
   ]
  },
  {
   "cell_type": "code",
   "execution_count": 50,
   "metadata": {},
   "outputs": [],
   "source": [
    "#Buscamos reducir espacio en el dataframe, utilizando tipos de datos adecuados para cada columna\n",
    "\n",
    "data_types = {\n",
    "    'land_surface_condition':'category',\n",
    "    'foundation_type':'category',\n",
    "    'roof_type':'category',\n",
    "    'ground_floor_type':'category',\n",
    "    'other_floor_type':'category',\n",
    "    'position':'category',\n",
    "    'plan_configuration':'category',\n",
    "    'has_superstructure_adobe_mud':bool,\n",
    "    'has_superstructure_mud_mortar_stone':bool,\n",
    "    'has_superstructure_stone_flag':bool,\n",
    "    'has_superstructure_cement_mortar_stone':bool,\n",
    "    'has_superstructure_mud_mortar_brick':bool,\n",
    "    'has_superstructure_cement_mortar_brick':bool,\n",
    "    'has_superstructure_timber':bool,\n",
    "    'has_superstructure_bamboo':bool,\n",
    "    'has_superstructure_rc_non_engineered':bool,\n",
    "    'has_superstructure_rc_engineered':bool,\n",
    "    'has_superstructure_other':bool,\n",
    "    'legal_ownership_status':'category',\n",
    "    'has_secondary_use':bool,\n",
    "    'has_secondary_use_agriculture':bool,\n",
    "    'has_secondary_use_hotel':bool,\n",
    "    'has_secondary_use_rental':bool,\n",
    "    'has_secondary_use_institution':bool,\n",
    "    'has_secondary_use_school':bool,\n",
    "    'has_secondary_use_industry':bool,\n",
    "    'has_secondary_use_health_post':bool,\n",
    "    'has_secondary_use_gov_office':bool,\n",
    "    'has_secondary_use_use_police':bool,\n",
    "    'has_secondary_use_other':bool\n",
    "    \n",
    "}"
   ]
  },
  {
   "cell_type": "code",
   "execution_count": 55,
   "metadata": {},
   "outputs": [
    {
     "name": "stdout",
     "output_type": "stream",
     "text": [
      "<class 'pandas.core.frame.DataFrame'>\n",
      "Int64Index: 260601 entries, 0 to 260600\n",
      "Data columns (total 40 columns):\n",
      " #   Column                                  Non-Null Count   Dtype   \n",
      "---  ------                                  --------------   -----   \n",
      " 0   building_id                             260601 non-null  int64   \n",
      " 1   damage_grade                            260601 non-null  int64   \n",
      " 2   geo_level_1_id                          260601 non-null  int64   \n",
      " 3   geo_level_2_id                          260601 non-null  int64   \n",
      " 4   geo_level_3_id                          260601 non-null  int64   \n",
      " 5   count_floors_pre_eq                     260601 non-null  int64   \n",
      " 6   age                                     260601 non-null  int64   \n",
      " 7   area_percentage                         260601 non-null  int64   \n",
      " 8   height_percentage                       260601 non-null  int64   \n",
      " 9   land_surface_condition                  260601 non-null  category\n",
      " 10  foundation_type                         260601 non-null  category\n",
      " 11  roof_type                               260601 non-null  category\n",
      " 12  ground_floor_type                       260601 non-null  category\n",
      " 13  other_floor_type                        260601 non-null  category\n",
      " 14  position                                260601 non-null  category\n",
      " 15  plan_configuration                      260601 non-null  category\n",
      " 16  has_superstructure_adobe_mud            260601 non-null  bool    \n",
      " 17  has_superstructure_mud_mortar_stone     260601 non-null  bool    \n",
      " 18  has_superstructure_stone_flag           260601 non-null  bool    \n",
      " 19  has_superstructure_cement_mortar_stone  260601 non-null  bool    \n",
      " 20  has_superstructure_mud_mortar_brick     260601 non-null  bool    \n",
      " 21  has_superstructure_cement_mortar_brick  260601 non-null  bool    \n",
      " 22  has_superstructure_timber               260601 non-null  bool    \n",
      " 23  has_superstructure_bamboo               260601 non-null  bool    \n",
      " 24  has_superstructure_rc_non_engineered    260601 non-null  bool    \n",
      " 25  has_superstructure_rc_engineered        260601 non-null  bool    \n",
      " 26  has_superstructure_other                260601 non-null  bool    \n",
      " 27  legal_ownership_status                  260601 non-null  category\n",
      " 28  count_families                          260601 non-null  int64   \n",
      " 29  has_secondary_use                       260601 non-null  bool    \n",
      " 30  has_secondary_use_agriculture           260601 non-null  bool    \n",
      " 31  has_secondary_use_hotel                 260601 non-null  bool    \n",
      " 32  has_secondary_use_rental                260601 non-null  bool    \n",
      " 33  has_secondary_use_institution           260601 non-null  bool    \n",
      " 34  has_secondary_use_school                260601 non-null  bool    \n",
      " 35  has_secondary_use_industry              260601 non-null  bool    \n",
      " 36  has_secondary_use_health_post           260601 non-null  bool    \n",
      " 37  has_secondary_use_gov_office            260601 non-null  bool    \n",
      " 38  has_secondary_use_use_police            260601 non-null  bool    \n",
      " 39  has_secondary_use_other                 260601 non-null  bool    \n",
      "dtypes: bool(22), category(8), int64(10)\n",
      "memory usage: 29.3 MB\n"
     ]
    }
   ],
   "source": [
    "train = train.astype(data_types)\n",
    "train.info()"
   ]
  },
  {
   "cell_type": "code",
   "execution_count": 59,
   "metadata": {},
   "outputs": [
    {
     "name": "stdout",
     "output_type": "stream",
     "text": [
      "<class 'pandas.core.frame.DataFrame'>\n",
      "Int64Index: 260601 entries, 0 to 260600\n",
      "Data columns (total 40 columns):\n",
      " #   Column                                  Non-Null Count   Dtype   \n",
      "---  ------                                  --------------   -----   \n",
      " 0   building_id                             260601 non-null  int32   \n",
      " 1   damage_grade                            260601 non-null  int8    \n",
      " 2   geo_level_1_id                          260601 non-null  int8    \n",
      " 3   geo_level_2_id                          260601 non-null  int16   \n",
      " 4   geo_level_3_id                          260601 non-null  int16   \n",
      " 5   count_floors_pre_eq                     260601 non-null  int8    \n",
      " 6   age                                     260601 non-null  int16   \n",
      " 7   area_percentage                         260601 non-null  int8    \n",
      " 8   height_percentage                       260601 non-null  int8    \n",
      " 9   land_surface_condition                  260601 non-null  category\n",
      " 10  foundation_type                         260601 non-null  category\n",
      " 11  roof_type                               260601 non-null  category\n",
      " 12  ground_floor_type                       260601 non-null  category\n",
      " 13  other_floor_type                        260601 non-null  category\n",
      " 14  position                                260601 non-null  category\n",
      " 15  plan_configuration                      260601 non-null  category\n",
      " 16  has_superstructure_adobe_mud            260601 non-null  bool    \n",
      " 17  has_superstructure_mud_mortar_stone     260601 non-null  bool    \n",
      " 18  has_superstructure_stone_flag           260601 non-null  bool    \n",
      " 19  has_superstructure_cement_mortar_stone  260601 non-null  bool    \n",
      " 20  has_superstructure_mud_mortar_brick     260601 non-null  bool    \n",
      " 21  has_superstructure_cement_mortar_brick  260601 non-null  bool    \n",
      " 22  has_superstructure_timber               260601 non-null  bool    \n",
      " 23  has_superstructure_bamboo               260601 non-null  bool    \n",
      " 24  has_superstructure_rc_non_engineered    260601 non-null  bool    \n",
      " 25  has_superstructure_rc_engineered        260601 non-null  bool    \n",
      " 26  has_superstructure_other                260601 non-null  bool    \n",
      " 27  legal_ownership_status                  260601 non-null  category\n",
      " 28  count_families                          260601 non-null  int8    \n",
      " 29  has_secondary_use                       260601 non-null  bool    \n",
      " 30  has_secondary_use_agriculture           260601 non-null  bool    \n",
      " 31  has_secondary_use_hotel                 260601 non-null  bool    \n",
      " 32  has_secondary_use_rental                260601 non-null  bool    \n",
      " 33  has_secondary_use_institution           260601 non-null  bool    \n",
      " 34  has_secondary_use_school                260601 non-null  bool    \n",
      " 35  has_secondary_use_industry              260601 non-null  bool    \n",
      " 36  has_secondary_use_health_post           260601 non-null  bool    \n",
      " 37  has_secondary_use_gov_office            260601 non-null  bool    \n",
      " 38  has_secondary_use_use_police            260601 non-null  bool    \n",
      " 39  has_secondary_use_other                 260601 non-null  bool    \n",
      "dtypes: bool(22), category(8), int16(3), int32(1), int8(6)\n",
      "memory usage: 13.4 MB\n"
     ]
    }
   ],
   "source": [
    "int_cols = train.select_dtypes('integer').columns\n",
    "train[int_cols] = train[int_cols].apply(pd.to_numeric, downcast='integer')\n",
    "train.info()"
   ]
  },
  {
   "cell_type": "code",
   "execution_count": null,
   "metadata": {},
   "outputs": [],
   "source": [
    "#Logramos reducir el dataframe de 81.5 mb a 13.4 mb"
   ]
  },
  {
   "cell_type": "code",
   "execution_count": 60,
   "metadata": {},
   "outputs": [],
   "source": [
    "train.to_csv('cleaned_train.csv', index=False)"
   ]
  },
  {
   "cell_type": "code",
   "execution_count": null,
   "metadata": {},
   "outputs": [],
   "source": []
  }
 ],
 "metadata": {
  "kernelspec": {
   "display_name": "Python 3",
   "language": "python",
   "name": "python3"
  },
  "language_info": {
   "codemirror_mode": {
    "name": "ipython",
    "version": 3
   },
   "file_extension": ".py",
   "mimetype": "text/x-python",
   "name": "python",
   "nbconvert_exporter": "python",
   "pygments_lexer": "ipython3",
   "version": "3.7.7"
  }
 },
 "nbformat": 4,
 "nbformat_minor": 4
}
