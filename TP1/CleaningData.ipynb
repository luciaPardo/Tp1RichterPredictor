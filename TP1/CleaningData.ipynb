{
 "cells": [
  {
   "cell_type": "code",
   "execution_count": 1,
   "metadata": {},
   "outputs": [],
   "source": [
    "import pandas as pd"
   ]
  },
  {
   "cell_type": "code",
   "execution_count": 2,
   "metadata": {},
   "outputs": [
    {
     "data": {
      "text/html": [
       "<div>\n",
       "<style scoped>\n",
       "    .dataframe tbody tr th:only-of-type {\n",
       "        vertical-align: middle;\n",
       "    }\n",
       "\n",
       "    .dataframe tbody tr th {\n",
       "        vertical-align: top;\n",
       "    }\n",
       "\n",
       "    .dataframe thead th {\n",
       "        text-align: right;\n",
       "    }\n",
       "</style>\n",
       "<table border=\"1\" class=\"dataframe\">\n",
       "  <thead>\n",
       "    <tr style=\"text-align: right;\">\n",
       "      <th></th>\n",
       "      <th>building_id</th>\n",
       "      <th>damage_grade</th>\n",
       "    </tr>\n",
       "  </thead>\n",
       "  <tbody>\n",
       "    <tr>\n",
       "      <th>0</th>\n",
       "      <td>802906</td>\n",
       "      <td>3</td>\n",
       "    </tr>\n",
       "    <tr>\n",
       "      <th>1</th>\n",
       "      <td>28830</td>\n",
       "      <td>2</td>\n",
       "    </tr>\n",
       "    <tr>\n",
       "      <th>2</th>\n",
       "      <td>94947</td>\n",
       "      <td>3</td>\n",
       "    </tr>\n",
       "    <tr>\n",
       "      <th>3</th>\n",
       "      <td>590882</td>\n",
       "      <td>2</td>\n",
       "    </tr>\n",
       "    <tr>\n",
       "      <th>4</th>\n",
       "      <td>201944</td>\n",
       "      <td>3</td>\n",
       "    </tr>\n",
       "    <tr>\n",
       "      <th>...</th>\n",
       "      <td>...</td>\n",
       "      <td>...</td>\n",
       "    </tr>\n",
       "    <tr>\n",
       "      <th>260596</th>\n",
       "      <td>688636</td>\n",
       "      <td>2</td>\n",
       "    </tr>\n",
       "    <tr>\n",
       "      <th>260597</th>\n",
       "      <td>669485</td>\n",
       "      <td>3</td>\n",
       "    </tr>\n",
       "    <tr>\n",
       "      <th>260598</th>\n",
       "      <td>602512</td>\n",
       "      <td>3</td>\n",
       "    </tr>\n",
       "    <tr>\n",
       "      <th>260599</th>\n",
       "      <td>151409</td>\n",
       "      <td>2</td>\n",
       "    </tr>\n",
       "    <tr>\n",
       "      <th>260600</th>\n",
       "      <td>747594</td>\n",
       "      <td>3</td>\n",
       "    </tr>\n",
       "  </tbody>\n",
       "</table>\n",
       "<p>260601 rows × 2 columns</p>\n",
       "</div>"
      ],
      "text/plain": [
       "        building_id  damage_grade\n",
       "0            802906             3\n",
       "1             28830             2\n",
       "2             94947             3\n",
       "3            590882             2\n",
       "4            201944             3\n",
       "...             ...           ...\n",
       "260596       688636             2\n",
       "260597       669485             3\n",
       "260598       602512             3\n",
       "260599       151409             2\n",
       "260600       747594             3\n",
       "\n",
       "[260601 rows x 2 columns]"
      ]
     },
     "execution_count": 2,
     "metadata": {},
     "output_type": "execute_result"
    }
   ],
   "source": [
    "labels = pd.read_csv('train_labels.csv')\n",
    "labels"
   ]
  },
  {
   "cell_type": "code",
   "execution_count": 3,
   "metadata": {},
   "outputs": [
    {
     "data": {
      "text/html": [
       "<div>\n",
       "<style scoped>\n",
       "    .dataframe tbody tr th:only-of-type {\n",
       "        vertical-align: middle;\n",
       "    }\n",
       "\n",
       "    .dataframe tbody tr th {\n",
       "        vertical-align: top;\n",
       "    }\n",
       "\n",
       "    .dataframe thead th {\n",
       "        text-align: right;\n",
       "    }\n",
       "</style>\n",
       "<table border=\"1\" class=\"dataframe\">\n",
       "  <thead>\n",
       "    <tr style=\"text-align: right;\">\n",
       "      <th></th>\n",
       "      <th>building_id</th>\n",
       "      <th>geo_level_1_id</th>\n",
       "      <th>geo_level_2_id</th>\n",
       "      <th>geo_level_3_id</th>\n",
       "      <th>count_floors_pre_eq</th>\n",
       "      <th>age</th>\n",
       "      <th>area_percentage</th>\n",
       "      <th>height_percentage</th>\n",
       "      <th>land_surface_condition</th>\n",
       "      <th>foundation_type</th>\n",
       "      <th>...</th>\n",
       "      <th>has_secondary_use_agriculture</th>\n",
       "      <th>has_secondary_use_hotel</th>\n",
       "      <th>has_secondary_use_rental</th>\n",
       "      <th>has_secondary_use_institution</th>\n",
       "      <th>has_secondary_use_school</th>\n",
       "      <th>has_secondary_use_industry</th>\n",
       "      <th>has_secondary_use_health_post</th>\n",
       "      <th>has_secondary_use_gov_office</th>\n",
       "      <th>has_secondary_use_use_police</th>\n",
       "      <th>has_secondary_use_other</th>\n",
       "    </tr>\n",
       "  </thead>\n",
       "  <tbody>\n",
       "    <tr>\n",
       "      <th>0</th>\n",
       "      <td>802906</td>\n",
       "      <td>6</td>\n",
       "      <td>487</td>\n",
       "      <td>12198</td>\n",
       "      <td>2</td>\n",
       "      <td>30</td>\n",
       "      <td>6</td>\n",
       "      <td>5</td>\n",
       "      <td>t</td>\n",
       "      <td>r</td>\n",
       "      <td>...</td>\n",
       "      <td>0</td>\n",
       "      <td>0</td>\n",
       "      <td>0</td>\n",
       "      <td>0</td>\n",
       "      <td>0</td>\n",
       "      <td>0</td>\n",
       "      <td>0</td>\n",
       "      <td>0</td>\n",
       "      <td>0</td>\n",
       "      <td>0</td>\n",
       "    </tr>\n",
       "    <tr>\n",
       "      <th>1</th>\n",
       "      <td>28830</td>\n",
       "      <td>8</td>\n",
       "      <td>900</td>\n",
       "      <td>2812</td>\n",
       "      <td>2</td>\n",
       "      <td>10</td>\n",
       "      <td>8</td>\n",
       "      <td>7</td>\n",
       "      <td>o</td>\n",
       "      <td>r</td>\n",
       "      <td>...</td>\n",
       "      <td>0</td>\n",
       "      <td>0</td>\n",
       "      <td>0</td>\n",
       "      <td>0</td>\n",
       "      <td>0</td>\n",
       "      <td>0</td>\n",
       "      <td>0</td>\n",
       "      <td>0</td>\n",
       "      <td>0</td>\n",
       "      <td>0</td>\n",
       "    </tr>\n",
       "    <tr>\n",
       "      <th>2</th>\n",
       "      <td>94947</td>\n",
       "      <td>21</td>\n",
       "      <td>363</td>\n",
       "      <td>8973</td>\n",
       "      <td>2</td>\n",
       "      <td>10</td>\n",
       "      <td>5</td>\n",
       "      <td>5</td>\n",
       "      <td>t</td>\n",
       "      <td>r</td>\n",
       "      <td>...</td>\n",
       "      <td>0</td>\n",
       "      <td>0</td>\n",
       "      <td>0</td>\n",
       "      <td>0</td>\n",
       "      <td>0</td>\n",
       "      <td>0</td>\n",
       "      <td>0</td>\n",
       "      <td>0</td>\n",
       "      <td>0</td>\n",
       "      <td>0</td>\n",
       "    </tr>\n",
       "    <tr>\n",
       "      <th>3</th>\n",
       "      <td>590882</td>\n",
       "      <td>22</td>\n",
       "      <td>418</td>\n",
       "      <td>10694</td>\n",
       "      <td>2</td>\n",
       "      <td>10</td>\n",
       "      <td>6</td>\n",
       "      <td>5</td>\n",
       "      <td>t</td>\n",
       "      <td>r</td>\n",
       "      <td>...</td>\n",
       "      <td>0</td>\n",
       "      <td>0</td>\n",
       "      <td>0</td>\n",
       "      <td>0</td>\n",
       "      <td>0</td>\n",
       "      <td>0</td>\n",
       "      <td>0</td>\n",
       "      <td>0</td>\n",
       "      <td>0</td>\n",
       "      <td>0</td>\n",
       "    </tr>\n",
       "    <tr>\n",
       "      <th>4</th>\n",
       "      <td>201944</td>\n",
       "      <td>11</td>\n",
       "      <td>131</td>\n",
       "      <td>1488</td>\n",
       "      <td>3</td>\n",
       "      <td>30</td>\n",
       "      <td>8</td>\n",
       "      <td>9</td>\n",
       "      <td>t</td>\n",
       "      <td>r</td>\n",
       "      <td>...</td>\n",
       "      <td>0</td>\n",
       "      <td>0</td>\n",
       "      <td>0</td>\n",
       "      <td>0</td>\n",
       "      <td>0</td>\n",
       "      <td>0</td>\n",
       "      <td>0</td>\n",
       "      <td>0</td>\n",
       "      <td>0</td>\n",
       "      <td>0</td>\n",
       "    </tr>\n",
       "    <tr>\n",
       "      <th>...</th>\n",
       "      <td>...</td>\n",
       "      <td>...</td>\n",
       "      <td>...</td>\n",
       "      <td>...</td>\n",
       "      <td>...</td>\n",
       "      <td>...</td>\n",
       "      <td>...</td>\n",
       "      <td>...</td>\n",
       "      <td>...</td>\n",
       "      <td>...</td>\n",
       "      <td>...</td>\n",
       "      <td>...</td>\n",
       "      <td>...</td>\n",
       "      <td>...</td>\n",
       "      <td>...</td>\n",
       "      <td>...</td>\n",
       "      <td>...</td>\n",
       "      <td>...</td>\n",
       "      <td>...</td>\n",
       "      <td>...</td>\n",
       "      <td>...</td>\n",
       "    </tr>\n",
       "    <tr>\n",
       "      <th>260596</th>\n",
       "      <td>688636</td>\n",
       "      <td>25</td>\n",
       "      <td>1335</td>\n",
       "      <td>1621</td>\n",
       "      <td>1</td>\n",
       "      <td>55</td>\n",
       "      <td>6</td>\n",
       "      <td>3</td>\n",
       "      <td>n</td>\n",
       "      <td>r</td>\n",
       "      <td>...</td>\n",
       "      <td>0</td>\n",
       "      <td>0</td>\n",
       "      <td>0</td>\n",
       "      <td>0</td>\n",
       "      <td>0</td>\n",
       "      <td>0</td>\n",
       "      <td>0</td>\n",
       "      <td>0</td>\n",
       "      <td>0</td>\n",
       "      <td>0</td>\n",
       "    </tr>\n",
       "    <tr>\n",
       "      <th>260597</th>\n",
       "      <td>669485</td>\n",
       "      <td>17</td>\n",
       "      <td>715</td>\n",
       "      <td>2060</td>\n",
       "      <td>2</td>\n",
       "      <td>0</td>\n",
       "      <td>6</td>\n",
       "      <td>5</td>\n",
       "      <td>t</td>\n",
       "      <td>r</td>\n",
       "      <td>...</td>\n",
       "      <td>0</td>\n",
       "      <td>0</td>\n",
       "      <td>0</td>\n",
       "      <td>0</td>\n",
       "      <td>0</td>\n",
       "      <td>0</td>\n",
       "      <td>0</td>\n",
       "      <td>0</td>\n",
       "      <td>0</td>\n",
       "      <td>0</td>\n",
       "    </tr>\n",
       "    <tr>\n",
       "      <th>260598</th>\n",
       "      <td>602512</td>\n",
       "      <td>17</td>\n",
       "      <td>51</td>\n",
       "      <td>8163</td>\n",
       "      <td>3</td>\n",
       "      <td>55</td>\n",
       "      <td>6</td>\n",
       "      <td>7</td>\n",
       "      <td>t</td>\n",
       "      <td>r</td>\n",
       "      <td>...</td>\n",
       "      <td>0</td>\n",
       "      <td>0</td>\n",
       "      <td>0</td>\n",
       "      <td>0</td>\n",
       "      <td>0</td>\n",
       "      <td>0</td>\n",
       "      <td>0</td>\n",
       "      <td>0</td>\n",
       "      <td>0</td>\n",
       "      <td>0</td>\n",
       "    </tr>\n",
       "    <tr>\n",
       "      <th>260599</th>\n",
       "      <td>151409</td>\n",
       "      <td>26</td>\n",
       "      <td>39</td>\n",
       "      <td>1851</td>\n",
       "      <td>2</td>\n",
       "      <td>10</td>\n",
       "      <td>14</td>\n",
       "      <td>6</td>\n",
       "      <td>t</td>\n",
       "      <td>r</td>\n",
       "      <td>...</td>\n",
       "      <td>0</td>\n",
       "      <td>0</td>\n",
       "      <td>0</td>\n",
       "      <td>0</td>\n",
       "      <td>0</td>\n",
       "      <td>0</td>\n",
       "      <td>0</td>\n",
       "      <td>0</td>\n",
       "      <td>0</td>\n",
       "      <td>0</td>\n",
       "    </tr>\n",
       "    <tr>\n",
       "      <th>260600</th>\n",
       "      <td>747594</td>\n",
       "      <td>21</td>\n",
       "      <td>9</td>\n",
       "      <td>9101</td>\n",
       "      <td>3</td>\n",
       "      <td>10</td>\n",
       "      <td>7</td>\n",
       "      <td>6</td>\n",
       "      <td>n</td>\n",
       "      <td>r</td>\n",
       "      <td>...</td>\n",
       "      <td>0</td>\n",
       "      <td>0</td>\n",
       "      <td>0</td>\n",
       "      <td>0</td>\n",
       "      <td>0</td>\n",
       "      <td>0</td>\n",
       "      <td>0</td>\n",
       "      <td>0</td>\n",
       "      <td>0</td>\n",
       "      <td>0</td>\n",
       "    </tr>\n",
       "  </tbody>\n",
       "</table>\n",
       "<p>260601 rows × 39 columns</p>\n",
       "</div>"
      ],
      "text/plain": [
       "        building_id  geo_level_1_id  geo_level_2_id  geo_level_3_id  \\\n",
       "0            802906               6             487           12198   \n",
       "1             28830               8             900            2812   \n",
       "2             94947              21             363            8973   \n",
       "3            590882              22             418           10694   \n",
       "4            201944              11             131            1488   \n",
       "...             ...             ...             ...             ...   \n",
       "260596       688636              25            1335            1621   \n",
       "260597       669485              17             715            2060   \n",
       "260598       602512              17              51            8163   \n",
       "260599       151409              26              39            1851   \n",
       "260600       747594              21               9            9101   \n",
       "\n",
       "        count_floors_pre_eq  age  area_percentage  height_percentage  \\\n",
       "0                         2   30                6                  5   \n",
       "1                         2   10                8                  7   \n",
       "2                         2   10                5                  5   \n",
       "3                         2   10                6                  5   \n",
       "4                         3   30                8                  9   \n",
       "...                     ...  ...              ...                ...   \n",
       "260596                    1   55                6                  3   \n",
       "260597                    2    0                6                  5   \n",
       "260598                    3   55                6                  7   \n",
       "260599                    2   10               14                  6   \n",
       "260600                    3   10                7                  6   \n",
       "\n",
       "       land_surface_condition foundation_type  ...  \\\n",
       "0                           t               r  ...   \n",
       "1                           o               r  ...   \n",
       "2                           t               r  ...   \n",
       "3                           t               r  ...   \n",
       "4                           t               r  ...   \n",
       "...                       ...             ...  ...   \n",
       "260596                      n               r  ...   \n",
       "260597                      t               r  ...   \n",
       "260598                      t               r  ...   \n",
       "260599                      t               r  ...   \n",
       "260600                      n               r  ...   \n",
       "\n",
       "       has_secondary_use_agriculture has_secondary_use_hotel  \\\n",
       "0                                  0                       0   \n",
       "1                                  0                       0   \n",
       "2                                  0                       0   \n",
       "3                                  0                       0   \n",
       "4                                  0                       0   \n",
       "...                              ...                     ...   \n",
       "260596                             0                       0   \n",
       "260597                             0                       0   \n",
       "260598                             0                       0   \n",
       "260599                             0                       0   \n",
       "260600                             0                       0   \n",
       "\n",
       "       has_secondary_use_rental has_secondary_use_institution  \\\n",
       "0                             0                             0   \n",
       "1                             0                             0   \n",
       "2                             0                             0   \n",
       "3                             0                             0   \n",
       "4                             0                             0   \n",
       "...                         ...                           ...   \n",
       "260596                        0                             0   \n",
       "260597                        0                             0   \n",
       "260598                        0                             0   \n",
       "260599                        0                             0   \n",
       "260600                        0                             0   \n",
       "\n",
       "       has_secondary_use_school  has_secondary_use_industry  \\\n",
       "0                             0                           0   \n",
       "1                             0                           0   \n",
       "2                             0                           0   \n",
       "3                             0                           0   \n",
       "4                             0                           0   \n",
       "...                         ...                         ...   \n",
       "260596                        0                           0   \n",
       "260597                        0                           0   \n",
       "260598                        0                           0   \n",
       "260599                        0                           0   \n",
       "260600                        0                           0   \n",
       "\n",
       "        has_secondary_use_health_post  has_secondary_use_gov_office  \\\n",
       "0                                   0                             0   \n",
       "1                                   0                             0   \n",
       "2                                   0                             0   \n",
       "3                                   0                             0   \n",
       "4                                   0                             0   \n",
       "...                               ...                           ...   \n",
       "260596                              0                             0   \n",
       "260597                              0                             0   \n",
       "260598                              0                             0   \n",
       "260599                              0                             0   \n",
       "260600                              0                             0   \n",
       "\n",
       "        has_secondary_use_use_police  has_secondary_use_other  \n",
       "0                                  0                        0  \n",
       "1                                  0                        0  \n",
       "2                                  0                        0  \n",
       "3                                  0                        0  \n",
       "4                                  0                        0  \n",
       "...                              ...                      ...  \n",
       "260596                             0                        0  \n",
       "260597                             0                        0  \n",
       "260598                             0                        0  \n",
       "260599                             0                        0  \n",
       "260600                             0                        0  \n",
       "\n",
       "[260601 rows x 39 columns]"
      ]
     },
     "execution_count": 3,
     "metadata": {},
     "output_type": "execute_result"
    }
   ],
   "source": [
    "values = pd.read_csv('train_values.csv')\n",
    "values"
   ]
  },
  {
   "cell_type": "code",
   "execution_count": 4,
   "metadata": {},
   "outputs": [
    {
     "data": {
      "text/html": [
       "<div>\n",
       "<style scoped>\n",
       "    .dataframe tbody tr th:only-of-type {\n",
       "        vertical-align: middle;\n",
       "    }\n",
       "\n",
       "    .dataframe tbody tr th {\n",
       "        vertical-align: top;\n",
       "    }\n",
       "\n",
       "    .dataframe thead th {\n",
       "        text-align: right;\n",
       "    }\n",
       "</style>\n",
       "<table border=\"1\" class=\"dataframe\">\n",
       "  <thead>\n",
       "    <tr style=\"text-align: right;\">\n",
       "      <th></th>\n",
       "      <th>building_id</th>\n",
       "      <th>damage_grade</th>\n",
       "      <th>geo_level_1_id</th>\n",
       "      <th>geo_level_2_id</th>\n",
       "      <th>geo_level_3_id</th>\n",
       "      <th>count_floors_pre_eq</th>\n",
       "      <th>age</th>\n",
       "      <th>area_percentage</th>\n",
       "      <th>height_percentage</th>\n",
       "      <th>land_surface_condition</th>\n",
       "      <th>...</th>\n",
       "      <th>has_secondary_use_agriculture</th>\n",
       "      <th>has_secondary_use_hotel</th>\n",
       "      <th>has_secondary_use_rental</th>\n",
       "      <th>has_secondary_use_institution</th>\n",
       "      <th>has_secondary_use_school</th>\n",
       "      <th>has_secondary_use_industry</th>\n",
       "      <th>has_secondary_use_health_post</th>\n",
       "      <th>has_secondary_use_gov_office</th>\n",
       "      <th>has_secondary_use_use_police</th>\n",
       "      <th>has_secondary_use_other</th>\n",
       "    </tr>\n",
       "  </thead>\n",
       "  <tbody>\n",
       "    <tr>\n",
       "      <th>0</th>\n",
       "      <td>802906</td>\n",
       "      <td>3</td>\n",
       "      <td>6</td>\n",
       "      <td>487</td>\n",
       "      <td>12198</td>\n",
       "      <td>2</td>\n",
       "      <td>30</td>\n",
       "      <td>6</td>\n",
       "      <td>5</td>\n",
       "      <td>t</td>\n",
       "      <td>...</td>\n",
       "      <td>0</td>\n",
       "      <td>0</td>\n",
       "      <td>0</td>\n",
       "      <td>0</td>\n",
       "      <td>0</td>\n",
       "      <td>0</td>\n",
       "      <td>0</td>\n",
       "      <td>0</td>\n",
       "      <td>0</td>\n",
       "      <td>0</td>\n",
       "    </tr>\n",
       "    <tr>\n",
       "      <th>1</th>\n",
       "      <td>28830</td>\n",
       "      <td>2</td>\n",
       "      <td>8</td>\n",
       "      <td>900</td>\n",
       "      <td>2812</td>\n",
       "      <td>2</td>\n",
       "      <td>10</td>\n",
       "      <td>8</td>\n",
       "      <td>7</td>\n",
       "      <td>o</td>\n",
       "      <td>...</td>\n",
       "      <td>0</td>\n",
       "      <td>0</td>\n",
       "      <td>0</td>\n",
       "      <td>0</td>\n",
       "      <td>0</td>\n",
       "      <td>0</td>\n",
       "      <td>0</td>\n",
       "      <td>0</td>\n",
       "      <td>0</td>\n",
       "      <td>0</td>\n",
       "    </tr>\n",
       "    <tr>\n",
       "      <th>2</th>\n",
       "      <td>94947</td>\n",
       "      <td>3</td>\n",
       "      <td>21</td>\n",
       "      <td>363</td>\n",
       "      <td>8973</td>\n",
       "      <td>2</td>\n",
       "      <td>10</td>\n",
       "      <td>5</td>\n",
       "      <td>5</td>\n",
       "      <td>t</td>\n",
       "      <td>...</td>\n",
       "      <td>0</td>\n",
       "      <td>0</td>\n",
       "      <td>0</td>\n",
       "      <td>0</td>\n",
       "      <td>0</td>\n",
       "      <td>0</td>\n",
       "      <td>0</td>\n",
       "      <td>0</td>\n",
       "      <td>0</td>\n",
       "      <td>0</td>\n",
       "    </tr>\n",
       "    <tr>\n",
       "      <th>3</th>\n",
       "      <td>590882</td>\n",
       "      <td>2</td>\n",
       "      <td>22</td>\n",
       "      <td>418</td>\n",
       "      <td>10694</td>\n",
       "      <td>2</td>\n",
       "      <td>10</td>\n",
       "      <td>6</td>\n",
       "      <td>5</td>\n",
       "      <td>t</td>\n",
       "      <td>...</td>\n",
       "      <td>0</td>\n",
       "      <td>0</td>\n",
       "      <td>0</td>\n",
       "      <td>0</td>\n",
       "      <td>0</td>\n",
       "      <td>0</td>\n",
       "      <td>0</td>\n",
       "      <td>0</td>\n",
       "      <td>0</td>\n",
       "      <td>0</td>\n",
       "    </tr>\n",
       "    <tr>\n",
       "      <th>4</th>\n",
       "      <td>201944</td>\n",
       "      <td>3</td>\n",
       "      <td>11</td>\n",
       "      <td>131</td>\n",
       "      <td>1488</td>\n",
       "      <td>3</td>\n",
       "      <td>30</td>\n",
       "      <td>8</td>\n",
       "      <td>9</td>\n",
       "      <td>t</td>\n",
       "      <td>...</td>\n",
       "      <td>0</td>\n",
       "      <td>0</td>\n",
       "      <td>0</td>\n",
       "      <td>0</td>\n",
       "      <td>0</td>\n",
       "      <td>0</td>\n",
       "      <td>0</td>\n",
       "      <td>0</td>\n",
       "      <td>0</td>\n",
       "      <td>0</td>\n",
       "    </tr>\n",
       "    <tr>\n",
       "      <th>...</th>\n",
       "      <td>...</td>\n",
       "      <td>...</td>\n",
       "      <td>...</td>\n",
       "      <td>...</td>\n",
       "      <td>...</td>\n",
       "      <td>...</td>\n",
       "      <td>...</td>\n",
       "      <td>...</td>\n",
       "      <td>...</td>\n",
       "      <td>...</td>\n",
       "      <td>...</td>\n",
       "      <td>...</td>\n",
       "      <td>...</td>\n",
       "      <td>...</td>\n",
       "      <td>...</td>\n",
       "      <td>...</td>\n",
       "      <td>...</td>\n",
       "      <td>...</td>\n",
       "      <td>...</td>\n",
       "      <td>...</td>\n",
       "      <td>...</td>\n",
       "    </tr>\n",
       "    <tr>\n",
       "      <th>260596</th>\n",
       "      <td>688636</td>\n",
       "      <td>2</td>\n",
       "      <td>25</td>\n",
       "      <td>1335</td>\n",
       "      <td>1621</td>\n",
       "      <td>1</td>\n",
       "      <td>55</td>\n",
       "      <td>6</td>\n",
       "      <td>3</td>\n",
       "      <td>n</td>\n",
       "      <td>...</td>\n",
       "      <td>0</td>\n",
       "      <td>0</td>\n",
       "      <td>0</td>\n",
       "      <td>0</td>\n",
       "      <td>0</td>\n",
       "      <td>0</td>\n",
       "      <td>0</td>\n",
       "      <td>0</td>\n",
       "      <td>0</td>\n",
       "      <td>0</td>\n",
       "    </tr>\n",
       "    <tr>\n",
       "      <th>260597</th>\n",
       "      <td>669485</td>\n",
       "      <td>3</td>\n",
       "      <td>17</td>\n",
       "      <td>715</td>\n",
       "      <td>2060</td>\n",
       "      <td>2</td>\n",
       "      <td>0</td>\n",
       "      <td>6</td>\n",
       "      <td>5</td>\n",
       "      <td>t</td>\n",
       "      <td>...</td>\n",
       "      <td>0</td>\n",
       "      <td>0</td>\n",
       "      <td>0</td>\n",
       "      <td>0</td>\n",
       "      <td>0</td>\n",
       "      <td>0</td>\n",
       "      <td>0</td>\n",
       "      <td>0</td>\n",
       "      <td>0</td>\n",
       "      <td>0</td>\n",
       "    </tr>\n",
       "    <tr>\n",
       "      <th>260598</th>\n",
       "      <td>602512</td>\n",
       "      <td>3</td>\n",
       "      <td>17</td>\n",
       "      <td>51</td>\n",
       "      <td>8163</td>\n",
       "      <td>3</td>\n",
       "      <td>55</td>\n",
       "      <td>6</td>\n",
       "      <td>7</td>\n",
       "      <td>t</td>\n",
       "      <td>...</td>\n",
       "      <td>0</td>\n",
       "      <td>0</td>\n",
       "      <td>0</td>\n",
       "      <td>0</td>\n",
       "      <td>0</td>\n",
       "      <td>0</td>\n",
       "      <td>0</td>\n",
       "      <td>0</td>\n",
       "      <td>0</td>\n",
       "      <td>0</td>\n",
       "    </tr>\n",
       "    <tr>\n",
       "      <th>260599</th>\n",
       "      <td>151409</td>\n",
       "      <td>2</td>\n",
       "      <td>26</td>\n",
       "      <td>39</td>\n",
       "      <td>1851</td>\n",
       "      <td>2</td>\n",
       "      <td>10</td>\n",
       "      <td>14</td>\n",
       "      <td>6</td>\n",
       "      <td>t</td>\n",
       "      <td>...</td>\n",
       "      <td>0</td>\n",
       "      <td>0</td>\n",
       "      <td>0</td>\n",
       "      <td>0</td>\n",
       "      <td>0</td>\n",
       "      <td>0</td>\n",
       "      <td>0</td>\n",
       "      <td>0</td>\n",
       "      <td>0</td>\n",
       "      <td>0</td>\n",
       "    </tr>\n",
       "    <tr>\n",
       "      <th>260600</th>\n",
       "      <td>747594</td>\n",
       "      <td>3</td>\n",
       "      <td>21</td>\n",
       "      <td>9</td>\n",
       "      <td>9101</td>\n",
       "      <td>3</td>\n",
       "      <td>10</td>\n",
       "      <td>7</td>\n",
       "      <td>6</td>\n",
       "      <td>n</td>\n",
       "      <td>...</td>\n",
       "      <td>0</td>\n",
       "      <td>0</td>\n",
       "      <td>0</td>\n",
       "      <td>0</td>\n",
       "      <td>0</td>\n",
       "      <td>0</td>\n",
       "      <td>0</td>\n",
       "      <td>0</td>\n",
       "      <td>0</td>\n",
       "      <td>0</td>\n",
       "    </tr>\n",
       "  </tbody>\n",
       "</table>\n",
       "<p>260601 rows × 40 columns</p>\n",
       "</div>"
      ],
      "text/plain": [
       "        building_id  damage_grade  geo_level_1_id  geo_level_2_id  \\\n",
       "0            802906             3               6             487   \n",
       "1             28830             2               8             900   \n",
       "2             94947             3              21             363   \n",
       "3            590882             2              22             418   \n",
       "4            201944             3              11             131   \n",
       "...             ...           ...             ...             ...   \n",
       "260596       688636             2              25            1335   \n",
       "260597       669485             3              17             715   \n",
       "260598       602512             3              17              51   \n",
       "260599       151409             2              26              39   \n",
       "260600       747594             3              21               9   \n",
       "\n",
       "        geo_level_3_id  count_floors_pre_eq  age  area_percentage  \\\n",
       "0                12198                    2   30                6   \n",
       "1                 2812                    2   10                8   \n",
       "2                 8973                    2   10                5   \n",
       "3                10694                    2   10                6   \n",
       "4                 1488                    3   30                8   \n",
       "...                ...                  ...  ...              ...   \n",
       "260596            1621                    1   55                6   \n",
       "260597            2060                    2    0                6   \n",
       "260598            8163                    3   55                6   \n",
       "260599            1851                    2   10               14   \n",
       "260600            9101                    3   10                7   \n",
       "\n",
       "        height_percentage land_surface_condition  ...  \\\n",
       "0                       5                      t  ...   \n",
       "1                       7                      o  ...   \n",
       "2                       5                      t  ...   \n",
       "3                       5                      t  ...   \n",
       "4                       9                      t  ...   \n",
       "...                   ...                    ...  ...   \n",
       "260596                  3                      n  ...   \n",
       "260597                  5                      t  ...   \n",
       "260598                  7                      t  ...   \n",
       "260599                  6                      t  ...   \n",
       "260600                  6                      n  ...   \n",
       "\n",
       "       has_secondary_use_agriculture has_secondary_use_hotel  \\\n",
       "0                                  0                       0   \n",
       "1                                  0                       0   \n",
       "2                                  0                       0   \n",
       "3                                  0                       0   \n",
       "4                                  0                       0   \n",
       "...                              ...                     ...   \n",
       "260596                             0                       0   \n",
       "260597                             0                       0   \n",
       "260598                             0                       0   \n",
       "260599                             0                       0   \n",
       "260600                             0                       0   \n",
       "\n",
       "       has_secondary_use_rental has_secondary_use_institution  \\\n",
       "0                             0                             0   \n",
       "1                             0                             0   \n",
       "2                             0                             0   \n",
       "3                             0                             0   \n",
       "4                             0                             0   \n",
       "...                         ...                           ...   \n",
       "260596                        0                             0   \n",
       "260597                        0                             0   \n",
       "260598                        0                             0   \n",
       "260599                        0                             0   \n",
       "260600                        0                             0   \n",
       "\n",
       "       has_secondary_use_school has_secondary_use_industry  \\\n",
       "0                             0                          0   \n",
       "1                             0                          0   \n",
       "2                             0                          0   \n",
       "3                             0                          0   \n",
       "4                             0                          0   \n",
       "...                         ...                        ...   \n",
       "260596                        0                          0   \n",
       "260597                        0                          0   \n",
       "260598                        0                          0   \n",
       "260599                        0                          0   \n",
       "260600                        0                          0   \n",
       "\n",
       "        has_secondary_use_health_post  has_secondary_use_gov_office  \\\n",
       "0                                   0                             0   \n",
       "1                                   0                             0   \n",
       "2                                   0                             0   \n",
       "3                                   0                             0   \n",
       "4                                   0                             0   \n",
       "...                               ...                           ...   \n",
       "260596                              0                             0   \n",
       "260597                              0                             0   \n",
       "260598                              0                             0   \n",
       "260599                              0                             0   \n",
       "260600                              0                             0   \n",
       "\n",
       "        has_secondary_use_use_police  has_secondary_use_other  \n",
       "0                                  0                        0  \n",
       "1                                  0                        0  \n",
       "2                                  0                        0  \n",
       "3                                  0                        0  \n",
       "4                                  0                        0  \n",
       "...                              ...                      ...  \n",
       "260596                             0                        0  \n",
       "260597                             0                        0  \n",
       "260598                             0                        0  \n",
       "260599                             0                        0  \n",
       "260600                             0                        0  \n",
       "\n",
       "[260601 rows x 40 columns]"
      ]
     },
     "execution_count": 4,
     "metadata": {},
     "output_type": "execute_result"
    }
   ],
   "source": [
    "train = labels.merge(values, how='inner')\n",
    "train"
   ]
  },
  {
   "cell_type": "code",
   "execution_count": 5,
   "metadata": {},
   "outputs": [
    {
     "name": "stdout",
     "output_type": "stream",
     "text": [
      "<class 'pandas.core.frame.DataFrame'>\n",
      "Int64Index: 260601 entries, 0 to 260600\n",
      "Data columns (total 40 columns):\n",
      " #   Column                                  Non-Null Count   Dtype \n",
      "---  ------                                  --------------   ----- \n",
      " 0   building_id                             260601 non-null  int64 \n",
      " 1   damage_grade                            260601 non-null  int64 \n",
      " 2   geo_level_1_id                          260601 non-null  int64 \n",
      " 3   geo_level_2_id                          260601 non-null  int64 \n",
      " 4   geo_level_3_id                          260601 non-null  int64 \n",
      " 5   count_floors_pre_eq                     260601 non-null  int64 \n",
      " 6   age                                     260601 non-null  int64 \n",
      " 7   area_percentage                         260601 non-null  int64 \n",
      " 8   height_percentage                       260601 non-null  int64 \n",
      " 9   land_surface_condition                  260601 non-null  object\n",
      " 10  foundation_type                         260601 non-null  object\n",
      " 11  roof_type                               260601 non-null  object\n",
      " 12  ground_floor_type                       260601 non-null  object\n",
      " 13  other_floor_type                        260601 non-null  object\n",
      " 14  position                                260601 non-null  object\n",
      " 15  plan_configuration                      260601 non-null  object\n",
      " 16  has_superstructure_adobe_mud            260601 non-null  int64 \n",
      " 17  has_superstructure_mud_mortar_stone     260601 non-null  int64 \n",
      " 18  has_superstructure_stone_flag           260601 non-null  int64 \n",
      " 19  has_superstructure_cement_mortar_stone  260601 non-null  int64 \n",
      " 20  has_superstructure_mud_mortar_brick     260601 non-null  int64 \n",
      " 21  has_superstructure_cement_mortar_brick  260601 non-null  int64 \n",
      " 22  has_superstructure_timber               260601 non-null  int64 \n",
      " 23  has_superstructure_bamboo               260601 non-null  int64 \n",
      " 24  has_superstructure_rc_non_engineered    260601 non-null  int64 \n",
      " 25  has_superstructure_rc_engineered        260601 non-null  int64 \n",
      " 26  has_superstructure_other                260601 non-null  int64 \n",
      " 27  legal_ownership_status                  260601 non-null  object\n",
      " 28  count_families                          260601 non-null  int64 \n",
      " 29  has_secondary_use                       260601 non-null  int64 \n",
      " 30  has_secondary_use_agriculture           260601 non-null  int64 \n",
      " 31  has_secondary_use_hotel                 260601 non-null  int64 \n",
      " 32  has_secondary_use_rental                260601 non-null  int64 \n",
      " 33  has_secondary_use_institution           260601 non-null  int64 \n",
      " 34  has_secondary_use_school                260601 non-null  int64 \n",
      " 35  has_secondary_use_industry              260601 non-null  int64 \n",
      " 36  has_secondary_use_health_post           260601 non-null  int64 \n",
      " 37  has_secondary_use_gov_office            260601 non-null  int64 \n",
      " 38  has_secondary_use_use_police            260601 non-null  int64 \n",
      " 39  has_secondary_use_other                 260601 non-null  int64 \n",
      "dtypes: int64(32), object(8)\n",
      "memory usage: 81.5+ MB\n"
     ]
    }
   ],
   "source": [
    "col_actual=1\n",
    "train.info()"
   ]
  },
  {
   "cell_type": "code",
   "execution_count": 6,
   "metadata": {},
   "outputs": [
    {
     "data": {
      "text/plain": [
       "2    148259\n",
       "3     87218\n",
       "1     25124\n",
       "Name: damage_grade, dtype: int64"
      ]
     },
     "execution_count": 6,
     "metadata": {},
     "output_type": "execute_result"
    }
   ],
   "source": [
    "#Ninguna columna tiene datos faltantes, veamos sus datos\n",
    "train.iloc[:,col_actual].value_counts(dropna=False)"
   ]
  },
  {
   "cell_type": "code",
   "execution_count": 7,
   "metadata": {},
   "outputs": [
    {
     "data": {
      "text/plain": [
       "6     24381\n",
       "26    22615\n",
       "10    22079\n",
       "17    21813\n",
       "8     19080\n",
       "7     18994\n",
       "20    17216\n",
       "21    14889\n",
       "4     14568\n",
       "27    12532\n",
       "13     9608\n",
       "11     8220\n",
       "3      7540\n",
       "22     6252\n",
       "25     5624\n",
       "16     4332\n",
       "0      4011\n",
       "9      3958\n",
       "12     3194\n",
       "18     3189\n",
       "1      2701\n",
       "5      2690\n",
       "30     2686\n",
       "15     2320\n",
       "14     1714\n",
       "24     1310\n",
       "23     1121\n",
       "2       931\n",
       "29      396\n",
       "19      372\n",
       "28      265\n",
       "Name: geo_level_1_id, dtype: int64"
      ]
     },
     "execution_count": 7,
     "metadata": {},
     "output_type": "execute_result"
    }
   ],
   "source": [
    "col_actual += 1\n",
    "train.iloc[:,col_actual].value_counts(dropna=False)"
   ]
  },
  {
   "cell_type": "code",
   "execution_count": 8,
   "metadata": {},
   "outputs": [
    {
     "data": {
      "text/plain": [
       "39      4038\n",
       "158     2520\n",
       "181     2080\n",
       "1387    2040\n",
       "157     1897\n",
       "        ... \n",
       "1123       1\n",
       "962        1\n",
       "1158       1\n",
       "1340       1\n",
       "1163       1\n",
       "Name: geo_level_2_id, Length: 1414, dtype: int64"
      ]
     },
     "execution_count": 8,
     "metadata": {},
     "output_type": "execute_result"
    }
   ],
   "source": [
    "col_actual += 1\n",
    "train.iloc[:,col_actual].value_counts(dropna=False)"
   ]
  },
  {
   "cell_type": "code",
   "execution_count": 9,
   "metadata": {},
   "outputs": [
    {
     "data": {
      "text/plain": [
       "633      651\n",
       "9133     647\n",
       "621      530\n",
       "11246    470\n",
       "2005     466\n",
       "        ... \n",
       "7488       1\n",
       "2460       1\n",
       "8601       1\n",
       "5697       1\n",
       "2736       1\n",
       "Name: geo_level_3_id, Length: 11595, dtype: int64"
      ]
     },
     "execution_count": 9,
     "metadata": {},
     "output_type": "execute_result"
    }
   ],
   "source": [
    "col_actual += 1\n",
    "train.iloc[:,col_actual].value_counts(dropna=False)"
   ]
  },
  {
   "cell_type": "code",
   "execution_count": 10,
   "metadata": {},
   "outputs": [
    {
     "data": {
      "text/plain": [
       "2    156623\n",
       "3     55617\n",
       "1     40441\n",
       "4      5424\n",
       "5      2246\n",
       "6       209\n",
       "7        39\n",
       "8         1\n",
       "9         1\n",
       "Name: count_floors_pre_eq, dtype: int64"
      ]
     },
     "execution_count": 10,
     "metadata": {},
     "output_type": "execute_result"
    }
   ],
   "source": [
    "col_actual += 1\n",
    "train.iloc[:,col_actual].value_counts(dropna=False)"
   ]
  },
  {
   "cell_type": "code",
   "execution_count": 11,
   "metadata": {},
   "outputs": [
    {
     "data": {
      "text/plain": [
       "10     38896\n",
       "15     36010\n",
       "5      33697\n",
       "20     32182\n",
       "0      26041\n",
       "25     24366\n",
       "30     18028\n",
       "35     10710\n",
       "40     10559\n",
       "50      7257\n",
       "45      4711\n",
       "60      3612\n",
       "80      3055\n",
       "55      2033\n",
       "70      1975\n",
       "995     1390\n",
       "100     1364\n",
       "65      1123\n",
       "90      1085\n",
       "85       847\n",
       "75       512\n",
       "95       414\n",
       "120      180\n",
       "150      142\n",
       "200      106\n",
       "110      100\n",
       "105       89\n",
       "125       37\n",
       "115       21\n",
       "130        9\n",
       "140        9\n",
       "180        7\n",
       "170        6\n",
       "160        6\n",
       "175        5\n",
       "135        5\n",
       "190        3\n",
       "145        3\n",
       "195        2\n",
       "165        2\n",
       "185        1\n",
       "155        1\n",
       "Name: age, dtype: int64"
      ]
     },
     "execution_count": 11,
     "metadata": {},
     "output_type": "execute_result"
    }
   ],
   "source": [
    "col_actual += 1\n",
    "train.iloc[:,col_actual].value_counts(dropna=False)"
   ]
  },
  {
   "cell_type": "code",
   "execution_count": 12,
   "metadata": {},
   "outputs": [
    {
     "data": {
      "text/plain": [
       "6      42013\n",
       "7      36752\n",
       "5      32724\n",
       "8      28445\n",
       "9      22199\n",
       "       ...  \n",
       "82         1\n",
       "80         1\n",
       "78         1\n",
       "75         1\n",
       "100        1\n",
       "Name: area_percentage, Length: 84, dtype: int64"
      ]
     },
     "execution_count": 12,
     "metadata": {},
     "output_type": "execute_result"
    }
   ],
   "source": [
    "col_actual += 1\n",
    "train.iloc[:,col_actual].value_counts(dropna=False)"
   ]
  },
  {
   "cell_type": "code",
   "execution_count": 13,
   "metadata": {},
   "outputs": [
    {
     "data": {
      "text/plain": [
       "5     78513\n",
       "6     46477\n",
       "4     37763\n",
       "7     35465\n",
       "3     25957\n",
       "8     13902\n",
       "2      9305\n",
       "9      5376\n",
       "10     4492\n",
       "11      917\n",
       "12      907\n",
       "13      759\n",
       "15      292\n",
       "16      179\n",
       "32       75\n",
       "18       71\n",
       "14       66\n",
       "20       33\n",
       "21       13\n",
       "23       11\n",
       "17        9\n",
       "19        7\n",
       "24        4\n",
       "25        3\n",
       "26        2\n",
       "28        2\n",
       "31        1\n",
       "Name: height_percentage, dtype: int64"
      ]
     },
     "execution_count": 13,
     "metadata": {},
     "output_type": "execute_result"
    }
   ],
   "source": [
    "col_actual += 1\n",
    "train.iloc[:,col_actual].value_counts(dropna=False)"
   ]
  },
  {
   "cell_type": "code",
   "execution_count": 14,
   "metadata": {},
   "outputs": [
    {
     "data": {
      "text/plain": [
       "t    216757\n",
       "n     35528\n",
       "o      8316\n",
       "Name: land_surface_condition, dtype: int64"
      ]
     },
     "execution_count": 14,
     "metadata": {},
     "output_type": "execute_result"
    }
   ],
   "source": [
    "col_actual += 1\n",
    "train.iloc[:,col_actual].value_counts(dropna=False)"
   ]
  },
  {
   "cell_type": "code",
   "execution_count": 15,
   "metadata": {},
   "outputs": [
    {
     "data": {
      "text/plain": [
       "r    219196\n",
       "w     15118\n",
       "u     14260\n",
       "i     10579\n",
       "h      1448\n",
       "Name: foundation_type, dtype: int64"
      ]
     },
     "execution_count": 15,
     "metadata": {},
     "output_type": "execute_result"
    }
   ],
   "source": [
    "col_actual += 1\n",
    "train.iloc[:,col_actual].value_counts(dropna=False)"
   ]
  },
  {
   "cell_type": "code",
   "execution_count": 16,
   "metadata": {},
   "outputs": [
    {
     "data": {
      "text/plain": [
       "n    182842\n",
       "q     61576\n",
       "x     16183\n",
       "Name: roof_type, dtype: int64"
      ]
     },
     "execution_count": 16,
     "metadata": {},
     "output_type": "execute_result"
    }
   ],
   "source": [
    "col_actual += 1\n",
    "train.iloc[:,col_actual].value_counts(dropna=False)"
   ]
  },
  {
   "cell_type": "code",
   "execution_count": 17,
   "metadata": {},
   "outputs": [
    {
     "data": {
      "text/plain": [
       "f    209619\n",
       "x     24877\n",
       "v     24593\n",
       "z      1004\n",
       "m       508\n",
       "Name: ground_floor_type, dtype: int64"
      ]
     },
     "execution_count": 17,
     "metadata": {},
     "output_type": "execute_result"
    }
   ],
   "source": [
    "col_actual += 1\n",
    "train.iloc[:,col_actual].value_counts(dropna=False)"
   ]
  },
  {
   "cell_type": "code",
   "execution_count": 18,
   "metadata": {},
   "outputs": [
    {
     "data": {
      "text/plain": [
       "q    165282\n",
       "x     43448\n",
       "j     39843\n",
       "s     12028\n",
       "Name: other_floor_type, dtype: int64"
      ]
     },
     "execution_count": 18,
     "metadata": {},
     "output_type": "execute_result"
    }
   ],
   "source": [
    "col_actual += 1\n",
    "train.iloc[:,col_actual].value_counts(dropna=False)"
   ]
  },
  {
   "cell_type": "code",
   "execution_count": 19,
   "metadata": {},
   "outputs": [
    {
     "data": {
      "text/plain": [
       "s    202090\n",
       "t     42896\n",
       "j     13282\n",
       "o      2333\n",
       "Name: position, dtype: int64"
      ]
     },
     "execution_count": 19,
     "metadata": {},
     "output_type": "execute_result"
    }
   ],
   "source": [
    "col_actual += 1\n",
    "train.iloc[:,col_actual].value_counts(dropna=False)"
   ]
  },
  {
   "cell_type": "code",
   "execution_count": 20,
   "metadata": {},
   "outputs": [
    {
     "data": {
      "text/plain": [
       "d    250072\n",
       "q      5692\n",
       "u      3649\n",
       "s       346\n",
       "c       325\n",
       "a       252\n",
       "o       159\n",
       "m        46\n",
       "n        38\n",
       "f        22\n",
       "Name: plan_configuration, dtype: int64"
      ]
     },
     "execution_count": 20,
     "metadata": {},
     "output_type": "execute_result"
    }
   ],
   "source": [
    "col_actual += 1\n",
    "train.iloc[:,col_actual].value_counts(dropna=False)"
   ]
  },
  {
   "cell_type": "code",
   "execution_count": 21,
   "metadata": {},
   "outputs": [
    {
     "data": {
      "text/plain": [
       "0    237500\n",
       "1     23101\n",
       "Name: has_superstructure_adobe_mud, dtype: int64"
      ]
     },
     "execution_count": 21,
     "metadata": {},
     "output_type": "execute_result"
    }
   ],
   "source": [
    "col_actual += 1\n",
    "train.iloc[:,col_actual].value_counts(dropna=False)"
   ]
  },
  {
   "cell_type": "code",
   "execution_count": 22,
   "metadata": {},
   "outputs": [
    {
     "data": {
      "text/plain": [
       "1    198561\n",
       "0     62040\n",
       "Name: has_superstructure_mud_mortar_stone, dtype: int64"
      ]
     },
     "execution_count": 22,
     "metadata": {},
     "output_type": "execute_result"
    }
   ],
   "source": [
    "col_actual += 1\n",
    "train.iloc[:,col_actual].value_counts(dropna=False)"
   ]
  },
  {
   "cell_type": "code",
   "execution_count": 23,
   "metadata": {},
   "outputs": [
    {
     "data": {
      "text/plain": [
       "0    251654\n",
       "1      8947\n",
       "Name: has_superstructure_stone_flag, dtype: int64"
      ]
     },
     "execution_count": 23,
     "metadata": {},
     "output_type": "execute_result"
    }
   ],
   "source": [
    "col_actual += 1\n",
    "train.iloc[:,col_actual].value_counts(dropna=False)"
   ]
  },
  {
   "cell_type": "code",
   "execution_count": 24,
   "metadata": {},
   "outputs": [
    {
     "data": {
      "text/plain": [
       "0    255849\n",
       "1      4752\n",
       "Name: has_superstructure_cement_mortar_stone, dtype: int64"
      ]
     },
     "execution_count": 24,
     "metadata": {},
     "output_type": "execute_result"
    }
   ],
   "source": [
    "col_actual += 1\n",
    "train.iloc[:,col_actual].value_counts(dropna=False)"
   ]
  },
  {
   "cell_type": "code",
   "execution_count": 25,
   "metadata": {},
   "outputs": [
    {
     "data": {
      "text/plain": [
       "0    242840\n",
       "1     17761\n",
       "Name: has_superstructure_mud_mortar_brick, dtype: int64"
      ]
     },
     "execution_count": 25,
     "metadata": {},
     "output_type": "execute_result"
    }
   ],
   "source": [
    "col_actual += 1\n",
    "train.iloc[:,col_actual].value_counts(dropna=False)"
   ]
  },
  {
   "cell_type": "code",
   "execution_count": 26,
   "metadata": {},
   "outputs": [
    {
     "data": {
      "text/plain": [
       "0    240986\n",
       "1     19615\n",
       "Name: has_superstructure_cement_mortar_brick, dtype: int64"
      ]
     },
     "execution_count": 26,
     "metadata": {},
     "output_type": "execute_result"
    }
   ],
   "source": [
    "col_actual += 1\n",
    "train.iloc[:,col_actual].value_counts(dropna=False)"
   ]
  },
  {
   "cell_type": "code",
   "execution_count": 27,
   "metadata": {},
   "outputs": [
    {
     "data": {
      "text/plain": [
       "0    194151\n",
       "1     66450\n",
       "Name: has_superstructure_timber, dtype: int64"
      ]
     },
     "execution_count": 27,
     "metadata": {},
     "output_type": "execute_result"
    }
   ],
   "source": [
    "col_actual += 1\n",
    "train.iloc[:,col_actual].value_counts(dropna=False)"
   ]
  },
  {
   "cell_type": "code",
   "execution_count": 28,
   "metadata": {},
   "outputs": [
    {
     "data": {
      "text/plain": [
       "0    238447\n",
       "1     22154\n",
       "Name: has_superstructure_bamboo, dtype: int64"
      ]
     },
     "execution_count": 28,
     "metadata": {},
     "output_type": "execute_result"
    }
   ],
   "source": [
    "col_actual += 1\n",
    "train.iloc[:,col_actual].value_counts(dropna=False)"
   ]
  },
  {
   "cell_type": "code",
   "execution_count": 29,
   "metadata": {},
   "outputs": [
    {
     "data": {
      "text/plain": [
       "0    249502\n",
       "1     11099\n",
       "Name: has_superstructure_rc_non_engineered, dtype: int64"
      ]
     },
     "execution_count": 29,
     "metadata": {},
     "output_type": "execute_result"
    }
   ],
   "source": [
    "col_actual += 1\n",
    "train.iloc[:,col_actual].value_counts(dropna=False)"
   ]
  },
  {
   "cell_type": "code",
   "execution_count": 30,
   "metadata": {},
   "outputs": [
    {
     "data": {
      "text/plain": [
       "0    256468\n",
       "1      4133\n",
       "Name: has_superstructure_rc_engineered, dtype: int64"
      ]
     },
     "execution_count": 30,
     "metadata": {},
     "output_type": "execute_result"
    }
   ],
   "source": [
    "col_actual += 1\n",
    "train.iloc[:,col_actual].value_counts(dropna=False)"
   ]
  },
  {
   "cell_type": "code",
   "execution_count": 31,
   "metadata": {},
   "outputs": [
    {
     "data": {
      "text/plain": [
       "0    256696\n",
       "1      3905\n",
       "Name: has_superstructure_other, dtype: int64"
      ]
     },
     "execution_count": 31,
     "metadata": {},
     "output_type": "execute_result"
    }
   ],
   "source": [
    "col_actual += 1\n",
    "train.iloc[:,col_actual].value_counts(dropna=False)"
   ]
  },
  {
   "cell_type": "code",
   "execution_count": 32,
   "metadata": {},
   "outputs": [
    {
     "data": {
      "text/plain": [
       "v    250939\n",
       "a      5512\n",
       "w      2677\n",
       "r      1473\n",
       "Name: legal_ownership_status, dtype: int64"
      ]
     },
     "execution_count": 32,
     "metadata": {},
     "output_type": "execute_result"
    }
   ],
   "source": [
    "col_actual += 1\n",
    "train.iloc[:,col_actual].value_counts(dropna=False)"
   ]
  },
  {
   "cell_type": "code",
   "execution_count": 33,
   "metadata": {},
   "outputs": [
    {
     "data": {
      "text/plain": [
       "1    226115\n",
       "0     20862\n",
       "2     11294\n",
       "3      1802\n",
       "4       389\n",
       "5       104\n",
       "6        22\n",
       "7         7\n",
       "9         4\n",
       "8         2\n",
       "Name: count_families, dtype: int64"
      ]
     },
     "execution_count": 33,
     "metadata": {},
     "output_type": "execute_result"
    }
   ],
   "source": [
    "col_actual += 1\n",
    "train.iloc[:,col_actual].value_counts(dropna=False)"
   ]
  },
  {
   "cell_type": "code",
   "execution_count": 34,
   "metadata": {},
   "outputs": [
    {
     "data": {
      "text/plain": [
       "0    231445\n",
       "1     29156\n",
       "Name: has_secondary_use, dtype: int64"
      ]
     },
     "execution_count": 34,
     "metadata": {},
     "output_type": "execute_result"
    }
   ],
   "source": [
    "col_actual += 1\n",
    "train.iloc[:,col_actual].value_counts(dropna=False)"
   ]
  },
  {
   "cell_type": "code",
   "execution_count": 35,
   "metadata": {},
   "outputs": [
    {
     "data": {
      "text/plain": [
       "0    243824\n",
       "1     16777\n",
       "Name: has_secondary_use_agriculture, dtype: int64"
      ]
     },
     "execution_count": 35,
     "metadata": {},
     "output_type": "execute_result"
    }
   ],
   "source": [
    "col_actual += 1\n",
    "train.iloc[:,col_actual].value_counts(dropna=False)"
   ]
  },
  {
   "cell_type": "code",
   "execution_count": 36,
   "metadata": {},
   "outputs": [
    {
     "data": {
      "text/plain": [
       "0    251838\n",
       "1      8763\n",
       "Name: has_secondary_use_hotel, dtype: int64"
      ]
     },
     "execution_count": 36,
     "metadata": {},
     "output_type": "execute_result"
    }
   ],
   "source": [
    "col_actual += 1\n",
    "train.iloc[:,col_actual].value_counts(dropna=False)"
   ]
  },
  {
   "cell_type": "code",
   "execution_count": 37,
   "metadata": {},
   "outputs": [
    {
     "data": {
      "text/plain": [
       "0    258490\n",
       "1      2111\n",
       "Name: has_secondary_use_rental, dtype: int64"
      ]
     },
     "execution_count": 37,
     "metadata": {},
     "output_type": "execute_result"
    }
   ],
   "source": [
    "col_actual += 1\n",
    "train.iloc[:,col_actual].value_counts(dropna=False)"
   ]
  },
  {
   "cell_type": "code",
   "execution_count": 38,
   "metadata": {},
   "outputs": [
    {
     "data": {
      "text/plain": [
       "0    260356\n",
       "1       245\n",
       "Name: has_secondary_use_institution, dtype: int64"
      ]
     },
     "execution_count": 38,
     "metadata": {},
     "output_type": "execute_result"
    }
   ],
   "source": [
    "col_actual += 1\n",
    "train.iloc[:,col_actual].value_counts(dropna=False)"
   ]
  },
  {
   "cell_type": "code",
   "execution_count": 39,
   "metadata": {},
   "outputs": [
    {
     "data": {
      "text/plain": [
       "0    260507\n",
       "1        94\n",
       "Name: has_secondary_use_school, dtype: int64"
      ]
     },
     "execution_count": 39,
     "metadata": {},
     "output_type": "execute_result"
    }
   ],
   "source": [
    "col_actual += 1\n",
    "train.iloc[:,col_actual].value_counts(dropna=False)"
   ]
  },
  {
   "cell_type": "code",
   "execution_count": 40,
   "metadata": {},
   "outputs": [
    {
     "data": {
      "text/plain": [
       "0    260322\n",
       "1       279\n",
       "Name: has_secondary_use_industry, dtype: int64"
      ]
     },
     "execution_count": 40,
     "metadata": {},
     "output_type": "execute_result"
    }
   ],
   "source": [
    "col_actual += 1\n",
    "train.iloc[:,col_actual].value_counts(dropna=False)"
   ]
  },
  {
   "cell_type": "code",
   "execution_count": 41,
   "metadata": {},
   "outputs": [
    {
     "data": {
      "text/plain": [
       "0    260552\n",
       "1        49\n",
       "Name: has_secondary_use_health_post, dtype: int64"
      ]
     },
     "execution_count": 41,
     "metadata": {},
     "output_type": "execute_result"
    }
   ],
   "source": [
    "col_actual += 1\n",
    "train.iloc[:,col_actual].value_counts(dropna=False)"
   ]
  },
  {
   "cell_type": "code",
   "execution_count": 42,
   "metadata": {},
   "outputs": [
    {
     "data": {
      "text/plain": [
       "0    260563\n",
       "1        38\n",
       "Name: has_secondary_use_gov_office, dtype: int64"
      ]
     },
     "execution_count": 42,
     "metadata": {},
     "output_type": "execute_result"
    }
   ],
   "source": [
    "col_actual += 1\n",
    "train.iloc[:,col_actual].value_counts(dropna=False)"
   ]
  },
  {
   "cell_type": "code",
   "execution_count": 43,
   "metadata": {},
   "outputs": [
    {
     "data": {
      "text/plain": [
       "0    260578\n",
       "1        23\n",
       "Name: has_secondary_use_use_police, dtype: int64"
      ]
     },
     "execution_count": 43,
     "metadata": {},
     "output_type": "execute_result"
    }
   ],
   "source": [
    "col_actual += 1\n",
    "train.iloc[:,col_actual].value_counts(dropna=False)"
   ]
  },
  {
   "cell_type": "code",
   "execution_count": 44,
   "metadata": {},
   "outputs": [
    {
     "data": {
      "text/plain": [
       "0    259267\n",
       "1      1334\n",
       "Name: has_secondary_use_other, dtype: int64"
      ]
     },
     "execution_count": 44,
     "metadata": {},
     "output_type": "execute_result"
    }
   ],
   "source": [
    "col_actual += 1\n",
    "train.iloc[:,col_actual].value_counts(dropna=False)"
   ]
  },
  {
   "cell_type": "code",
   "execution_count": 45,
   "metadata": {},
   "outputs": [],
   "source": [
    "#Buscamos reducir espacio en el dataframe, utilizando tipos de datos adecuados para cada columna\n",
    "\n",
    "data_types = {\n",
    "    'land_surface_condition':'category',\n",
    "    'foundation_type':'category',\n",
    "    'roof_type':'category',\n",
    "    'ground_floor_type':'category',\n",
    "    'other_floor_type':'category',\n",
    "    'position':'category',\n",
    "    'plan_configuration':'category',\n",
    "    'has_superstructure_adobe_mud':bool,\n",
    "    'has_superstructure_mud_mortar_stone':bool,\n",
    "    'has_superstructure_stone_flag':bool,\n",
    "    'has_superstructure_cement_mortar_stone':bool,\n",
    "    'has_superstructure_mud_mortar_brick':bool,\n",
    "    'has_superstructure_cement_mortar_brick':bool,\n",
    "    'has_superstructure_timber':bool,\n",
    "    'has_superstructure_bamboo':bool,\n",
    "    'has_superstructure_rc_non_engineered':bool,\n",
    "    'has_superstructure_rc_engineered':bool,\n",
    "    'has_superstructure_other':bool,\n",
    "    'legal_ownership_status':'category',\n",
    "    'has_secondary_use':bool,\n",
    "    'has_secondary_use_agriculture':bool,\n",
    "    'has_secondary_use_hotel':bool,\n",
    "    'has_secondary_use_rental':bool,\n",
    "    'has_secondary_use_institution':bool,\n",
    "    'has_secondary_use_school':bool,\n",
    "    'has_secondary_use_industry':bool,\n",
    "    'has_secondary_use_health_post':bool,\n",
    "    'has_secondary_use_gov_office':bool,\n",
    "    'has_secondary_use_use_police':bool,\n",
    "    'has_secondary_use_other':bool\n",
    "    \n",
    "}"
   ]
  },
  {
   "cell_type": "code",
   "execution_count": 46,
   "metadata": {},
   "outputs": [
    {
     "name": "stdout",
     "output_type": "stream",
     "text": [
      "<class 'pandas.core.frame.DataFrame'>\n",
      "Int64Index: 260601 entries, 0 to 260600\n",
      "Data columns (total 40 columns):\n",
      " #   Column                                  Non-Null Count   Dtype   \n",
      "---  ------                                  --------------   -----   \n",
      " 0   building_id                             260601 non-null  int64   \n",
      " 1   damage_grade                            260601 non-null  int64   \n",
      " 2   geo_level_1_id                          260601 non-null  int64   \n",
      " 3   geo_level_2_id                          260601 non-null  int64   \n",
      " 4   geo_level_3_id                          260601 non-null  int64   \n",
      " 5   count_floors_pre_eq                     260601 non-null  int64   \n",
      " 6   age                                     260601 non-null  int64   \n",
      " 7   area_percentage                         260601 non-null  int64   \n",
      " 8   height_percentage                       260601 non-null  int64   \n",
      " 9   land_surface_condition                  260601 non-null  category\n",
      " 10  foundation_type                         260601 non-null  category\n",
      " 11  roof_type                               260601 non-null  category\n",
      " 12  ground_floor_type                       260601 non-null  category\n",
      " 13  other_floor_type                        260601 non-null  category\n",
      " 14  position                                260601 non-null  category\n",
      " 15  plan_configuration                      260601 non-null  category\n",
      " 16  has_superstructure_adobe_mud            260601 non-null  bool    \n",
      " 17  has_superstructure_mud_mortar_stone     260601 non-null  bool    \n",
      " 18  has_superstructure_stone_flag           260601 non-null  bool    \n",
      " 19  has_superstructure_cement_mortar_stone  260601 non-null  bool    \n",
      " 20  has_superstructure_mud_mortar_brick     260601 non-null  bool    \n",
      " 21  has_superstructure_cement_mortar_brick  260601 non-null  bool    \n",
      " 22  has_superstructure_timber               260601 non-null  bool    \n",
      " 23  has_superstructure_bamboo               260601 non-null  bool    \n",
      " 24  has_superstructure_rc_non_engineered    260601 non-null  bool    \n",
      " 25  has_superstructure_rc_engineered        260601 non-null  bool    \n",
      " 26  has_superstructure_other                260601 non-null  bool    \n",
      " 27  legal_ownership_status                  260601 non-null  category\n",
      " 28  count_families                          260601 non-null  int64   \n",
      " 29  has_secondary_use                       260601 non-null  bool    \n",
      " 30  has_secondary_use_agriculture           260601 non-null  bool    \n",
      " 31  has_secondary_use_hotel                 260601 non-null  bool    \n",
      " 32  has_secondary_use_rental                260601 non-null  bool    \n",
      " 33  has_secondary_use_institution           260601 non-null  bool    \n",
      " 34  has_secondary_use_school                260601 non-null  bool    \n",
      " 35  has_secondary_use_industry              260601 non-null  bool    \n",
      " 36  has_secondary_use_health_post           260601 non-null  bool    \n",
      " 37  has_secondary_use_gov_office            260601 non-null  bool    \n",
      " 38  has_secondary_use_use_police            260601 non-null  bool    \n",
      " 39  has_secondary_use_other                 260601 non-null  bool    \n",
      "dtypes: bool(22), category(8), int64(10)\n",
      "memory usage: 29.3 MB\n"
     ]
    }
   ],
   "source": [
    "train = train.astype(data_types)\n",
    "train.info()"
   ]
  },
  {
   "cell_type": "code",
   "execution_count": 47,
   "metadata": {},
   "outputs": [
    {
     "name": "stdout",
     "output_type": "stream",
     "text": [
      "<class 'pandas.core.frame.DataFrame'>\n",
      "Int64Index: 260601 entries, 0 to 260600\n",
      "Data columns (total 40 columns):\n",
      " #   Column                                  Non-Null Count   Dtype   \n",
      "---  ------                                  --------------   -----   \n",
      " 0   building_id                             260601 non-null  int32   \n",
      " 1   damage_grade                            260601 non-null  int8    \n",
      " 2   geo_level_1_id                          260601 non-null  int8    \n",
      " 3   geo_level_2_id                          260601 non-null  int16   \n",
      " 4   geo_level_3_id                          260601 non-null  int16   \n",
      " 5   count_floors_pre_eq                     260601 non-null  int8    \n",
      " 6   age                                     260601 non-null  int16   \n",
      " 7   area_percentage                         260601 non-null  int8    \n",
      " 8   height_percentage                       260601 non-null  int8    \n",
      " 9   land_surface_condition                  260601 non-null  category\n",
      " 10  foundation_type                         260601 non-null  category\n",
      " 11  roof_type                               260601 non-null  category\n",
      " 12  ground_floor_type                       260601 non-null  category\n",
      " 13  other_floor_type                        260601 non-null  category\n",
      " 14  position                                260601 non-null  category\n",
      " 15  plan_configuration                      260601 non-null  category\n",
      " 16  has_superstructure_adobe_mud            260601 non-null  bool    \n",
      " 17  has_superstructure_mud_mortar_stone     260601 non-null  bool    \n",
      " 18  has_superstructure_stone_flag           260601 non-null  bool    \n",
      " 19  has_superstructure_cement_mortar_stone  260601 non-null  bool    \n",
      " 20  has_superstructure_mud_mortar_brick     260601 non-null  bool    \n",
      " 21  has_superstructure_cement_mortar_brick  260601 non-null  bool    \n",
      " 22  has_superstructure_timber               260601 non-null  bool    \n",
      " 23  has_superstructure_bamboo               260601 non-null  bool    \n",
      " 24  has_superstructure_rc_non_engineered    260601 non-null  bool    \n",
      " 25  has_superstructure_rc_engineered        260601 non-null  bool    \n",
      " 26  has_superstructure_other                260601 non-null  bool    \n",
      " 27  legal_ownership_status                  260601 non-null  category\n",
      " 28  count_families                          260601 non-null  int8    \n",
      " 29  has_secondary_use                       260601 non-null  bool    \n",
      " 30  has_secondary_use_agriculture           260601 non-null  bool    \n",
      " 31  has_secondary_use_hotel                 260601 non-null  bool    \n",
      " 32  has_secondary_use_rental                260601 non-null  bool    \n",
      " 33  has_secondary_use_institution           260601 non-null  bool    \n",
      " 34  has_secondary_use_school                260601 non-null  bool    \n",
      " 35  has_secondary_use_industry              260601 non-null  bool    \n",
      " 36  has_secondary_use_health_post           260601 non-null  bool    \n",
      " 37  has_secondary_use_gov_office            260601 non-null  bool    \n",
      " 38  has_secondary_use_use_police            260601 non-null  bool    \n",
      " 39  has_secondary_use_other                 260601 non-null  bool    \n",
      "dtypes: bool(22), category(8), int16(3), int32(1), int8(6)\n",
      "memory usage: 13.4 MB\n"
     ]
    }
   ],
   "source": [
    "int_cols = train.select_dtypes('integer').columns\n",
    "train[int_cols] = train[int_cols].apply(pd.to_numeric, downcast='integer')\n",
    "train.info()"
   ]
  },
  {
   "cell_type": "code",
   "execution_count": 48,
   "metadata": {},
   "outputs": [],
   "source": [
    "#Logramos reducir el dataframe de 81.5 mb a 13.4 mb"
   ]
  },
  {
   "cell_type": "code",
   "execution_count": 49,
   "metadata": {},
   "outputs": [
    {
     "data": {
      "text/html": [
       "<div>\n",
       "<style scoped>\n",
       "    .dataframe tbody tr th:only-of-type {\n",
       "        vertical-align: middle;\n",
       "    }\n",
       "\n",
       "    .dataframe tbody tr th {\n",
       "        vertical-align: top;\n",
       "    }\n",
       "\n",
       "    .dataframe thead th {\n",
       "        text-align: right;\n",
       "    }\n",
       "</style>\n",
       "<table border=\"1\" class=\"dataframe\">\n",
       "  <thead>\n",
       "    <tr style=\"text-align: right;\">\n",
       "      <th></th>\n",
       "      <th>building_id</th>\n",
       "      <th>geo_level_1_id</th>\n",
       "      <th>geo_level_2_id</th>\n",
       "      <th>geo_level_3_id</th>\n",
       "      <th>count_floors_pre_eq</th>\n",
       "      <th>age</th>\n",
       "      <th>area_percentage</th>\n",
       "      <th>height_percentage</th>\n",
       "      <th>land_surface_condition</th>\n",
       "      <th>foundation_type</th>\n",
       "      <th>...</th>\n",
       "      <th>has_secondary_use_agriculture</th>\n",
       "      <th>has_secondary_use_hotel</th>\n",
       "      <th>has_secondary_use_rental</th>\n",
       "      <th>has_secondary_use_institution</th>\n",
       "      <th>has_secondary_use_school</th>\n",
       "      <th>has_secondary_use_industry</th>\n",
       "      <th>has_secondary_use_health_post</th>\n",
       "      <th>has_secondary_use_gov_office</th>\n",
       "      <th>has_secondary_use_use_police</th>\n",
       "      <th>has_secondary_use_other</th>\n",
       "    </tr>\n",
       "  </thead>\n",
       "  <tbody>\n",
       "    <tr>\n",
       "      <th>0</th>\n",
       "      <td>300051</td>\n",
       "      <td>17</td>\n",
       "      <td>596</td>\n",
       "      <td>11307</td>\n",
       "      <td>3</td>\n",
       "      <td>20</td>\n",
       "      <td>7</td>\n",
       "      <td>6</td>\n",
       "      <td>t</td>\n",
       "      <td>r</td>\n",
       "      <td>...</td>\n",
       "      <td>0</td>\n",
       "      <td>0</td>\n",
       "      <td>0</td>\n",
       "      <td>0</td>\n",
       "      <td>0</td>\n",
       "      <td>0</td>\n",
       "      <td>0</td>\n",
       "      <td>0</td>\n",
       "      <td>0</td>\n",
       "      <td>0</td>\n",
       "    </tr>\n",
       "    <tr>\n",
       "      <th>1</th>\n",
       "      <td>99355</td>\n",
       "      <td>6</td>\n",
       "      <td>141</td>\n",
       "      <td>11987</td>\n",
       "      <td>2</td>\n",
       "      <td>25</td>\n",
       "      <td>13</td>\n",
       "      <td>5</td>\n",
       "      <td>t</td>\n",
       "      <td>r</td>\n",
       "      <td>...</td>\n",
       "      <td>1</td>\n",
       "      <td>0</td>\n",
       "      <td>0</td>\n",
       "      <td>0</td>\n",
       "      <td>0</td>\n",
       "      <td>0</td>\n",
       "      <td>0</td>\n",
       "      <td>0</td>\n",
       "      <td>0</td>\n",
       "      <td>0</td>\n",
       "    </tr>\n",
       "    <tr>\n",
       "      <th>2</th>\n",
       "      <td>890251</td>\n",
       "      <td>22</td>\n",
       "      <td>19</td>\n",
       "      <td>10044</td>\n",
       "      <td>2</td>\n",
       "      <td>5</td>\n",
       "      <td>4</td>\n",
       "      <td>5</td>\n",
       "      <td>t</td>\n",
       "      <td>r</td>\n",
       "      <td>...</td>\n",
       "      <td>0</td>\n",
       "      <td>0</td>\n",
       "      <td>0</td>\n",
       "      <td>0</td>\n",
       "      <td>0</td>\n",
       "      <td>0</td>\n",
       "      <td>0</td>\n",
       "      <td>0</td>\n",
       "      <td>0</td>\n",
       "      <td>0</td>\n",
       "    </tr>\n",
       "    <tr>\n",
       "      <th>3</th>\n",
       "      <td>745817</td>\n",
       "      <td>26</td>\n",
       "      <td>39</td>\n",
       "      <td>633</td>\n",
       "      <td>1</td>\n",
       "      <td>0</td>\n",
       "      <td>19</td>\n",
       "      <td>3</td>\n",
       "      <td>t</td>\n",
       "      <td>r</td>\n",
       "      <td>...</td>\n",
       "      <td>0</td>\n",
       "      <td>0</td>\n",
       "      <td>1</td>\n",
       "      <td>0</td>\n",
       "      <td>0</td>\n",
       "      <td>0</td>\n",
       "      <td>0</td>\n",
       "      <td>0</td>\n",
       "      <td>0</td>\n",
       "      <td>0</td>\n",
       "    </tr>\n",
       "    <tr>\n",
       "      <th>4</th>\n",
       "      <td>421793</td>\n",
       "      <td>17</td>\n",
       "      <td>289</td>\n",
       "      <td>7970</td>\n",
       "      <td>3</td>\n",
       "      <td>15</td>\n",
       "      <td>8</td>\n",
       "      <td>7</td>\n",
       "      <td>t</td>\n",
       "      <td>r</td>\n",
       "      <td>...</td>\n",
       "      <td>0</td>\n",
       "      <td>0</td>\n",
       "      <td>0</td>\n",
       "      <td>0</td>\n",
       "      <td>0</td>\n",
       "      <td>0</td>\n",
       "      <td>0</td>\n",
       "      <td>0</td>\n",
       "      <td>0</td>\n",
       "      <td>0</td>\n",
       "    </tr>\n",
       "    <tr>\n",
       "      <th>...</th>\n",
       "      <td>...</td>\n",
       "      <td>...</td>\n",
       "      <td>...</td>\n",
       "      <td>...</td>\n",
       "      <td>...</td>\n",
       "      <td>...</td>\n",
       "      <td>...</td>\n",
       "      <td>...</td>\n",
       "      <td>...</td>\n",
       "      <td>...</td>\n",
       "      <td>...</td>\n",
       "      <td>...</td>\n",
       "      <td>...</td>\n",
       "      <td>...</td>\n",
       "      <td>...</td>\n",
       "      <td>...</td>\n",
       "      <td>...</td>\n",
       "      <td>...</td>\n",
       "      <td>...</td>\n",
       "      <td>...</td>\n",
       "      <td>...</td>\n",
       "    </tr>\n",
       "    <tr>\n",
       "      <th>86863</th>\n",
       "      <td>310028</td>\n",
       "      <td>4</td>\n",
       "      <td>605</td>\n",
       "      <td>3623</td>\n",
       "      <td>3</td>\n",
       "      <td>70</td>\n",
       "      <td>20</td>\n",
       "      <td>6</td>\n",
       "      <td>t</td>\n",
       "      <td>r</td>\n",
       "      <td>...</td>\n",
       "      <td>1</td>\n",
       "      <td>0</td>\n",
       "      <td>0</td>\n",
       "      <td>0</td>\n",
       "      <td>0</td>\n",
       "      <td>0</td>\n",
       "      <td>0</td>\n",
       "      <td>0</td>\n",
       "      <td>0</td>\n",
       "      <td>0</td>\n",
       "    </tr>\n",
       "    <tr>\n",
       "      <th>86864</th>\n",
       "      <td>663567</td>\n",
       "      <td>10</td>\n",
       "      <td>1407</td>\n",
       "      <td>11907</td>\n",
       "      <td>3</td>\n",
       "      <td>25</td>\n",
       "      <td>6</td>\n",
       "      <td>7</td>\n",
       "      <td>n</td>\n",
       "      <td>r</td>\n",
       "      <td>...</td>\n",
       "      <td>0</td>\n",
       "      <td>0</td>\n",
       "      <td>0</td>\n",
       "      <td>0</td>\n",
       "      <td>0</td>\n",
       "      <td>0</td>\n",
       "      <td>0</td>\n",
       "      <td>0</td>\n",
       "      <td>0</td>\n",
       "      <td>0</td>\n",
       "    </tr>\n",
       "    <tr>\n",
       "      <th>86865</th>\n",
       "      <td>1049160</td>\n",
       "      <td>22</td>\n",
       "      <td>1136</td>\n",
       "      <td>7712</td>\n",
       "      <td>1</td>\n",
       "      <td>50</td>\n",
       "      <td>3</td>\n",
       "      <td>3</td>\n",
       "      <td>t</td>\n",
       "      <td>r</td>\n",
       "      <td>...</td>\n",
       "      <td>0</td>\n",
       "      <td>0</td>\n",
       "      <td>0</td>\n",
       "      <td>0</td>\n",
       "      <td>0</td>\n",
       "      <td>0</td>\n",
       "      <td>0</td>\n",
       "      <td>0</td>\n",
       "      <td>0</td>\n",
       "      <td>0</td>\n",
       "    </tr>\n",
       "    <tr>\n",
       "      <th>86866</th>\n",
       "      <td>442785</td>\n",
       "      <td>6</td>\n",
       "      <td>1041</td>\n",
       "      <td>912</td>\n",
       "      <td>2</td>\n",
       "      <td>5</td>\n",
       "      <td>9</td>\n",
       "      <td>5</td>\n",
       "      <td>t</td>\n",
       "      <td>r</td>\n",
       "      <td>...</td>\n",
       "      <td>0</td>\n",
       "      <td>0</td>\n",
       "      <td>0</td>\n",
       "      <td>0</td>\n",
       "      <td>0</td>\n",
       "      <td>0</td>\n",
       "      <td>0</td>\n",
       "      <td>0</td>\n",
       "      <td>0</td>\n",
       "      <td>0</td>\n",
       "    </tr>\n",
       "    <tr>\n",
       "      <th>86867</th>\n",
       "      <td>501372</td>\n",
       "      <td>26</td>\n",
       "      <td>36</td>\n",
       "      <td>6436</td>\n",
       "      <td>2</td>\n",
       "      <td>10</td>\n",
       "      <td>11</td>\n",
       "      <td>4</td>\n",
       "      <td>t</td>\n",
       "      <td>r</td>\n",
       "      <td>...</td>\n",
       "      <td>0</td>\n",
       "      <td>0</td>\n",
       "      <td>0</td>\n",
       "      <td>0</td>\n",
       "      <td>0</td>\n",
       "      <td>0</td>\n",
       "      <td>0</td>\n",
       "      <td>0</td>\n",
       "      <td>0</td>\n",
       "      <td>0</td>\n",
       "    </tr>\n",
       "  </tbody>\n",
       "</table>\n",
       "<p>86868 rows × 39 columns</p>\n",
       "</div>"
      ],
      "text/plain": [
       "       building_id  geo_level_1_id  geo_level_2_id  geo_level_3_id  \\\n",
       "0           300051              17             596           11307   \n",
       "1            99355               6             141           11987   \n",
       "2           890251              22              19           10044   \n",
       "3           745817              26              39             633   \n",
       "4           421793              17             289            7970   \n",
       "...            ...             ...             ...             ...   \n",
       "86863       310028               4             605            3623   \n",
       "86864       663567              10            1407           11907   \n",
       "86865      1049160              22            1136            7712   \n",
       "86866       442785               6            1041             912   \n",
       "86867       501372              26              36            6436   \n",
       "\n",
       "       count_floors_pre_eq  age  area_percentage  height_percentage  \\\n",
       "0                        3   20                7                  6   \n",
       "1                        2   25               13                  5   \n",
       "2                        2    5                4                  5   \n",
       "3                        1    0               19                  3   \n",
       "4                        3   15                8                  7   \n",
       "...                    ...  ...              ...                ...   \n",
       "86863                    3   70               20                  6   \n",
       "86864                    3   25                6                  7   \n",
       "86865                    1   50                3                  3   \n",
       "86866                    2    5                9                  5   \n",
       "86867                    2   10               11                  4   \n",
       "\n",
       "      land_surface_condition foundation_type  ...  \\\n",
       "0                          t               r  ...   \n",
       "1                          t               r  ...   \n",
       "2                          t               r  ...   \n",
       "3                          t               r  ...   \n",
       "4                          t               r  ...   \n",
       "...                      ...             ...  ...   \n",
       "86863                      t               r  ...   \n",
       "86864                      n               r  ...   \n",
       "86865                      t               r  ...   \n",
       "86866                      t               r  ...   \n",
       "86867                      t               r  ...   \n",
       "\n",
       "      has_secondary_use_agriculture has_secondary_use_hotel  \\\n",
       "0                                 0                       0   \n",
       "1                                 1                       0   \n",
       "2                                 0                       0   \n",
       "3                                 0                       0   \n",
       "4                                 0                       0   \n",
       "...                             ...                     ...   \n",
       "86863                             1                       0   \n",
       "86864                             0                       0   \n",
       "86865                             0                       0   \n",
       "86866                             0                       0   \n",
       "86867                             0                       0   \n",
       "\n",
       "      has_secondary_use_rental has_secondary_use_institution  \\\n",
       "0                            0                             0   \n",
       "1                            0                             0   \n",
       "2                            0                             0   \n",
       "3                            1                             0   \n",
       "4                            0                             0   \n",
       "...                        ...                           ...   \n",
       "86863                        0                             0   \n",
       "86864                        0                             0   \n",
       "86865                        0                             0   \n",
       "86866                        0                             0   \n",
       "86867                        0                             0   \n",
       "\n",
       "      has_secondary_use_school  has_secondary_use_industry  \\\n",
       "0                            0                           0   \n",
       "1                            0                           0   \n",
       "2                            0                           0   \n",
       "3                            0                           0   \n",
       "4                            0                           0   \n",
       "...                        ...                         ...   \n",
       "86863                        0                           0   \n",
       "86864                        0                           0   \n",
       "86865                        0                           0   \n",
       "86866                        0                           0   \n",
       "86867                        0                           0   \n",
       "\n",
       "       has_secondary_use_health_post  has_secondary_use_gov_office  \\\n",
       "0                                  0                             0   \n",
       "1                                  0                             0   \n",
       "2                                  0                             0   \n",
       "3                                  0                             0   \n",
       "4                                  0                             0   \n",
       "...                              ...                           ...   \n",
       "86863                              0                             0   \n",
       "86864                              0                             0   \n",
       "86865                              0                             0   \n",
       "86866                              0                             0   \n",
       "86867                              0                             0   \n",
       "\n",
       "       has_secondary_use_use_police  has_secondary_use_other  \n",
       "0                                 0                        0  \n",
       "1                                 0                        0  \n",
       "2                                 0                        0  \n",
       "3                                 0                        0  \n",
       "4                                 0                        0  \n",
       "...                             ...                      ...  \n",
       "86863                             0                        0  \n",
       "86864                             0                        0  \n",
       "86865                             0                        0  \n",
       "86866                             0                        0  \n",
       "86867                             0                        0  \n",
       "\n",
       "[86868 rows x 39 columns]"
      ]
     },
     "execution_count": 49,
     "metadata": {},
     "output_type": "execute_result"
    }
   ],
   "source": [
    "test = pd.read_csv('test_values.csv')\n",
    "test"
   ]
  },
  {
   "cell_type": "code",
   "execution_count": 50,
   "metadata": {},
   "outputs": [
    {
     "name": "stdout",
     "output_type": "stream",
     "text": [
      "<class 'pandas.core.frame.DataFrame'>\n",
      "RangeIndex: 86868 entries, 0 to 86867\n",
      "Data columns (total 39 columns):\n",
      " #   Column                                  Non-Null Count  Dtype \n",
      "---  ------                                  --------------  ----- \n",
      " 0   building_id                             86868 non-null  int64 \n",
      " 1   geo_level_1_id                          86868 non-null  int64 \n",
      " 2   geo_level_2_id                          86868 non-null  int64 \n",
      " 3   geo_level_3_id                          86868 non-null  int64 \n",
      " 4   count_floors_pre_eq                     86868 non-null  int64 \n",
      " 5   age                                     86868 non-null  int64 \n",
      " 6   area_percentage                         86868 non-null  int64 \n",
      " 7   height_percentage                       86868 non-null  int64 \n",
      " 8   land_surface_condition                  86868 non-null  object\n",
      " 9   foundation_type                         86868 non-null  object\n",
      " 10  roof_type                               86868 non-null  object\n",
      " 11  ground_floor_type                       86868 non-null  object\n",
      " 12  other_floor_type                        86868 non-null  object\n",
      " 13  position                                86868 non-null  object\n",
      " 14  plan_configuration                      86868 non-null  object\n",
      " 15  has_superstructure_adobe_mud            86868 non-null  int64 \n",
      " 16  has_superstructure_mud_mortar_stone     86868 non-null  int64 \n",
      " 17  has_superstructure_stone_flag           86868 non-null  int64 \n",
      " 18  has_superstructure_cement_mortar_stone  86868 non-null  int64 \n",
      " 19  has_superstructure_mud_mortar_brick     86868 non-null  int64 \n",
      " 20  has_superstructure_cement_mortar_brick  86868 non-null  int64 \n",
      " 21  has_superstructure_timber               86868 non-null  int64 \n",
      " 22  has_superstructure_bamboo               86868 non-null  int64 \n",
      " 23  has_superstructure_rc_non_engineered    86868 non-null  int64 \n",
      " 24  has_superstructure_rc_engineered        86868 non-null  int64 \n",
      " 25  has_superstructure_other                86868 non-null  int64 \n",
      " 26  legal_ownership_status                  86868 non-null  object\n",
      " 27  count_families                          86868 non-null  int64 \n",
      " 28  has_secondary_use                       86868 non-null  int64 \n",
      " 29  has_secondary_use_agriculture           86868 non-null  int64 \n",
      " 30  has_secondary_use_hotel                 86868 non-null  int64 \n",
      " 31  has_secondary_use_rental                86868 non-null  int64 \n",
      " 32  has_secondary_use_institution           86868 non-null  int64 \n",
      " 33  has_secondary_use_school                86868 non-null  int64 \n",
      " 34  has_secondary_use_industry              86868 non-null  int64 \n",
      " 35  has_secondary_use_health_post           86868 non-null  int64 \n",
      " 36  has_secondary_use_gov_office            86868 non-null  int64 \n",
      " 37  has_secondary_use_use_police            86868 non-null  int64 \n",
      " 38  has_secondary_use_other                 86868 non-null  int64 \n",
      "dtypes: int64(31), object(8)\n",
      "memory usage: 25.8+ MB\n"
     ]
    }
   ],
   "source": [
    "col_actual=1\n",
    "test.info()"
   ]
  },
  {
   "cell_type": "code",
   "execution_count": 51,
   "metadata": {},
   "outputs": [
    {
     "data": {
      "text/plain": [
       "6     8104\n",
       "17    7452\n",
       "26    7387\n",
       "10    7320\n",
       "7     6571\n",
       "8     6385\n",
       "20    5545\n",
       "21    5055\n",
       "4     4894\n",
       "27    4254\n",
       "13    3238\n",
       "11    2675\n",
       "3     2455\n",
       "22    2106\n",
       "25    1865\n",
       "16    1392\n",
       "0     1347\n",
       "9     1255\n",
       "18    1011\n",
       "12    1010\n",
       "30     909\n",
       "5      889\n",
       "1      887\n",
       "15     814\n",
       "14     605\n",
       "24     427\n",
       "23     377\n",
       "2      290\n",
       "29     141\n",
       "19     124\n",
       "28      84\n",
       "Name: geo_level_1_id, dtype: int64"
      ]
     },
     "execution_count": 51,
     "metadata": {},
     "output_type": "execute_result"
    }
   ],
   "source": [
    "#Ninguna columna tiene datos faltantes, veamos sus datos\n",
    "test.iloc[:,col_actual].value_counts(dropna=False)"
   ]
  },
  {
   "cell_type": "code",
   "execution_count": 52,
   "metadata": {},
   "outputs": [
    {
     "data": {
      "text/plain": [
       "39      1329\n",
       "158      797\n",
       "181      725\n",
       "157      651\n",
       "1387     635\n",
       "        ... \n",
       "951        1\n",
       "340        1\n",
       "410        1\n",
       "101        1\n",
       "1409       1\n",
       "Name: geo_level_2_id, Length: 1364, dtype: int64"
      ]
     },
     "execution_count": 52,
     "metadata": {},
     "output_type": "execute_result"
    }
   ],
   "source": [
    "col_actual += 1\n",
    "test.iloc[:,col_actual].value_counts(dropna=False)"
   ]
  },
  {
   "cell_type": "code",
   "execution_count": 53,
   "metadata": {},
   "outputs": [
    {
     "data": {
      "text/plain": [
       "9133     209\n",
       "633      190\n",
       "621      171\n",
       "11246    163\n",
       "11440    159\n",
       "        ... \n",
       "11306      1\n",
       "3724       1\n",
       "10620      1\n",
       "7822       1\n",
       "3533       1\n",
       "Name: geo_level_3_id, Length: 10213, dtype: int64"
      ]
     },
     "execution_count": 53,
     "metadata": {},
     "output_type": "execute_result"
    }
   ],
   "source": [
    "col_actual += 1\n",
    "test.iloc[:,col_actual].value_counts(dropna=False)"
   ]
  },
  {
   "cell_type": "code",
   "execution_count": 54,
   "metadata": {},
   "outputs": [
    {
     "data": {
      "text/plain": [
       "2    52406\n",
       "3    18554\n",
       "1    13264\n",
       "4     1762\n",
       "5      793\n",
       "6       74\n",
       "7       13\n",
       "8        2\n",
       "Name: count_floors_pre_eq, dtype: int64"
      ]
     },
     "execution_count": 54,
     "metadata": {},
     "output_type": "execute_result"
    }
   ],
   "source": [
    "col_actual += 1\n",
    "test.iloc[:,col_actual].value_counts(dropna=False)"
   ]
  },
  {
   "cell_type": "code",
   "execution_count": 55,
   "metadata": {},
   "outputs": [
    {
     "data": {
      "text/plain": [
       "10     12784\n",
       "15     12064\n",
       "5      11348\n",
       "20     10610\n",
       "0       8684\n",
       "25      8220\n",
       "30      5949\n",
       "35      3710\n",
       "40      3491\n",
       "50      2362\n",
       "45      1544\n",
       "60      1161\n",
       "80      1032\n",
       "70       704\n",
       "55       662\n",
       "100      516\n",
       "995      461\n",
       "65       374\n",
       "90       341\n",
       "85       286\n",
       "75       181\n",
       "95       133\n",
       "120       56\n",
       "110       42\n",
       "150       37\n",
       "200       34\n",
       "105       30\n",
       "125       25\n",
       "115        9\n",
       "180        4\n",
       "130        4\n",
       "155        3\n",
       "160        2\n",
       "140        2\n",
       "190        2\n",
       "170        1\n",
       "Name: age, dtype: int64"
      ]
     },
     "execution_count": 55,
     "metadata": {},
     "output_type": "execute_result"
    }
   ],
   "source": [
    "col_actual += 1\n",
    "test.iloc[:,col_actual].value_counts(dropna=False)"
   ]
  },
  {
   "cell_type": "code",
   "execution_count": 56,
   "metadata": {},
   "outputs": [
    {
     "data": {
      "text/plain": [
       "6     13946\n",
       "7     12388\n",
       "5     10832\n",
       "8      9543\n",
       "9      7373\n",
       "      ...  \n",
       "81        1\n",
       "43        1\n",
       "51        1\n",
       "47        1\n",
       "64        1\n",
       "Name: area_percentage, Length: 73, dtype: int64"
      ]
     },
     "execution_count": 56,
     "metadata": {},
     "output_type": "execute_result"
    }
   ],
   "source": [
    "col_actual += 1\n",
    "test.iloc[:,col_actual].value_counts(dropna=False)"
   ]
  },
  {
   "cell_type": "code",
   "execution_count": 57,
   "metadata": {},
   "outputs": [
    {
     "data": {
      "text/plain": [
       "5     26356\n",
       "6     15360\n",
       "4     12664\n",
       "7     11895\n",
       "3      8578\n",
       "8      4558\n",
       "2      3043\n",
       "9      1770\n",
       "10     1442\n",
       "12      339\n",
       "11      325\n",
       "13      277\n",
       "15      107\n",
       "16       67\n",
       "18       24\n",
       "14       19\n",
       "32       15\n",
       "20        8\n",
       "21        8\n",
       "22        3\n",
       "17        2\n",
       "24        2\n",
       "19        1\n",
       "23        1\n",
       "25        1\n",
       "26        1\n",
       "29        1\n",
       "31        1\n",
       "Name: height_percentage, dtype: int64"
      ]
     },
     "execution_count": 57,
     "metadata": {},
     "output_type": "execute_result"
    }
   ],
   "source": [
    "col_actual += 1\n",
    "test.iloc[:,col_actual].value_counts(dropna=False)"
   ]
  },
  {
   "cell_type": "code",
   "execution_count": 58,
   "metadata": {},
   "outputs": [
    {
     "data": {
      "text/plain": [
       "t    72180\n",
       "n    11885\n",
       "o     2803\n",
       "Name: land_surface_condition, dtype: int64"
      ]
     },
     "execution_count": 58,
     "metadata": {},
     "output_type": "execute_result"
    }
   ],
   "source": [
    "col_actual += 1\n",
    "test.iloc[:,col_actual].value_counts(dropna=False)"
   ]
  },
  {
   "cell_type": "code",
   "execution_count": 59,
   "metadata": {},
   "outputs": [
    {
     "data": {
      "text/plain": [
       "r    73178\n",
       "w     4930\n",
       "u     4648\n",
       "i     3603\n",
       "h      509\n",
       "Name: foundation_type, dtype: int64"
      ]
     },
     "execution_count": 59,
     "metadata": {},
     "output_type": "execute_result"
    }
   ],
   "source": [
    "col_actual += 1\n",
    "test.iloc[:,col_actual].value_counts(dropna=False)"
   ]
  },
  {
   "cell_type": "code",
   "execution_count": 60,
   "metadata": {},
   "outputs": [
    {
     "data": {
      "text/plain": [
       "n    61133\n",
       "q    20329\n",
       "x     5406\n",
       "Name: roof_type, dtype: int64"
      ]
     },
     "execution_count": 60,
     "metadata": {},
     "output_type": "execute_result"
    }
   ],
   "source": [
    "col_actual += 1\n",
    "test.iloc[:,col_actual].value_counts(dropna=False)"
   ]
  },
  {
   "cell_type": "code",
   "execution_count": 61,
   "metadata": {},
   "outputs": [
    {
     "data": {
      "text/plain": [
       "f    69972\n",
       "x     8232\n",
       "v     8138\n",
       "z      330\n",
       "m      196\n",
       "Name: ground_floor_type, dtype: int64"
      ]
     },
     "execution_count": 61,
     "metadata": {},
     "output_type": "execute_result"
    }
   ],
   "source": [
    "col_actual += 1\n",
    "test.iloc[:,col_actual].value_counts(dropna=False)"
   ]
  },
  {
   "cell_type": "code",
   "execution_count": 62,
   "metadata": {},
   "outputs": [
    {
     "data": {
      "text/plain": [
       "q    55004\n",
       "x    14691\n",
       "j    13069\n",
       "s     4104\n",
       "Name: other_floor_type, dtype: int64"
      ]
     },
     "execution_count": 62,
     "metadata": {},
     "output_type": "execute_result"
    }
   ],
   "source": [
    "col_actual += 1\n",
    "test.iloc[:,col_actual].value_counts(dropna=False)"
   ]
  },
  {
   "cell_type": "code",
   "execution_count": 63,
   "metadata": {},
   "outputs": [
    {
     "data": {
      "text/plain": [
       "s    67373\n",
       "t    14362\n",
       "j     4365\n",
       "o      768\n",
       "Name: position, dtype: int64"
      ]
     },
     "execution_count": 63,
     "metadata": {},
     "output_type": "execute_result"
    }
   ],
   "source": [
    "col_actual += 1\n",
    "test.iloc[:,col_actual].value_counts(dropna=False)"
   ]
  },
  {
   "cell_type": "code",
   "execution_count": 64,
   "metadata": {},
   "outputs": [
    {
     "data": {
      "text/plain": [
       "d    83255\n",
       "q     1949\n",
       "u     1260\n",
       "c      125\n",
       "s      103\n",
       "a      101\n",
       "o       36\n",
       "m       18\n",
       "n       16\n",
       "f        5\n",
       "Name: plan_configuration, dtype: int64"
      ]
     },
     "execution_count": 64,
     "metadata": {},
     "output_type": "execute_result"
    }
   ],
   "source": [
    "col_actual += 1\n",
    "test.iloc[:,col_actual].value_counts(dropna=False)"
   ]
  },
  {
   "cell_type": "code",
   "execution_count": 65,
   "metadata": {},
   "outputs": [
    {
     "data": {
      "text/plain": [
       "0    79054\n",
       "1     7814\n",
       "Name: has_superstructure_adobe_mud, dtype: int64"
      ]
     },
     "execution_count": 65,
     "metadata": {},
     "output_type": "execute_result"
    }
   ],
   "source": [
    "col_actual += 1\n",
    "test.iloc[:,col_actual].value_counts(dropna=False)"
   ]
  },
  {
   "cell_type": "code",
   "execution_count": 66,
   "metadata": {},
   "outputs": [
    {
     "data": {
      "text/plain": [
       "1    66237\n",
       "0    20631\n",
       "Name: has_superstructure_mud_mortar_stone, dtype: int64"
      ]
     },
     "execution_count": 66,
     "metadata": {},
     "output_type": "execute_result"
    }
   ],
   "source": [
    "col_actual += 1\n",
    "test.iloc[:,col_actual].value_counts(dropna=False)"
   ]
  },
  {
   "cell_type": "code",
   "execution_count": 67,
   "metadata": {},
   "outputs": [
    {
     "data": {
      "text/plain": [
       "0    83874\n",
       "1     2994\n",
       "Name: has_superstructure_stone_flag, dtype: int64"
      ]
     },
     "execution_count": 67,
     "metadata": {},
     "output_type": "execute_result"
    }
   ],
   "source": [
    "col_actual += 1\n",
    "test.iloc[:,col_actual].value_counts(dropna=False)"
   ]
  },
  {
   "cell_type": "code",
   "execution_count": 68,
   "metadata": {},
   "outputs": [
    {
     "data": {
      "text/plain": [
       "0    85255\n",
       "1     1613\n",
       "Name: has_superstructure_cement_mortar_stone, dtype: int64"
      ]
     },
     "execution_count": 68,
     "metadata": {},
     "output_type": "execute_result"
    }
   ],
   "source": [
    "col_actual += 1\n",
    "test.iloc[:,col_actual].value_counts(dropna=False)"
   ]
  },
  {
   "cell_type": "code",
   "execution_count": 69,
   "metadata": {},
   "outputs": [
    {
     "data": {
      "text/plain": [
       "0    81008\n",
       "1     5860\n",
       "Name: has_superstructure_mud_mortar_brick, dtype: int64"
      ]
     },
     "execution_count": 69,
     "metadata": {},
     "output_type": "execute_result"
    }
   ],
   "source": [
    "col_actual += 1\n",
    "test.iloc[:,col_actual].value_counts(dropna=False)"
   ]
  },
  {
   "cell_type": "code",
   "execution_count": 70,
   "metadata": {},
   "outputs": [
    {
     "data": {
      "text/plain": [
       "0    80454\n",
       "1     6414\n",
       "Name: has_superstructure_cement_mortar_brick, dtype: int64"
      ]
     },
     "execution_count": 70,
     "metadata": {},
     "output_type": "execute_result"
    }
   ],
   "source": [
    "col_actual += 1\n",
    "test.iloc[:,col_actual].value_counts(dropna=False)"
   ]
  },
  {
   "cell_type": "code",
   "execution_count": 71,
   "metadata": {},
   "outputs": [
    {
     "data": {
      "text/plain": [
       "0    64844\n",
       "1    22024\n",
       "Name: has_superstructure_timber, dtype: int64"
      ]
     },
     "execution_count": 71,
     "metadata": {},
     "output_type": "execute_result"
    }
   ],
   "source": [
    "col_actual += 1\n",
    "test.iloc[:,col_actual].value_counts(dropna=False)"
   ]
  },
  {
   "cell_type": "code",
   "execution_count": 72,
   "metadata": {},
   "outputs": [
    {
     "data": {
      "text/plain": [
       "0    79599\n",
       "1     7269\n",
       "Name: has_superstructure_bamboo, dtype: int64"
      ]
     },
     "execution_count": 72,
     "metadata": {},
     "output_type": "execute_result"
    }
   ],
   "source": [
    "col_actual += 1\n",
    "test.iloc[:,col_actual].value_counts(dropna=False)"
   ]
  },
  {
   "cell_type": "code",
   "execution_count": 73,
   "metadata": {},
   "outputs": [
    {
     "data": {
      "text/plain": [
       "0    83176\n",
       "1     3692\n",
       "Name: has_superstructure_rc_non_engineered, dtype: int64"
      ]
     },
     "execution_count": 73,
     "metadata": {},
     "output_type": "execute_result"
    }
   ],
   "source": [
    "col_actual += 1\n",
    "test.iloc[:,col_actual].value_counts(dropna=False)"
   ]
  },
  {
   "cell_type": "code",
   "execution_count": 74,
   "metadata": {},
   "outputs": [
    {
     "data": {
      "text/plain": [
       "0    85496\n",
       "1     1372\n",
       "Name: has_superstructure_rc_engineered, dtype: int64"
      ]
     },
     "execution_count": 74,
     "metadata": {},
     "output_type": "execute_result"
    }
   ],
   "source": [
    "col_actual += 1\n",
    "test.iloc[:,col_actual].value_counts(dropna=False)"
   ]
  },
  {
   "cell_type": "code",
   "execution_count": 75,
   "metadata": {},
   "outputs": [
    {
     "data": {
      "text/plain": [
       "0    85547\n",
       "1     1321\n",
       "Name: has_superstructure_other, dtype: int64"
      ]
     },
     "execution_count": 75,
     "metadata": {},
     "output_type": "execute_result"
    }
   ],
   "source": [
    "col_actual += 1\n",
    "test.iloc[:,col_actual].value_counts(dropna=False)"
   ]
  },
  {
   "cell_type": "code",
   "execution_count": 76,
   "metadata": {},
   "outputs": [
    {
     "data": {
      "text/plain": [
       "v    83694\n",
       "a     1795\n",
       "w      862\n",
       "r      517\n",
       "Name: legal_ownership_status, dtype: int64"
      ]
     },
     "execution_count": 76,
     "metadata": {},
     "output_type": "execute_result"
    }
   ],
   "source": [
    "col_actual += 1\n",
    "test.iloc[:,col_actual].value_counts(dropna=False)"
   ]
  },
  {
   "cell_type": "code",
   "execution_count": 77,
   "metadata": {},
   "outputs": [
    {
     "data": {
      "text/plain": [
       "1    75262\n",
       "0     7075\n",
       "2     3716\n",
       "3      613\n",
       "4      158\n",
       "5       31\n",
       "6       11\n",
       "7        1\n",
       "8        1\n",
       "Name: count_families, dtype: int64"
      ]
     },
     "execution_count": 77,
     "metadata": {},
     "output_type": "execute_result"
    }
   ],
   "source": [
    "col_actual += 1\n",
    "test.iloc[:,col_actual].value_counts(dropna=False)"
   ]
  },
  {
   "cell_type": "code",
   "execution_count": 78,
   "metadata": {},
   "outputs": [
    {
     "data": {
      "text/plain": [
       "0    77185\n",
       "1     9683\n",
       "Name: has_secondary_use, dtype: int64"
      ]
     },
     "execution_count": 78,
     "metadata": {},
     "output_type": "execute_result"
    }
   ],
   "source": [
    "col_actual += 1\n",
    "test.iloc[:,col_actual].value_counts(dropna=False)"
   ]
  },
  {
   "cell_type": "code",
   "execution_count": 79,
   "metadata": {},
   "outputs": [
    {
     "data": {
      "text/plain": [
       "0    81300\n",
       "1     5568\n",
       "Name: has_secondary_use_agriculture, dtype: int64"
      ]
     },
     "execution_count": 79,
     "metadata": {},
     "output_type": "execute_result"
    }
   ],
   "source": [
    "col_actual += 1\n",
    "test.iloc[:,col_actual].value_counts(dropna=False)"
   ]
  },
  {
   "cell_type": "code",
   "execution_count": 80,
   "metadata": {},
   "outputs": [
    {
     "data": {
      "text/plain": [
       "0    83926\n",
       "1     2942\n",
       "Name: has_secondary_use_hotel, dtype: int64"
      ]
     },
     "execution_count": 80,
     "metadata": {},
     "output_type": "execute_result"
    }
   ],
   "source": [
    "col_actual += 1\n",
    "test.iloc[:,col_actual].value_counts(dropna=False)"
   ]
  },
  {
   "cell_type": "code",
   "execution_count": 81,
   "metadata": {},
   "outputs": [
    {
     "data": {
      "text/plain": [
       "0    86152\n",
       "1      716\n",
       "Name: has_secondary_use_rental, dtype: int64"
      ]
     },
     "execution_count": 81,
     "metadata": {},
     "output_type": "execute_result"
    }
   ],
   "source": [
    "col_actual += 1\n",
    "test.iloc[:,col_actual].value_counts(dropna=False)"
   ]
  },
  {
   "cell_type": "code",
   "execution_count": 82,
   "metadata": {},
   "outputs": [
    {
     "data": {
      "text/plain": [
       "0    86780\n",
       "1       88\n",
       "Name: has_secondary_use_institution, dtype: int64"
      ]
     },
     "execution_count": 82,
     "metadata": {},
     "output_type": "execute_result"
    }
   ],
   "source": [
    "col_actual += 1\n",
    "test.iloc[:,col_actual].value_counts(dropna=False)"
   ]
  },
  {
   "cell_type": "code",
   "execution_count": 83,
   "metadata": {},
   "outputs": [
    {
     "data": {
      "text/plain": [
       "0    86836\n",
       "1       32\n",
       "Name: has_secondary_use_school, dtype: int64"
      ]
     },
     "execution_count": 83,
     "metadata": {},
     "output_type": "execute_result"
    }
   ],
   "source": [
    "col_actual += 1\n",
    "test.iloc[:,col_actual].value_counts(dropna=False)"
   ]
  },
  {
   "cell_type": "code",
   "execution_count": 84,
   "metadata": {},
   "outputs": [
    {
     "data": {
      "text/plain": [
       "0    86781\n",
       "1       87\n",
       "Name: has_secondary_use_industry, dtype: int64"
      ]
     },
     "execution_count": 84,
     "metadata": {},
     "output_type": "execute_result"
    }
   ],
   "source": [
    "col_actual += 1\n",
    "test.iloc[:,col_actual].value_counts(dropna=False)"
   ]
  },
  {
   "cell_type": "code",
   "execution_count": 85,
   "metadata": {},
   "outputs": [
    {
     "data": {
      "text/plain": [
       "0    86859\n",
       "1        9\n",
       "Name: has_secondary_use_health_post, dtype: int64"
      ]
     },
     "execution_count": 85,
     "metadata": {},
     "output_type": "execute_result"
    }
   ],
   "source": [
    "col_actual += 1\n",
    "test.iloc[:,col_actual].value_counts(dropna=False)"
   ]
  },
  {
   "cell_type": "code",
   "execution_count": 86,
   "metadata": {},
   "outputs": [
    {
     "data": {
      "text/plain": [
       "0    86858\n",
       "1       10\n",
       "Name: has_secondary_use_gov_office, dtype: int64"
      ]
     },
     "execution_count": 86,
     "metadata": {},
     "output_type": "execute_result"
    }
   ],
   "source": [
    "col_actual += 1\n",
    "test.iloc[:,col_actual].value_counts(dropna=False)"
   ]
  },
  {
   "cell_type": "code",
   "execution_count": 87,
   "metadata": {},
   "outputs": [
    {
     "data": {
      "text/plain": [
       "0    86864\n",
       "1        4\n",
       "Name: has_secondary_use_use_police, dtype: int64"
      ]
     },
     "execution_count": 87,
     "metadata": {},
     "output_type": "execute_result"
    }
   ],
   "source": [
    "col_actual += 1\n",
    "test.iloc[:,col_actual].value_counts(dropna=False)"
   ]
  },
  {
   "cell_type": "code",
   "execution_count": 88,
   "metadata": {},
   "outputs": [
    {
     "name": "stdout",
     "output_type": "stream",
     "text": [
      "<class 'pandas.core.frame.DataFrame'>\n",
      "RangeIndex: 86868 entries, 0 to 86867\n",
      "Data columns (total 39 columns):\n",
      " #   Column                                  Non-Null Count  Dtype   \n",
      "---  ------                                  --------------  -----   \n",
      " 0   building_id                             86868 non-null  int32   \n",
      " 1   geo_level_1_id                          86868 non-null  int8    \n",
      " 2   geo_level_2_id                          86868 non-null  int16   \n",
      " 3   geo_level_3_id                          86868 non-null  int16   \n",
      " 4   count_floors_pre_eq                     86868 non-null  int8    \n",
      " 5   age                                     86868 non-null  int16   \n",
      " 6   area_percentage                         86868 non-null  int8    \n",
      " 7   height_percentage                       86868 non-null  int8    \n",
      " 8   land_surface_condition                  86868 non-null  category\n",
      " 9   foundation_type                         86868 non-null  category\n",
      " 10  roof_type                               86868 non-null  category\n",
      " 11  ground_floor_type                       86868 non-null  category\n",
      " 12  other_floor_type                        86868 non-null  category\n",
      " 13  position                                86868 non-null  category\n",
      " 14  plan_configuration                      86868 non-null  category\n",
      " 15  has_superstructure_adobe_mud            86868 non-null  bool    \n",
      " 16  has_superstructure_mud_mortar_stone     86868 non-null  bool    \n",
      " 17  has_superstructure_stone_flag           86868 non-null  bool    \n",
      " 18  has_superstructure_cement_mortar_stone  86868 non-null  bool    \n",
      " 19  has_superstructure_mud_mortar_brick     86868 non-null  bool    \n",
      " 20  has_superstructure_cement_mortar_brick  86868 non-null  bool    \n",
      " 21  has_superstructure_timber               86868 non-null  bool    \n",
      " 22  has_superstructure_bamboo               86868 non-null  bool    \n",
      " 23  has_superstructure_rc_non_engineered    86868 non-null  bool    \n",
      " 24  has_superstructure_rc_engineered        86868 non-null  bool    \n",
      " 25  has_superstructure_other                86868 non-null  bool    \n",
      " 26  legal_ownership_status                  86868 non-null  category\n",
      " 27  count_families                          86868 non-null  int8    \n",
      " 28  has_secondary_use                       86868 non-null  bool    \n",
      " 29  has_secondary_use_agriculture           86868 non-null  bool    \n",
      " 30  has_secondary_use_hotel                 86868 non-null  bool    \n",
      " 31  has_secondary_use_rental                86868 non-null  bool    \n",
      " 32  has_secondary_use_institution           86868 non-null  bool    \n",
      " 33  has_secondary_use_school                86868 non-null  bool    \n",
      " 34  has_secondary_use_industry              86868 non-null  bool    \n",
      " 35  has_secondary_use_health_post           86868 non-null  bool    \n",
      " 36  has_secondary_use_gov_office            86868 non-null  bool    \n",
      " 37  has_secondary_use_use_police            86868 non-null  bool    \n",
      " 38  has_secondary_use_other                 86868 non-null  bool    \n",
      "dtypes: bool(22), category(8), int16(3), int32(1), int8(5)\n",
      "memory usage: 3.7 MB\n"
     ]
    }
   ],
   "source": [
    "#Hacemos lo mismo con el set de test\n",
    "\n",
    "data_types = {\n",
    "    'land_surface_condition':'category',\n",
    "    'foundation_type':'category',\n",
    "    'roof_type':'category',\n",
    "    'ground_floor_type':'category',\n",
    "    'other_floor_type':'category',\n",
    "    'position':'category',\n",
    "    'plan_configuration':'category',\n",
    "    'has_superstructure_adobe_mud':bool,\n",
    "    'has_superstructure_mud_mortar_stone':bool,\n",
    "    'has_superstructure_stone_flag':bool,\n",
    "    'has_superstructure_cement_mortar_stone':bool,\n",
    "    'has_superstructure_mud_mortar_brick':bool,\n",
    "    'has_superstructure_cement_mortar_brick':bool,\n",
    "    'has_superstructure_timber':bool,\n",
    "    'has_superstructure_bamboo':bool,\n",
    "    'has_superstructure_rc_non_engineered':bool,\n",
    "    'has_superstructure_rc_engineered':bool,\n",
    "    'has_superstructure_other':bool,\n",
    "    'legal_ownership_status':'category',\n",
    "    'has_secondary_use':bool,\n",
    "    'has_secondary_use_agriculture':bool,\n",
    "    'has_secondary_use_hotel':bool,\n",
    "    'has_secondary_use_rental':bool,\n",
    "    'has_secondary_use_institution':bool,\n",
    "    'has_secondary_use_school':bool,\n",
    "    'has_secondary_use_industry':bool,\n",
    "    'has_secondary_use_health_post':bool,\n",
    "    'has_secondary_use_gov_office':bool,\n",
    "    'has_secondary_use_use_police':bool,\n",
    "    'has_secondary_use_other':bool\n",
    "    \n",
    "}\n",
    "\n",
    "test = pd.read_csv('test_values.csv', dtype=data_types)\n",
    "int_cols = test.select_dtypes('integer').columns\n",
    "test[int_cols] = test[int_cols].apply(pd.to_numeric, downcast='integer')\n",
    "test.info()"
   ]
  },
  {
   "cell_type": "code",
   "execution_count": 89,
   "metadata": {},
   "outputs": [],
   "source": [
    "train.to_pickle('../cleaned_train.pkl')\n",
    "test.to_pickle('../cleaned_test.pkl')"
   ]
  }
 ],
 "metadata": {
  "kernelspec": {
   "display_name": "Python 3",
   "language": "python",
   "name": "python3"
  },
  "language_info": {
   "codemirror_mode": {
    "name": "ipython",
    "version": 3
   },
   "file_extension": ".py",
   "mimetype": "text/x-python",
   "name": "python",
   "nbconvert_exporter": "python",
   "pygments_lexer": "ipython3",
   "version": "3.7.10"
  }
 },
 "nbformat": 4,
 "nbformat_minor": 4
}
