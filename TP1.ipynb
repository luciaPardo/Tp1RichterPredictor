{
 "cells": [
  {
   "cell_type": "markdown",
   "id": "02f32719-8458-4e0f-af09-cb870a59d913",
   "metadata": {},
   "source": [
    "# Trabajo Práctico 1\n",
    "## Análisis Exploratorio"
   ]
  },
  {
   "cell_type": "markdown",
   "id": "be36d5ee-3116-4fb3-9b7e-0e3ace539966",
   "metadata": {},
   "source": [
    "### Richter's Predictor: Modeling Earthquake Damage"
   ]
  },
  {
   "cell_type": "code",
   "execution_count": 1,
   "id": "6fc2dcca-4d7c-4602-b847-e3a03d1b639c",
   "metadata": {},
   "outputs": [],
   "source": [
    "import pandas as pd\n",
    "import numpy as np\n",
    "import seaborn as sns\n",
    "import matplotlib.pyplot as plt\n",
    "%matplotlib inline"
   ]
  },
  {
   "cell_type": "code",
   "execution_count": 2,
   "id": "01e45340-24e0-4a9c-9f41-909692edb18c",
   "metadata": {},
   "outputs": [],
   "source": [
    "data_types = {\n",
    "    'height_percentage':'category',\n",
    "    'land_surface_condition':'category',\n",
    "    'foundation_type':'category',\n",
    "    'roof_type':'category',\n",
    "    'ground_floor_type':'category',\n",
    "    'other_floor_type':'category',\n",
    "    'position':'category',\n",
    "    'plan_configuration':'category',\n",
    "    'has_superstructure_adobe_mud':bool,\n",
    "    'has_superstructure_mud_mortar_stone':bool,\n",
    "    'has_superstructure_stone_flag':bool,\n",
    "    'has_superstructure_cement_mortar_stone':bool,\n",
    "    'has_superstructure_mud_mortar_brick':bool,\n",
    "    'has_superstructure_cement_mortar_brick':bool,\n",
    "    'has_superstructure_timber':bool,\n",
    "    'has_superstructure_bamboo':bool,\n",
    "    'has_superstructure_rc_non_engineered':bool,\n",
    "    'has_superstructure_rc_engineered':bool,\n",
    "    'has_superstructure_other':bool,\n",
    "    'legal_ownership_status':'category',\n",
    "    'count_families':'category',\n",
    "    'has_secondary_use':bool,\n",
    "    'has_secondary_use_agriculture':bool,\n",
    "    'has_secondary_use_hotel':bool,\n",
    "    'has_secondary_use_rental':bool,\n",
    "    'has_secondary_use_institution':bool,\n",
    "    'has_secondary_use_school':bool,\n",
    "    'has_secondary_use_industry':bool,\n",
    "    'has_secondary_use_health_post':bool,\n",
    "    'has_secondary_use_gov_office':bool,\n",
    "    'has_secondary_use_use_police':bool,\n",
    "    'has_secondary_use_other':bool\n",
    "    \n",
    "}"
   ]
  },
  {
   "cell_type": "code",
   "execution_count": 3,
   "id": "57721162-b6a6-426c-9bb3-36af87bfbaa2",
   "metadata": {},
   "outputs": [],
   "source": [
    "labels = pd.read_csv(\"/home/mauricio/Documents/Datos/TP1/train_labels.csv\",\n",
    "                    dtype = {'damage_grade':'category'})\n",
    "values = pd.read_csv(\"/home/mauricio/Documents/Datos/TP1/train_values.csv\"\\\n",
    "                    ,dtype = data_types)"
   ]
  },
  {
   "cell_type": "code",
   "execution_count": 4,
   "id": "976c3428-930b-44ba-ad25-006c857610ce",
   "metadata": {},
   "outputs": [
    {
     "data": {
      "text/html": [
       "<div>\n",
       "<style scoped>\n",
       "    .dataframe tbody tr th:only-of-type {\n",
       "        vertical-align: middle;\n",
       "    }\n",
       "\n",
       "    .dataframe tbody tr th {\n",
       "        vertical-align: top;\n",
       "    }\n",
       "\n",
       "    .dataframe thead th {\n",
       "        text-align: right;\n",
       "    }\n",
       "</style>\n",
       "<table border=\"1\" class=\"dataframe\">\n",
       "  <thead>\n",
       "    <tr style=\"text-align: right;\">\n",
       "      <th></th>\n",
       "      <th>building_id</th>\n",
       "      <th>damage_grade</th>\n",
       "    </tr>\n",
       "  </thead>\n",
       "  <tbody>\n",
       "    <tr>\n",
       "      <th>0</th>\n",
       "      <td>802906</td>\n",
       "      <td>3</td>\n",
       "    </tr>\n",
       "    <tr>\n",
       "      <th>1</th>\n",
       "      <td>28830</td>\n",
       "      <td>2</td>\n",
       "    </tr>\n",
       "    <tr>\n",
       "      <th>2</th>\n",
       "      <td>94947</td>\n",
       "      <td>3</td>\n",
       "    </tr>\n",
       "    <tr>\n",
       "      <th>3</th>\n",
       "      <td>590882</td>\n",
       "      <td>2</td>\n",
       "    </tr>\n",
       "    <tr>\n",
       "      <th>4</th>\n",
       "      <td>201944</td>\n",
       "      <td>3</td>\n",
       "    </tr>\n",
       "  </tbody>\n",
       "</table>\n",
       "</div>"
      ],
      "text/plain": [
       "   building_id damage_grade\n",
       "0       802906            3\n",
       "1        28830            2\n",
       "2        94947            3\n",
       "3       590882            2\n",
       "4       201944            3"
      ]
     },
     "execution_count": 4,
     "metadata": {},
     "output_type": "execute_result"
    }
   ],
   "source": [
    "labels.head(5)"
   ]
  },
  {
   "cell_type": "code",
   "execution_count": 5,
   "id": "31b9c7bf-2448-4c8c-b761-f92d7d3405a5",
   "metadata": {},
   "outputs": [
    {
     "data": {
      "text/html": [
       "<div>\n",
       "<style scoped>\n",
       "    .dataframe tbody tr th:only-of-type {\n",
       "        vertical-align: middle;\n",
       "    }\n",
       "\n",
       "    .dataframe tbody tr th {\n",
       "        vertical-align: top;\n",
       "    }\n",
       "\n",
       "    .dataframe thead th {\n",
       "        text-align: right;\n",
       "    }\n",
       "</style>\n",
       "<table border=\"1\" class=\"dataframe\">\n",
       "  <thead>\n",
       "    <tr style=\"text-align: right;\">\n",
       "      <th></th>\n",
       "      <th>building_id</th>\n",
       "      <th>geo_level_1_id</th>\n",
       "      <th>geo_level_2_id</th>\n",
       "      <th>geo_level_3_id</th>\n",
       "      <th>count_floors_pre_eq</th>\n",
       "      <th>age</th>\n",
       "      <th>area_percentage</th>\n",
       "      <th>height_percentage</th>\n",
       "      <th>land_surface_condition</th>\n",
       "      <th>foundation_type</th>\n",
       "      <th>...</th>\n",
       "      <th>has_secondary_use_agriculture</th>\n",
       "      <th>has_secondary_use_hotel</th>\n",
       "      <th>has_secondary_use_rental</th>\n",
       "      <th>has_secondary_use_institution</th>\n",
       "      <th>has_secondary_use_school</th>\n",
       "      <th>has_secondary_use_industry</th>\n",
       "      <th>has_secondary_use_health_post</th>\n",
       "      <th>has_secondary_use_gov_office</th>\n",
       "      <th>has_secondary_use_use_police</th>\n",
       "      <th>has_secondary_use_other</th>\n",
       "    </tr>\n",
       "  </thead>\n",
       "  <tbody>\n",
       "    <tr>\n",
       "      <th>260596</th>\n",
       "      <td>688636</td>\n",
       "      <td>25</td>\n",
       "      <td>1335</td>\n",
       "      <td>1621</td>\n",
       "      <td>1</td>\n",
       "      <td>55</td>\n",
       "      <td>6</td>\n",
       "      <td>3</td>\n",
       "      <td>n</td>\n",
       "      <td>r</td>\n",
       "      <td>...</td>\n",
       "      <td>False</td>\n",
       "      <td>False</td>\n",
       "      <td>False</td>\n",
       "      <td>False</td>\n",
       "      <td>False</td>\n",
       "      <td>False</td>\n",
       "      <td>False</td>\n",
       "      <td>False</td>\n",
       "      <td>False</td>\n",
       "      <td>False</td>\n",
       "    </tr>\n",
       "    <tr>\n",
       "      <th>260597</th>\n",
       "      <td>669485</td>\n",
       "      <td>17</td>\n",
       "      <td>715</td>\n",
       "      <td>2060</td>\n",
       "      <td>2</td>\n",
       "      <td>0</td>\n",
       "      <td>6</td>\n",
       "      <td>5</td>\n",
       "      <td>t</td>\n",
       "      <td>r</td>\n",
       "      <td>...</td>\n",
       "      <td>False</td>\n",
       "      <td>False</td>\n",
       "      <td>False</td>\n",
       "      <td>False</td>\n",
       "      <td>False</td>\n",
       "      <td>False</td>\n",
       "      <td>False</td>\n",
       "      <td>False</td>\n",
       "      <td>False</td>\n",
       "      <td>False</td>\n",
       "    </tr>\n",
       "    <tr>\n",
       "      <th>260598</th>\n",
       "      <td>602512</td>\n",
       "      <td>17</td>\n",
       "      <td>51</td>\n",
       "      <td>8163</td>\n",
       "      <td>3</td>\n",
       "      <td>55</td>\n",
       "      <td>6</td>\n",
       "      <td>7</td>\n",
       "      <td>t</td>\n",
       "      <td>r</td>\n",
       "      <td>...</td>\n",
       "      <td>False</td>\n",
       "      <td>False</td>\n",
       "      <td>False</td>\n",
       "      <td>False</td>\n",
       "      <td>False</td>\n",
       "      <td>False</td>\n",
       "      <td>False</td>\n",
       "      <td>False</td>\n",
       "      <td>False</td>\n",
       "      <td>False</td>\n",
       "    </tr>\n",
       "    <tr>\n",
       "      <th>260599</th>\n",
       "      <td>151409</td>\n",
       "      <td>26</td>\n",
       "      <td>39</td>\n",
       "      <td>1851</td>\n",
       "      <td>2</td>\n",
       "      <td>10</td>\n",
       "      <td>14</td>\n",
       "      <td>6</td>\n",
       "      <td>t</td>\n",
       "      <td>r</td>\n",
       "      <td>...</td>\n",
       "      <td>False</td>\n",
       "      <td>False</td>\n",
       "      <td>False</td>\n",
       "      <td>False</td>\n",
       "      <td>False</td>\n",
       "      <td>False</td>\n",
       "      <td>False</td>\n",
       "      <td>False</td>\n",
       "      <td>False</td>\n",
       "      <td>False</td>\n",
       "    </tr>\n",
       "    <tr>\n",
       "      <th>260600</th>\n",
       "      <td>747594</td>\n",
       "      <td>21</td>\n",
       "      <td>9</td>\n",
       "      <td>9101</td>\n",
       "      <td>3</td>\n",
       "      <td>10</td>\n",
       "      <td>7</td>\n",
       "      <td>6</td>\n",
       "      <td>n</td>\n",
       "      <td>r</td>\n",
       "      <td>...</td>\n",
       "      <td>False</td>\n",
       "      <td>False</td>\n",
       "      <td>False</td>\n",
       "      <td>False</td>\n",
       "      <td>False</td>\n",
       "      <td>False</td>\n",
       "      <td>False</td>\n",
       "      <td>False</td>\n",
       "      <td>False</td>\n",
       "      <td>False</td>\n",
       "    </tr>\n",
       "  </tbody>\n",
       "</table>\n",
       "<p>5 rows × 39 columns</p>\n",
       "</div>"
      ],
      "text/plain": [
       "        building_id  geo_level_1_id  geo_level_2_id  geo_level_3_id  \\\n",
       "260596       688636              25            1335            1621   \n",
       "260597       669485              17             715            2060   \n",
       "260598       602512              17              51            8163   \n",
       "260599       151409              26              39            1851   \n",
       "260600       747594              21               9            9101   \n",
       "\n",
       "        count_floors_pre_eq  age  area_percentage height_percentage  \\\n",
       "260596                    1   55                6                 3   \n",
       "260597                    2    0                6                 5   \n",
       "260598                    3   55                6                 7   \n",
       "260599                    2   10               14                 6   \n",
       "260600                    3   10                7                 6   \n",
       "\n",
       "       land_surface_condition foundation_type  ...  \\\n",
       "260596                      n               r  ...   \n",
       "260597                      t               r  ...   \n",
       "260598                      t               r  ...   \n",
       "260599                      t               r  ...   \n",
       "260600                      n               r  ...   \n",
       "\n",
       "       has_secondary_use_agriculture has_secondary_use_hotel  \\\n",
       "260596                         False                   False   \n",
       "260597                         False                   False   \n",
       "260598                         False                   False   \n",
       "260599                         False                   False   \n",
       "260600                         False                   False   \n",
       "\n",
       "       has_secondary_use_rental has_secondary_use_institution  \\\n",
       "260596                    False                         False   \n",
       "260597                    False                         False   \n",
       "260598                    False                         False   \n",
       "260599                    False                         False   \n",
       "260600                    False                         False   \n",
       "\n",
       "       has_secondary_use_school  has_secondary_use_industry  \\\n",
       "260596                    False                       False   \n",
       "260597                    False                       False   \n",
       "260598                    False                       False   \n",
       "260599                    False                       False   \n",
       "260600                    False                       False   \n",
       "\n",
       "        has_secondary_use_health_post  has_secondary_use_gov_office  \\\n",
       "260596                          False                         False   \n",
       "260597                          False                         False   \n",
       "260598                          False                         False   \n",
       "260599                          False                         False   \n",
       "260600                          False                         False   \n",
       "\n",
       "        has_secondary_use_use_police  has_secondary_use_other  \n",
       "260596                         False                    False  \n",
       "260597                         False                    False  \n",
       "260598                         False                    False  \n",
       "260599                         False                    False  \n",
       "260600                         False                    False  \n",
       "\n",
       "[5 rows x 39 columns]"
      ]
     },
     "execution_count": 5,
     "metadata": {},
     "output_type": "execute_result"
    }
   ],
   "source": [
    "values.tail(5)"
   ]
  },
  {
   "cell_type": "code",
   "execution_count": 6,
   "id": "1f4a092d-8d24-460c-bcb6-c28cbc4b6cf3",
   "metadata": {},
   "outputs": [
    {
     "data": {
      "text/plain": [
       "count     260601\n",
       "unique         3\n",
       "top            2\n",
       "freq      148259\n",
       "Name: damage_grade, dtype: object"
      ]
     },
     "execution_count": 6,
     "metadata": {},
     "output_type": "execute_result"
    }
   ],
   "source": [
    "#damage_grade entre 1 y 3\n",
    "labels.damage_grade.describe()"
   ]
  },
  {
   "cell_type": "code",
   "execution_count": 7,
   "id": "f370f5a6-cf1a-48fc-a280-d84e0c276d36",
   "metadata": {},
   "outputs": [
    {
     "data": {
      "text/html": [
       "<div>\n",
       "<style scoped>\n",
       "    .dataframe tbody tr th:only-of-type {\n",
       "        vertical-align: middle;\n",
       "    }\n",
       "\n",
       "    .dataframe tbody tr th {\n",
       "        vertical-align: top;\n",
       "    }\n",
       "\n",
       "    .dataframe thead th {\n",
       "        text-align: right;\n",
       "    }\n",
       "</style>\n",
       "<table border=\"1\" class=\"dataframe\">\n",
       "  <thead>\n",
       "    <tr style=\"text-align: right;\">\n",
       "      <th></th>\n",
       "      <th>building_id</th>\n",
       "      <th>geo_level_1_id</th>\n",
       "      <th>geo_level_2_id</th>\n",
       "      <th>geo_level_3_id</th>\n",
       "      <th>count_floors_pre_eq</th>\n",
       "      <th>age</th>\n",
       "      <th>area_percentage</th>\n",
       "    </tr>\n",
       "  </thead>\n",
       "  <tbody>\n",
       "    <tr>\n",
       "      <th>count</th>\n",
       "      <td>2.606010e+05</td>\n",
       "      <td>260601.000000</td>\n",
       "      <td>260601.000000</td>\n",
       "      <td>260601.000000</td>\n",
       "      <td>260601.000000</td>\n",
       "      <td>260601.000000</td>\n",
       "      <td>260601.000000</td>\n",
       "    </tr>\n",
       "    <tr>\n",
       "      <th>mean</th>\n",
       "      <td>5.256755e+05</td>\n",
       "      <td>13.900353</td>\n",
       "      <td>701.074685</td>\n",
       "      <td>6257.876148</td>\n",
       "      <td>2.129723</td>\n",
       "      <td>26.535029</td>\n",
       "      <td>8.018051</td>\n",
       "    </tr>\n",
       "    <tr>\n",
       "      <th>std</th>\n",
       "      <td>3.045450e+05</td>\n",
       "      <td>8.033617</td>\n",
       "      <td>412.710734</td>\n",
       "      <td>3646.369645</td>\n",
       "      <td>0.727665</td>\n",
       "      <td>73.565937</td>\n",
       "      <td>4.392231</td>\n",
       "    </tr>\n",
       "    <tr>\n",
       "      <th>min</th>\n",
       "      <td>4.000000e+00</td>\n",
       "      <td>0.000000</td>\n",
       "      <td>0.000000</td>\n",
       "      <td>0.000000</td>\n",
       "      <td>1.000000</td>\n",
       "      <td>0.000000</td>\n",
       "      <td>1.000000</td>\n",
       "    </tr>\n",
       "    <tr>\n",
       "      <th>25%</th>\n",
       "      <td>2.611900e+05</td>\n",
       "      <td>7.000000</td>\n",
       "      <td>350.000000</td>\n",
       "      <td>3073.000000</td>\n",
       "      <td>2.000000</td>\n",
       "      <td>10.000000</td>\n",
       "      <td>5.000000</td>\n",
       "    </tr>\n",
       "    <tr>\n",
       "      <th>50%</th>\n",
       "      <td>5.257570e+05</td>\n",
       "      <td>12.000000</td>\n",
       "      <td>702.000000</td>\n",
       "      <td>6270.000000</td>\n",
       "      <td>2.000000</td>\n",
       "      <td>15.000000</td>\n",
       "      <td>7.000000</td>\n",
       "    </tr>\n",
       "    <tr>\n",
       "      <th>75%</th>\n",
       "      <td>7.897620e+05</td>\n",
       "      <td>21.000000</td>\n",
       "      <td>1050.000000</td>\n",
       "      <td>9412.000000</td>\n",
       "      <td>2.000000</td>\n",
       "      <td>30.000000</td>\n",
       "      <td>9.000000</td>\n",
       "    </tr>\n",
       "    <tr>\n",
       "      <th>max</th>\n",
       "      <td>1.052934e+06</td>\n",
       "      <td>30.000000</td>\n",
       "      <td>1427.000000</td>\n",
       "      <td>12567.000000</td>\n",
       "      <td>9.000000</td>\n",
       "      <td>995.000000</td>\n",
       "      <td>100.000000</td>\n",
       "    </tr>\n",
       "  </tbody>\n",
       "</table>\n",
       "</div>"
      ],
      "text/plain": [
       "        building_id  geo_level_1_id  geo_level_2_id  geo_level_3_id  \\\n",
       "count  2.606010e+05   260601.000000   260601.000000   260601.000000   \n",
       "mean   5.256755e+05       13.900353      701.074685     6257.876148   \n",
       "std    3.045450e+05        8.033617      412.710734     3646.369645   \n",
       "min    4.000000e+00        0.000000        0.000000        0.000000   \n",
       "25%    2.611900e+05        7.000000      350.000000     3073.000000   \n",
       "50%    5.257570e+05       12.000000      702.000000     6270.000000   \n",
       "75%    7.897620e+05       21.000000     1050.000000     9412.000000   \n",
       "max    1.052934e+06       30.000000     1427.000000    12567.000000   \n",
       "\n",
       "       count_floors_pre_eq            age  area_percentage  \n",
       "count        260601.000000  260601.000000    260601.000000  \n",
       "mean              2.129723      26.535029         8.018051  \n",
       "std               0.727665      73.565937         4.392231  \n",
       "min               1.000000       0.000000         1.000000  \n",
       "25%               2.000000      10.000000         5.000000  \n",
       "50%               2.000000      15.000000         7.000000  \n",
       "75%               2.000000      30.000000         9.000000  \n",
       "max               9.000000     995.000000       100.000000  "
      ]
     },
     "execution_count": 7,
     "metadata": {},
     "output_type": "execute_result"
    }
   ],
   "source": [
    "values.describe()\n",
    "#promedio de pisos 2, máx cantidad de pisos 9\n",
    "#edificios viejos, edad 995 años"
   ]
  },
  {
   "cell_type": "code",
   "execution_count": 8,
   "id": "b853ed71-63d6-426b-877b-1a6bd678fe8f",
   "metadata": {},
   "outputs": [
    {
     "name": "stdout",
     "output_type": "stream",
     "text": [
      "<class 'pandas.core.frame.DataFrame'>\n",
      "RangeIndex: 260601 entries, 0 to 260600\n",
      "Data columns (total 2 columns):\n",
      " #   Column        Non-Null Count   Dtype   \n",
      "---  ------        --------------   -----   \n",
      " 0   building_id   260601 non-null  int64   \n",
      " 1   damage_grade  260601 non-null  category\n",
      "dtypes: category(1), int64(1)\n",
      "memory usage: 2.2 MB\n"
     ]
    }
   ],
   "source": [
    "labels.info()"
   ]
  },
  {
   "cell_type": "code",
   "execution_count": 9,
   "id": "5b2d801e-a134-4b3c-b868-c0d7f5d7170b",
   "metadata": {},
   "outputs": [
    {
     "data": {
      "text/plain": [
       "(260601, 39)"
      ]
     },
     "execution_count": 9,
     "metadata": {},
     "output_type": "execute_result"
    }
   ],
   "source": [
    "values.shape\n",
    "#veo que no hay datos nulos (nans)"
   ]
  },
  {
   "cell_type": "code",
   "execution_count": 10,
   "id": "b51ebfa7-ed0d-485c-b550-69ca89788cdd",
   "metadata": {},
   "outputs": [
    {
     "name": "stdout",
     "output_type": "stream",
     "text": [
      "<class 'pandas.core.frame.DataFrame'>\n",
      "RangeIndex: 260601 entries, 0 to 260600\n",
      "Data columns (total 39 columns):\n",
      " #   Column                                  Non-Null Count   Dtype   \n",
      "---  ------                                  --------------   -----   \n",
      " 0   building_id                             260601 non-null  int64   \n",
      " 1   geo_level_1_id                          260601 non-null  int64   \n",
      " 2   geo_level_2_id                          260601 non-null  int64   \n",
      " 3   geo_level_3_id                          260601 non-null  int64   \n",
      " 4   count_floors_pre_eq                     260601 non-null  int64   \n",
      " 5   age                                     260601 non-null  int64   \n",
      " 6   area_percentage                         260601 non-null  int64   \n",
      " 7   height_percentage                       260601 non-null  category\n",
      " 8   land_surface_condition                  260601 non-null  category\n",
      " 9   foundation_type                         260601 non-null  category\n",
      " 10  roof_type                               260601 non-null  category\n",
      " 11  ground_floor_type                       260601 non-null  category\n",
      " 12  other_floor_type                        260601 non-null  category\n",
      " 13  position                                260601 non-null  category\n",
      " 14  plan_configuration                      260601 non-null  category\n",
      " 15  has_superstructure_adobe_mud            260601 non-null  bool    \n",
      " 16  has_superstructure_mud_mortar_stone     260601 non-null  bool    \n",
      " 17  has_superstructure_stone_flag           260601 non-null  bool    \n",
      " 18  has_superstructure_cement_mortar_stone  260601 non-null  bool    \n",
      " 19  has_superstructure_mud_mortar_brick     260601 non-null  bool    \n",
      " 20  has_superstructure_cement_mortar_brick  260601 non-null  bool    \n",
      " 21  has_superstructure_timber               260601 non-null  bool    \n",
      " 22  has_superstructure_bamboo               260601 non-null  bool    \n",
      " 23  has_superstructure_rc_non_engineered    260601 non-null  bool    \n",
      " 24  has_superstructure_rc_engineered        260601 non-null  bool    \n",
      " 25  has_superstructure_other                260601 non-null  bool    \n",
      " 26  legal_ownership_status                  260601 non-null  category\n",
      " 27  count_families                          260601 non-null  category\n",
      " 28  has_secondary_use                       260601 non-null  bool    \n",
      " 29  has_secondary_use_agriculture           260601 non-null  bool    \n",
      " 30  has_secondary_use_hotel                 260601 non-null  bool    \n",
      " 31  has_secondary_use_rental                260601 non-null  bool    \n",
      " 32  has_secondary_use_institution           260601 non-null  bool    \n",
      " 33  has_secondary_use_school                260601 non-null  bool    \n",
      " 34  has_secondary_use_industry              260601 non-null  bool    \n",
      " 35  has_secondary_use_health_post           260601 non-null  bool    \n",
      " 36  has_secondary_use_gov_office            260601 non-null  bool    \n",
      " 37  has_secondary_use_use_police            260601 non-null  bool    \n",
      " 38  has_secondary_use_other                 260601 non-null  bool    \n",
      "dtypes: bool(22), category(10), int64(7)\n",
      "memory usage: 21.9 MB\n"
     ]
    }
   ],
   "source": [
    "#veo los tipos de datos y si conviene parsearlos\n",
    "#había muchos datos binarios como int64\n",
    "#también datos category que eran objects\n",
    "values.info()"
   ]
  },
  {
   "cell_type": "code",
   "execution_count": 11,
   "id": "a5caae1c-a78f-418e-a274-2291800da169",
   "metadata": {},
   "outputs": [
    {
     "data": {
      "text/plain": [
       "0    t\n",
       "1    o\n",
       "6    n\n",
       "Name: land_surface_condition, dtype: category\n",
       "Categories (3, object): ['n', 'o', 't']"
      ]
     },
     "execution_count": 11,
     "metadata": {},
     "output_type": "execute_result"
    }
   ],
   "source": [
    "values.land_surface_condition.drop_duplicates()"
   ]
  },
  {
   "cell_type": "code",
   "execution_count": 12,
   "id": "cb0ff25b-6ed8-4f7b-9a26-e3c46993d260",
   "metadata": {},
   "outputs": [
    {
     "data": {
      "text/plain": [
       "0     r\n",
       "7     w\n",
       "9     i\n",
       "11    u\n",
       "34    h\n",
       "Name: foundation_type, dtype: category\n",
       "Categories (5, object): ['h', 'i', 'r', 'u', 'w']"
      ]
     },
     "execution_count": 12,
     "metadata": {},
     "output_type": "execute_result"
    }
   ],
   "source": [
    "values.foundation_type.drop_duplicates()"
   ]
  },
  {
   "cell_type": "code",
   "execution_count": 13,
   "id": "434fcf12-8f2a-4dd4-86de-5e967d3bd0cc",
   "metadata": {},
   "outputs": [
    {
     "data": {
      "text/plain": [
       "0        False\n",
       "27243     True\n",
       "Name: has_secondary_use_gov_office, dtype: bool"
      ]
     },
     "execution_count": 13,
     "metadata": {},
     "output_type": "execute_result"
    }
   ],
   "source": [
    "values.has_secondary_use_gov_office.drop_duplicates()"
   ]
  },
  {
   "cell_type": "code",
   "execution_count": 14,
   "id": "64d18e11-3e89-45e1-a199-d79cbc72b7ff",
   "metadata": {},
   "outputs": [
    {
     "data": {
      "text/plain": [
       "Index(['building_id', 'geo_level_1_id', 'geo_level_2_id', 'geo_level_3_id',\n",
       "       'count_floors_pre_eq', 'age', 'area_percentage', 'height_percentage',\n",
       "       'land_surface_condition', 'foundation_type', 'roof_type',\n",
       "       'ground_floor_type', 'other_floor_type', 'position',\n",
       "       'plan_configuration', 'has_superstructure_adobe_mud',\n",
       "       'has_superstructure_mud_mortar_stone', 'has_superstructure_stone_flag',\n",
       "       'has_superstructure_cement_mortar_stone',\n",
       "       'has_superstructure_mud_mortar_brick',\n",
       "       'has_superstructure_cement_mortar_brick', 'has_superstructure_timber',\n",
       "       'has_superstructure_bamboo', 'has_superstructure_rc_non_engineered',\n",
       "       'has_superstructure_rc_engineered', 'has_superstructure_other',\n",
       "       'legal_ownership_status', 'count_families', 'has_secondary_use',\n",
       "       'has_secondary_use_agriculture', 'has_secondary_use_hotel',\n",
       "       'has_secondary_use_rental', 'has_secondary_use_institution',\n",
       "       'has_secondary_use_school', 'has_secondary_use_industry',\n",
       "       'has_secondary_use_health_post', 'has_secondary_use_gov_office',\n",
       "       'has_secondary_use_use_police', 'has_secondary_use_other'],\n",
       "      dtype='object')"
      ]
     },
     "execution_count": 14,
     "metadata": {},
     "output_type": "execute_result"
    }
   ],
   "source": [
    "values.columns"
   ]
  },
  {
   "cell_type": "code",
   "execution_count": 15,
   "id": "aa2dc887-e6cc-438d-b453-07aa749bcf75",
   "metadata": {},
   "outputs": [
    {
     "data": {
      "text/plain": [
       "10163439"
      ]
     },
     "execution_count": 15,
     "metadata": {},
     "output_type": "execute_result"
    }
   ],
   "source": [
    "values.size"
   ]
  },
  {
   "cell_type": "code",
   "execution_count": 16,
   "id": "602c36f2-5faf-4aa1-9022-bf0daa3ffa24",
   "metadata": {},
   "outputs": [
    {
     "data": {
      "text/plain": [
       "RangeIndex(start=0, stop=260601, step=1)"
      ]
     },
     "execution_count": 16,
     "metadata": {},
     "output_type": "execute_result"
    }
   ],
   "source": [
    "values.index"
   ]
  },
  {
   "cell_type": "markdown",
   "id": "7fc5019d-2b58-40fb-943f-0f29d0b71323",
   "metadata": {},
   "source": [
    "## Cantidad de Pisos por Edificio %"
   ]
  },
  {
   "cell_type": "code",
   "execution_count": 17,
   "id": "8bbf4b55-8f1f-4ba3-85ac-717142337822",
   "metadata": {},
   "outputs": [],
   "source": [
    "cant_pisos_por_ed = values.loc[:,[\"count_floors_pre_eq\"]]\\\n",
    ".value_counts(normalize=True)\n"
   ]
  },
  {
   "cell_type": "code",
   "execution_count": 20,
   "id": "acaf92cc-4e3b-43fd-86d9-b182afa5d71b",
   "metadata": {},
   "outputs": [
    {
     "data": {
      "image/png": "[encoded data removed]",
      "text/plain": [
       "<Figure size 720x720 with 1 Axes>"
      ]
     },
     "metadata": {
      "needs_background": "light"
     },
     "output_type": "display_data"
    }
   ],
   "source": [
    "ax = cant_pisos_por_ed.plot.bar(color='blue',rot=0,figsize=(10,10),grid=True,fontsize=14)\n",
    "ax.set_ylabel('Cantidad de edificios',fontsize=14)\n",
    "ax.set_xlabel('Cantidad de pisos',fontsize=14)\n",
    "ax.set_title('Cantidad de Pisos por Edificios ',fontsize=18)\n",
    "ax.set_facecolor(\"lightblue\")\n",
    "\n",
    "#bar_labels = highest_buildings.values\n",
    "x_labels = values.count_floors_pre_eq.drop_duplicates().values\n",
    "ax.set_xticklabels(x_labels)\n",
    "\n",
    "plt.show()"
   ]
  },
  {
   "cell_type": "markdown",
   "id": "87e1c45a-4a87-4b44-8d1d-edc0d72d9e5d",
   "metadata": {},
   "source": [
    "### Daño según Cantidad de Pisos\n"
   ]
  },
  {
   "cell_type": "code",
   "execution_count": 22,
   "id": "41088356-854e-48d6-92e6-1c49fdf1ad12",
   "metadata": {},
   "outputs": [
    {
     "data": {
      "text/html": [
       "<div>\n",
       "<style scoped>\n",
       "    .dataframe tbody tr th:only-of-type {\n",
       "        vertical-align: middle;\n",
       "    }\n",
       "\n",
       "    .dataframe tbody tr th {\n",
       "        vertical-align: top;\n",
       "    }\n",
       "\n",
       "    .dataframe thead th {\n",
       "        text-align: right;\n",
       "    }\n",
       "</style>\n",
       "<table border=\"1\" class=\"dataframe\">\n",
       "  <thead>\n",
       "    <tr style=\"text-align: right;\">\n",
       "      <th></th>\n",
       "      <th>damage_grade</th>\n",
       "      <th>count_floors_pre_eq</th>\n",
       "    </tr>\n",
       "  </thead>\n",
       "  <tbody>\n",
       "    <tr>\n",
       "      <th>0</th>\n",
       "      <td>3</td>\n",
       "      <td>2</td>\n",
       "    </tr>\n",
       "    <tr>\n",
       "      <th>1</th>\n",
       "      <td>2</td>\n",
       "      <td>2</td>\n",
       "    </tr>\n",
       "    <tr>\n",
       "      <th>2</th>\n",
       "      <td>3</td>\n",
       "      <td>2</td>\n",
       "    </tr>\n",
       "    <tr>\n",
       "      <th>3</th>\n",
       "      <td>2</td>\n",
       "      <td>2</td>\n",
       "    </tr>\n",
       "    <tr>\n",
       "      <th>4</th>\n",
       "      <td>3</td>\n",
       "      <td>3</td>\n",
       "    </tr>\n",
       "    <tr>\n",
       "      <th>...</th>\n",
       "      <td>...</td>\n",
       "      <td>...</td>\n",
       "    </tr>\n",
       "    <tr>\n",
       "      <th>260596</th>\n",
       "      <td>2</td>\n",
       "      <td>1</td>\n",
       "    </tr>\n",
       "    <tr>\n",
       "      <th>260597</th>\n",
       "      <td>3</td>\n",
       "      <td>2</td>\n",
       "    </tr>\n",
       "    <tr>\n",
       "      <th>260598</th>\n",
       "      <td>3</td>\n",
       "      <td>3</td>\n",
       "    </tr>\n",
       "    <tr>\n",
       "      <th>260599</th>\n",
       "      <td>2</td>\n",
       "      <td>2</td>\n",
       "    </tr>\n",
       "    <tr>\n",
       "      <th>260600</th>\n",
       "      <td>3</td>\n",
       "      <td>3</td>\n",
       "    </tr>\n",
       "  </tbody>\n",
       "</table>\n",
       "<p>260601 rows × 2 columns</p>\n",
       "</div>"
      ],
      "text/plain": [
       "       damage_grade  count_floors_pre_eq\n",
       "0                 3                    2\n",
       "1                 2                    2\n",
       "2                 3                    2\n",
       "3                 2                    2\n",
       "4                 3                    3\n",
       "...             ...                  ...\n",
       "260596            2                    1\n",
       "260597            3                    2\n",
       "260598            3                    3\n",
       "260599            2                    2\n",
       "260600            3                    3\n",
       "\n",
       "[260601 rows x 2 columns]"
      ]
     },
     "execution_count": 22,
     "metadata": {},
     "output_type": "execute_result"
    }
   ],
   "source": [
    "daño_cant_pisos = values.loc[:,[\"building_id\",\"count_floors_pre_eq\"]]\\\n",
    ".merge(labels,on=\"building_id\",how='inner')\\\n",
    ".loc[:,[\"damage_grade\",\"count_floors_pre_eq\"]]\n",
    "daño_cant_pisos "
   ]
  },
  {
   "cell_type": "code",
   "execution_count": null,
   "id": "bafc310e-6776-4a9d-abff-1d5c716b385f",
   "metadata": {},
   "outputs": [],
   "source": [
    "ax = cant_pisos_por_ed.plot.bar(color='blue',rot=0,figsize=(10,10),grid=True,fontsize=14)\n",
    "ax.set_ylabel('Cantidad de edificios',fontsize=14)\n",
    "ax.set_xlabel('Cantidad de pisos',fontsize=14)\n",
    "ax.set_title('Cantidad de Pisos por Edificios ',fontsize=18)\n",
    "ax.set_facecolor(\"lightblue\")\n",
    "\n",
    "#bar_labels = highest_buildings.values\n",
    "x_labels = values.count_floors_pre_eq.drop_duplicates().values\n",
    "ax.set_xticklabels(x_labels)\n",
    "\n",
    "plt.show()"
   ]
  }
 ],
 "metadata": {
  "kernelspec": {
   "display_name": "Python 3",
   "language": "python",
   "name": "python3"
  },
  "language_info": {
   "codemirror_mode": {
    "name": "ipython",
    "version": 3
   },
   "file_extension": ".py",
   "mimetype": "text/x-python",
   "name": "python",
   "nbconvert_exporter": "python",
   "pygments_lexer": "ipython3",
   "version": "3.8.5"
  }
 },
 "nbformat": 4,
 "nbformat_minor": 5
}
